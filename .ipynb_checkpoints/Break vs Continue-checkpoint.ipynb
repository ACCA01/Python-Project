{
 "cells": [
  {
   "cell_type": "code",
   "execution_count": 1,
   "id": "da460004-b21d-4e89-b848-c367ae7023e2",
   "metadata": {},
   "outputs": [
    {
     "name": "stdout",
     "output_type": "stream",
     "text": [
      "0\n",
      "1\n",
      "2\n",
      "3\n",
      "4\n"
     ]
    }
   ],
   "source": [
    "for index in range (5): # 0-5 (5 is excluded as it doent include value of last number)\n",
    "    print (index)"
   ]
  },
  {
   "cell_type": "code",
   "execution_count": 6,
   "id": "8e7092a2-6f66-4c7f-b620-4255848cba33",
   "metadata": {},
   "outputs": [
    {
     "name": "stdout",
     "output_type": "stream",
     "text": [
      "0\n",
      "1\n",
      "3\n",
      "4\n"
     ]
    }
   ],
   "source": [
    "for index in range (5):   # (continue le continue bhanda muni ko code run gardain- skip garxa.)\n",
    "    if index == 2:\n",
    "        continue \n",
    "    print (index)"
   ]
  },
  {
   "cell_type": "code",
   "execution_count": 2,
   "id": "e127461f-4da1-4f12-be6a-96f5c474f953",
   "metadata": {},
   "outputs": [
    {
     "name": "stdout",
     "output_type": "stream",
     "text": [
      "0\n",
      "1\n"
     ]
    }
   ],
   "source": [
    "for index in range (5):\n",
    "    if index == 2:\n",
    "        break\n",
    "    print (index)"
   ]
  },
  {
   "cell_type": "code",
   "execution_count": 4,
   "id": "c5bb9cff-d557-4c20-9573-9e296cc398c2",
   "metadata": {},
   "outputs": [
    {
     "name": "stdout",
     "output_type": "stream",
     "text": [
      "0\n",
      "1\n",
      "2\n"
     ]
    }
   ],
   "source": [
    "for index in range (4):\n",
    "    if index == 3:\n",
    "        continue\n",
    "    print (index)"
   ]
  },
  {
   "cell_type": "code",
   "execution_count": 7,
   "id": "d3cd05df-1b7c-46cb-8fd1-9078afe59c17",
   "metadata": {},
   "outputs": [
    {
     "name": "stdout",
     "output_type": "stream",
     "text": [
      "0\n",
      "1\n"
     ]
    }
   ],
   "source": [
    "for index in range (4):\n",
    "    if index == 2:\n",
    "        break\n",
    "    print (index)"
   ]
  },
  {
   "cell_type": "code",
   "execution_count": null,
   "id": "264eb041-8752-4c2d-8929-920dea82fa2a",
   "metadata": {},
   "outputs": [],
   "source": []
  }
 ],
 "metadata": {
  "kernelspec": {
   "display_name": "Python 3 (ipykernel)",
   "language": "python",
   "name": "python3"
  },
  "language_info": {
   "codemirror_mode": {
    "name": "ipython",
    "version": 3
   },
   "file_extension": ".py",
   "mimetype": "text/x-python",
   "name": "python",
   "nbconvert_exporter": "python",
   "pygments_lexer": "ipython3",
   "version": "3.12.1"
  }
 },
 "nbformat": 4,
 "nbformat_minor": 5
}
