{
 "cells": [
  {
   "cell_type": "markdown",
   "id": "5989ff83-35ac-438c-9f3a-e638e50085d0",
   "metadata": {},
   "source": [
    "# Set\n",
    "* unindexed\n",
    "* unordered\n",
    "* dont allow duplicates\n",
    "* one of the built in data types\n",
    "* mutable data types"
   ]
  },
  {
   "cell_type": "code",
   "execution_count": 2,
   "id": "9df0b236-0f35-46bc-83fc-a4d0437a7ac7",
   "metadata": {},
   "outputs": [
    {
     "data": {
      "text/plain": [
       "{'bhat', 'chutney', 'dahi', 'dal', 'gheu', 'masu', 'salad'}"
      ]
     },
     "execution_count": 2,
     "metadata": {},
     "output_type": "execute_result"
    }
   ],
   "source": [
    "Thakali_set = {'dal', 'bhat', 'chutney', 'salad', 'dahi', 'masu', 'gheu'}\n",
    "Thakali_set"
   ]
  },
  {
   "cell_type": "code",
   "execution_count": 3,
   "id": "7bb64b54-c045-4481-9367-5604526abe4d",
   "metadata": {},
   "outputs": [
    {
     "ename": "TypeError",
     "evalue": "'set' object is not subscriptable",
     "output_type": "error",
     "traceback": [
      "\u001b[1;31m---------------------------------------------------------------------------\u001b[0m",
      "\u001b[1;31mTypeError\u001b[0m                                 Traceback (most recent call last)",
      "Cell \u001b[1;32mIn[3], line 1\u001b[0m\n\u001b[1;32m----> 1\u001b[0m \u001b[43mThakali_set\u001b[49m\u001b[43m[\u001b[49m\u001b[38;5;241;43m0\u001b[39;49m\u001b[43m]\u001b[49m\n",
      "\u001b[1;31mTypeError\u001b[0m: 'set' object is not subscriptable"
     ]
    }
   ],
   "source": [
    "Thakali_set[0]"
   ]
  },
  {
   "cell_type": "code",
   "execution_count": 4,
   "id": "b0bcf887-e034-4c20-9797-229d1b9ebb09",
   "metadata": {},
   "outputs": [],
   "source": [
    "# set is a mutable data types"
   ]
  },
  {
   "cell_type": "code",
   "execution_count": 6,
   "id": "311416ac-bbcb-43ef-889b-a3b047a8e94c",
   "metadata": {},
   "outputs": [
    {
     "data": {
      "text/plain": [
       "{'bhat', 'chutney', 'dahi', 'dal', 'gheu', 'masu', 'pappad', 'salad'}"
      ]
     },
     "execution_count": 6,
     "metadata": {},
     "output_type": "execute_result"
    }
   ],
   "source": [
    "Thakali_set = {'dal', 'bhat', 'chutney', 'salad', 'dahi', 'masu', 'gheu'}\n",
    "Thakali_set.add('pappad')\n",
    "Thakali_set"
   ]
  },
  {
   "cell_type": "code",
   "execution_count": 7,
   "id": "17ba3de5-a417-41d2-a04f-b7fe51759976",
   "metadata": {},
   "outputs": [
    {
     "data": {
      "text/plain": [
       "{'Gundruk',\n",
       " 'bhat',\n",
       " 'chutney',\n",
       " 'dahi',\n",
       " 'dal',\n",
       " 'gheu',\n",
       " 'masu',\n",
       " 'pappad',\n",
       " 'salad'}"
      ]
     },
     "execution_count": 7,
     "metadata": {},
     "output_type": "execute_result"
    }
   ],
   "source": [
    "Thakali_set.add ('Gundruk')\n",
    "Thakali_set"
   ]
  },
  {
   "cell_type": "code",
   "execution_count": 8,
   "id": "a37f3ea5-475a-4289-8435-86fc452ef0b7",
   "metadata": {},
   "outputs": [
    {
     "data": {
      "text/plain": [
       "{'Gundruk', 'bhat', 'chutney', 'dahi', 'gheu', 'masu', 'pappad', 'salad'}"
      ]
     },
     "execution_count": 8,
     "metadata": {},
     "output_type": "execute_result"
    }
   ],
   "source": [
    "Thakali_set.remove('dal')\n",
    "Thakali_set"
   ]
  },
  {
   "cell_type": "code",
   "execution_count": 9,
   "id": "b6c51b6f-e895-4ee1-a917-e1650f646549",
   "metadata": {},
   "outputs": [
    {
     "ename": "KeyError",
     "evalue": "'dhido'",
     "output_type": "error",
     "traceback": [
      "\u001b[1;31m---------------------------------------------------------------------------\u001b[0m",
      "\u001b[1;31mKeyError\u001b[0m                                  Traceback (most recent call last)",
      "Cell \u001b[1;32mIn[9], line 1\u001b[0m\n\u001b[1;32m----> 1\u001b[0m \u001b[43mThakali_set\u001b[49m\u001b[38;5;241;43m.\u001b[39;49m\u001b[43mremove\u001b[49m\u001b[43m \u001b[49m\u001b[43m(\u001b[49m\u001b[38;5;124;43m'\u001b[39;49m\u001b[38;5;124;43mdhido\u001b[39;49m\u001b[38;5;124;43m'\u001b[39;49m\u001b[43m)\u001b[49m\n\u001b[0;32m      2\u001b[0m Thakali_set\n",
      "\u001b[1;31mKeyError\u001b[0m: 'dhido'"
     ]
    }
   ],
   "source": [
    "Thakali_set.remove ('dhido')\n",
    "Thakali_set"
   ]
  },
  {
   "cell_type": "code",
   "execution_count": 10,
   "id": "6cb32a1c-b9dc-40d1-a03f-70a0adcbe573",
   "metadata": {},
   "outputs": [
    {
     "data": {
      "text/plain": [
       "{'Gundruk',\n",
       " 'bhat',\n",
       " 'chutney',\n",
       " 'dahi',\n",
       " 'dhido',\n",
       " 'gheu',\n",
       " 'masu',\n",
       " 'pappad',\n",
       " 'salad'}"
      ]
     },
     "execution_count": 10,
     "metadata": {},
     "output_type": "execute_result"
    }
   ],
   "source": [
    "Thakali_set.add ('dhido')\n",
    "Thakali_set"
   ]
  },
  {
   "cell_type": "code",
   "execution_count": 12,
   "id": "0a9ef4a7-4e41-45e9-b5ac-600894c3756a",
   "metadata": {},
   "outputs": [],
   "source": [
    "Thakali_set = {'dal', 'bhat', 'chutney', 'salad', 'dahi', 'masu', 'gheu'}\n",
    "Thakali_set.discard('Dhido')"
   ]
  },
  {
   "cell_type": "code",
   "execution_count": 13,
   "id": "e88aaffc-3c9f-4558-bb0f-da0671d5da1e",
   "metadata": {},
   "outputs": [],
   "source": [
    "# discard le item exist garxa bhane remove garxa ; if exist gardaina bhane ignore garxa"
   ]
  },
  {
   "cell_type": "code",
   "execution_count": 14,
   "id": "958db942-30f7-465b-928e-0d5aa05dcd86",
   "metadata": {},
   "outputs": [],
   "source": [
    "# set lai type casting garna milxa- type casting to list or tuple from set is possible"
   ]
  },
  {
   "cell_type": "code",
   "execution_count": 15,
   "id": "c61b924a-9579-4a90-a077-9f0d2391cff1",
   "metadata": {},
   "outputs": [
    {
     "data": {
      "text/plain": [
       "['bhat', 'gheu', 'chutney', 'masu', 'dal', 'dahi', 'salad']"
      ]
     },
     "execution_count": 15,
     "metadata": {},
     "output_type": "execute_result"
    }
   ],
   "source": [
    "Thakali_set = {'dal', 'bhat', 'chutney', 'salad', 'dahi', 'masu', 'gheu'}\n",
    "list (Thakali_set)"
   ]
  },
  {
   "cell_type": "code",
   "execution_count": 17,
   "id": "aa9d0c52-2d69-400f-b436-31a36831188c",
   "metadata": {},
   "outputs": [
    {
     "data": {
      "text/plain": [
       "{2, 3, 4, 5}"
      ]
     },
     "execution_count": 17,
     "metadata": {},
     "output_type": "execute_result"
    }
   ],
   "source": [
    "a = [2, 3, 4, 5, 2, 3, 4] # set le duplicate value remove gar6A\n",
    "set(a)"
   ]
  },
  {
   "cell_type": "code",
   "execution_count": 18,
   "id": "d64272df-a91b-46e8-92a9-1189ddd456e7",
   "metadata": {},
   "outputs": [],
   "source": [
    "A = {'apple', 'banana', 'chhery'}\n",
    "B = {'google', 'microsoft', 'apple'}"
   ]
  },
  {
   "cell_type": "code",
   "execution_count": 19,
   "id": "8825c0b8-377a-4530-8df5-58dabee949a9",
   "metadata": {},
   "outputs": [
    {
     "data": {
      "text/plain": [
       "{'apple'}"
      ]
     },
     "execution_count": 19,
     "metadata": {},
     "output_type": "execute_result"
    }
   ],
   "source": [
    "A.intersection(B)"
   ]
  },
  {
   "cell_type": "code",
   "execution_count": 20,
   "id": "b959a3f1-a25d-4dc9-b82a-58984aae066c",
   "metadata": {},
   "outputs": [
    {
     "data": {
      "text/plain": [
       "{'apple', 'banana', 'chhery', 'google', 'microsoft'}"
      ]
     },
     "execution_count": 20,
     "metadata": {},
     "output_type": "execute_result"
    }
   ],
   "source": [
    "A.union(B)"
   ]
  },
  {
   "cell_type": "code",
   "execution_count": 21,
   "id": "e218c853-0236-48e0-b9a6-49d5849bb943",
   "metadata": {},
   "outputs": [
    {
     "data": {
      "text/plain": [
       "{'banana', 'chhery'}"
      ]
     },
     "execution_count": 21,
     "metadata": {},
     "output_type": "execute_result"
    }
   ],
   "source": [
    "A.difference(B)"
   ]
  },
  {
   "cell_type": "code",
   "execution_count": 22,
   "id": "08df9b68-4bf0-487a-ba45-f131907ef8c8",
   "metadata": {},
   "outputs": [
    {
     "data": {
      "text/plain": [
       "{'banana', 'chhery'}"
      ]
     },
     "execution_count": 22,
     "metadata": {},
     "output_type": "execute_result"
    }
   ],
   "source": [
    "A-B"
   ]
  },
  {
   "cell_type": "code",
   "execution_count": 25,
   "id": "86ccbfa8-52ab-4663-af97-ff537227c761",
   "metadata": {},
   "outputs": [
    {
     "data": {
      "text/plain": [
       "{'google', 'microsoft'}"
      ]
     },
     "execution_count": 25,
     "metadata": {},
     "output_type": "execute_result"
    }
   ],
   "source": [
    "B.difference(A)"
   ]
  },
  {
   "cell_type": "code",
   "execution_count": 26,
   "id": "29308710-86b0-4b5e-b615-c3c361ef3336",
   "metadata": {},
   "outputs": [
    {
     "data": {
      "text/plain": [
       "{'google', 'microsoft'}"
      ]
     },
     "execution_count": 26,
     "metadata": {},
     "output_type": "execute_result"
    }
   ],
   "source": [
    "B-A"
   ]
  },
  {
   "cell_type": "markdown",
   "id": "6e30e537-2fd5-4972-9dbd-d9010589a74b",
   "metadata": {},
   "source": [
    "# Other set type : frozen set - Frozen set is just an immutable version of python set object."
   ]
  },
  {
   "cell_type": "code",
   "execution_count": 28,
   "id": "1c2248a1-b8a0-4fd2-9967-80eddee52141",
   "metadata": {},
   "outputs": [
    {
     "data": {
      "text/plain": [
       "frozenset"
      ]
     },
     "execution_count": 28,
     "metadata": {},
     "output_type": "execute_result"
    }
   ],
   "source": [
    "s = {'google', 'microsoft'}\n",
    "s_frozen = frozenset(s)\n",
    "type(s_frozen)"
   ]
  },
  {
   "cell_type": "code",
   "execution_count": 31,
   "id": "61ee8f60-0ac2-4133-a1ec-8d774f5c23c6",
   "metadata": {},
   "outputs": [
    {
     "ename": "AttributeError",
     "evalue": "'frozenset' object has no attribute 'add'",
     "output_type": "error",
     "traceback": [
      "\u001b[1;31m---------------------------------------------------------------------------\u001b[0m",
      "\u001b[1;31mAttributeError\u001b[0m                            Traceback (most recent call last)",
      "Cell \u001b[1;32mIn[31], line 1\u001b[0m\n\u001b[1;32m----> 1\u001b[0m \u001b[43ms_frozen\u001b[49m\u001b[38;5;241;43m.\u001b[39;49m\u001b[43madd\u001b[49m(\u001b[38;5;124m'\u001b[39m\u001b[38;5;124mmeta\u001b[39m\u001b[38;5;124m'\u001b[39m)\n",
      "\u001b[1;31mAttributeError\u001b[0m: 'frozenset' object has no attribute 'add'"
     ]
    }
   ],
   "source": [
    "s_frozen.add('meta')"
   ]
  },
  {
   "cell_type": "code",
   "execution_count": null,
   "id": "9d9b400b-f516-4b6b-bf1f-aa78dbc14838",
   "metadata": {},
   "outputs": [],
   "source": []
  }
 ],
 "metadata": {
  "kernelspec": {
   "display_name": "Python 3 (ipykernel)",
   "language": "python",
   "name": "python3"
  },
  "language_info": {
   "codemirror_mode": {
    "name": "ipython",
    "version": 3
   },
   "file_extension": ".py",
   "mimetype": "text/x-python",
   "name": "python",
   "nbconvert_exporter": "python",
   "pygments_lexer": "ipython3",
   "version": "3.12.1"
  }
 },
 "nbformat": 4,
 "nbformat_minor": 5
}
