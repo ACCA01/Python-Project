{
 "cells": [
  {
   "cell_type": "code",
   "execution_count": 1,
   "id": "4c9b8e37-bc44-40d5-92f3-1df9b84ebf6f",
   "metadata": {},
   "outputs": [
    {
     "name": "stdout",
     "output_type": "stream",
     "text": [
      "--------\n",
      "i = 0\n",
      "---------\n",
      "j = 0\n",
      "j = 1\n",
      "j = 2\n",
      "--------\n",
      "i = 1\n",
      "---------\n",
      "j = 0\n",
      "j = 1\n",
      "j = 2\n",
      "--------\n",
      "i = 2\n",
      "---------\n",
      "j = 0\n",
      "j = 1\n",
      "j = 2\n",
      "--------\n",
      "i = 3\n",
      "---------\n",
      "j = 0\n",
      "j = 1\n",
      "j = 2\n",
      "--------\n",
      "i = 4\n",
      "---------\n",
      "j = 0\n",
      "j = 1\n",
      "j = 2\n"
     ]
    }
   ],
   "source": [
    "for i in range(5):\n",
    "    print ('--------')\n",
    "    print(f'i = {i}')\n",
    "    print ('---------')\n",
    "    for j in range (3):\n",
    "        print (f'j = {j}')"
   ]
  },
  {
   "cell_type": "code",
   "execution_count": 2,
   "id": "29155287-b1d4-4355-8992-aaa2d3913adb",
   "metadata": {},
   "outputs": [],
   "source": [
    "data = [ [4, 5], [1, 6, 7], [66, 2, 1, 3, 1]]"
   ]
  },
  {
   "cell_type": "code",
   "execution_count": 3,
   "id": "5b36f329-716b-4bd3-8b2e-9fc7eb3680ab",
   "metadata": {},
   "outputs": [
    {
     "data": {
      "text/plain": [
       "list"
      ]
     },
     "execution_count": 3,
     "metadata": {},
     "output_type": "execute_result"
    }
   ],
   "source": [
    "type(data)"
   ]
  },
  {
   "cell_type": "code",
   "execution_count": 4,
   "id": "e8bf4faa-db82-480c-8063-2975e58e2ace",
   "metadata": {},
   "outputs": [
    {
     "name": "stdout",
     "output_type": "stream",
     "text": [
      "[4, 5]\n",
      "[1, 6, 7]\n",
      "[66, 2, 1, 3, 1]\n"
     ]
    }
   ],
   "source": [
    "for item in data:\n",
    "    print(item)"
   ]
  },
  {
   "cell_type": "code",
   "execution_count": 9,
   "id": "16068eb6-ac26-4e3f-bd1b-2e3c2c8deea5",
   "metadata": {},
   "outputs": [
    {
     "name": "stdout",
     "output_type": "stream",
     "text": [
      "[4, 5]\n",
      "[1, 6, 7]\n",
      "[66, 2, 1, 3, 1]\n"
     ]
    }
   ],
   "source": [
    "output= []\n",
    "for item in data:\n",
    "    print(item)"
   ]
  },
  {
   "cell_type": "code",
   "execution_count": 6,
   "id": "d454797a-9a69-443a-9a1a-1bd57ac6bad5",
   "metadata": {},
   "outputs": [
    {
     "data": {
      "text/plain": [
       "9"
      ]
     },
     "execution_count": 6,
     "metadata": {},
     "output_type": "execute_result"
    }
   ],
   "source": [
    "item = [4,5]\n",
    "total = 0\n",
    "for i in item:\n",
    "    total = total + i\n",
    "total"
   ]
  },
  {
   "cell_type": "code",
   "execution_count": 7,
   "id": "9ecb4a77-c582-46f4-a6d9-2a811295ae6b",
   "metadata": {},
   "outputs": [],
   "source": [
    "data = [ [4, 5], [1, 6, 7], [66, 2, 1, 3, 1]]\n",
    "output = []\n",
    "for item in data:\n",
    "    total = 0\n",
    "    for i in item:\n",
    "        total = total + i\n",
    "    output.append(total)"
   ]
  },
  {
   "cell_type": "code",
   "execution_count": 8,
   "id": "de37e8c0-3cf6-4245-9efb-a1c38bb46fce",
   "metadata": {},
   "outputs": [
    {
     "data": {
      "text/plain": [
       "[9, 14, 73]"
      ]
     },
     "execution_count": 8,
     "metadata": {},
     "output_type": "execute_result"
    }
   ],
   "source": [
    "output"
   ]
  },
  {
   "cell_type": "markdown",
   "id": "776a28ff-5f52-4da2-b359-be64a8c6ae99",
   "metadata": {},
   "source": [
    "# while loop"
   ]
  },
  {
   "cell_type": "code",
   "execution_count": 10,
   "id": "add00b20-ad73-4823-946b-14b590037dd4",
   "metadata": {},
   "outputs": [],
   "source": [
    "data = [7, 9, 6]"
   ]
  },
  {
   "cell_type": "markdown",
   "id": "df49d490-37db-4d7f-8da4-61d16ee4e160",
   "metadata": {},
   "source": [
    "``` python\n",
    "while True:\n",
    "    # body of while\n",
    "```"
   ]
  },
  {
   "cell_type": "code",
   "execution_count": 12,
   "id": "eb7cc01a-73b2-43cb-8ca6-494979b225e2",
   "metadata": {},
   "outputs": [],
   "source": [
    "data = [7, 9, 6]\n",
    "total = 0\n",
    "index = 0\n",
    "while index < len(data):\n",
    "    item = data[index]\n",
    "    total = total + item\n",
    "    index = index + 1"
   ]
  },
  {
   "cell_type": "code",
   "execution_count": 13,
   "id": "3331a16e-e1b5-43fa-956f-043af201844b",
   "metadata": {},
   "outputs": [
    {
     "data": {
      "text/plain": [
       "22"
      ]
     },
     "execution_count": 13,
     "metadata": {},
     "output_type": "execute_result"
    }
   ],
   "source": [
    "total"
   ]
  },
  {
   "cell_type": "code",
   "execution_count": 7,
   "id": "595a231a-0b70-4a45-aa18-f4f243c9844f",
   "metadata": {},
   "outputs": [
    {
     "data": {
      "text/plain": [
       "11.333333333333334"
      ]
     },
     "execution_count": 7,
     "metadata": {},
     "output_type": "execute_result"
    }
   ],
   "source": [
    "data = [10, 9, 15]\n",
    "total = 0\n",
    "index = 0\n",
    "while index < len (data):\n",
    "    item = data[index]\n",
    "    total = total + item\n",
    "    index = index + 1\n",
    "mean = total / index\n",
    "mean"
   ]
  },
  {
   "cell_type": "code",
   "execution_count": null,
   "id": "7c1060c6-1779-4352-a835-6c04be77a031",
   "metadata": {},
   "outputs": [],
   "source": []
  }
 ],
 "metadata": {
  "kernelspec": {
   "display_name": "Python 3 (ipykernel)",
   "language": "python",
   "name": "python3"
  },
  "language_info": {
   "codemirror_mode": {
    "name": "ipython",
    "version": 3
   },
   "file_extension": ".py",
   "mimetype": "text/x-python",
   "name": "python",
   "nbconvert_exporter": "python",
   "pygments_lexer": "ipython3",
   "version": "3.12.1"
  }
 },
 "nbformat": 4,
 "nbformat_minor": 5
}
