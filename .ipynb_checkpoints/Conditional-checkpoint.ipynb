{
 "cells": [
  {
   "cell_type": "code",
   "execution_count": 3,
   "id": "fc54035f-2bd7-46c4-92e6-64e0658a1715",
   "metadata": {},
   "outputs": [
    {
     "name": "stdout",
     "output_type": "stream",
     "text": [
      "hello\n",
      "this is after if & else\n"
     ]
    }
   ],
   "source": [
    "if True:\n",
    "    print (\"hello\")\n",
    "else:\n",
    "    print (\"bye\")\n",
    "print (\"this is after if & else\")"
   ]
  },
  {
   "cell_type": "code",
   "execution_count": 10,
   "id": "df942a5a-4e45-475b-9cec-dc71871f6caa",
   "metadata": {},
   "outputs": [
    {
     "name": "stdout",
     "output_type": "stream",
     "text": [
      "bye\n",
      "this is after if & else\n"
     ]
    }
   ],
   "source": [
    "if False:\n",
    "    print (\"hello\")\n",
    "else:\n",
    "    print (\"bye\")\n",
    "print(\"this is after if & else\")"
   ]
  },
  {
   "cell_type": "code",
   "execution_count": 3,
   "id": "8ac1ba85-2029-441b-9499-8b193e5291c4",
   "metadata": {},
   "outputs": [
    {
     "name": "stdout",
     "output_type": "stream",
     "text": [
      "HI SURESH\n",
      "this indicates suresh is True\n"
     ]
    }
   ],
   "source": [
    "if True:\n",
    "    print(\"HI SURESH\")\n",
    "else:\n",
    "    Print (\"NO\")\n",
    "print(\"this indicates suresh is True\")"
   ]
  },
  {
   "cell_type": "markdown",
   "id": "6097a0b7-c2b5-4ea6-be6a-081b2cb4339c",
   "metadata": {},
   "source": [
    "#if true bhayo bhane if ko code run garne. if false bhayo bhane false ko case run garne"
   ]
  },
  {
   "cell_type": "code",
   "execution_count": 5,
   "id": "0dbc26dc-928f-40d1-a8b3-db234c696f5c",
   "metadata": {},
   "outputs": [],
   "source": [
    "age = 18"
   ]
  },
  {
   "cell_type": "code",
   "execution_count": 6,
   "id": "f9053519-4d22-4108-813c-3779c3dffd76",
   "metadata": {},
   "outputs": [
    {
     "data": {
      "text/plain": [
       "True"
      ]
     },
     "execution_count": 6,
     "metadata": {},
     "output_type": "execute_result"
    }
   ],
   "source": [
    "age >= 18"
   ]
  },
  {
   "cell_type": "code",
   "execution_count": 7,
   "id": "83c676e6-1fe2-4717-9d42-75dead165a5f",
   "metadata": {},
   "outputs": [
    {
     "name": "stdout",
     "output_type": "stream",
     "text": [
      "you are eligible to vote\n"
     ]
    }
   ],
   "source": [
    "age = 22\n",
    "if age>= 18:\n",
    "    print (\"you are eligible to vote\")\n",
    "else:\n",
    "    print (\"you are underage\")"
   ]
  },
  {
   "cell_type": "code",
   "execution_count": 9,
   "id": "9e95d14f-06da-4b39-95ad-ee787da57102",
   "metadata": {},
   "outputs": [
    {
     "name": "stdout",
     "output_type": "stream",
     "text": [
      "you are underage\n"
     ]
    }
   ],
   "source": [
    "age = 17\n",
    "if age>= 18: # condition/ expression_ expression always returns a value. value itself is an expression.\n",
    "    print (\"you are eligible to vote\") # 4 spaces means indentation\n",
    "else:\n",
    "    print (\"you are underage\")"
   ]
  },
  {
   "cell_type": "code",
   "execution_count": 12,
   "id": "3dca114c-9620-44d9-be79-61f6065ef352",
   "metadata": {},
   "outputs": [
    {
     "name": "stdout",
     "output_type": "stream",
     "text": [
      "both are equal\n"
     ]
    }
   ],
   "source": [
    "if 10 == 10:\n",
    "    print('both are equal')"
   ]
  },
  {
   "cell_type": "code",
   "execution_count": 13,
   "id": "0aa671c4-f24d-4804-b50b-f5f4a9fe6905",
   "metadata": {},
   "outputs": [
    {
     "ename": "IndentationError",
     "evalue": "expected an indented block after 'if' statement on line 1 (3955838690.py, line 2)",
     "output_type": "error",
     "traceback": [
      "\u001b[1;36m  Cell \u001b[1;32mIn[13], line 2\u001b[1;36m\u001b[0m\n\u001b[1;33m    print('both are equal')\u001b[0m\n\u001b[1;37m    ^\u001b[0m\n\u001b[1;31mIndentationError\u001b[0m\u001b[1;31m:\u001b[0m expected an indented block after 'if' statement on line 1\n"
     ]
    }
   ],
   "source": [
    "if 10 == 10:\n",
    "print('both are equal')"
   ]
  },
  {
   "cell_type": "markdown",
   "id": "20dc73a6-66c5-4f43-b5ff-1a7c670e9aff",
   "metadata": {},
   "source": [
    "# write a program to identify if user given an input number is +ve or -ve & print respective message."
   ]
  },
  {
   "cell_type": "code",
   "execution_count": 14,
   "id": "47a2fbed-e75f-400c-a001-82f6c2d8e63c",
   "metadata": {},
   "outputs": [
    {
     "name": "stdout",
     "output_type": "stream",
     "text": [
      "positive\n"
     ]
    }
   ],
   "source": [
    "num = 10\n",
    "if num >= 0:\n",
    "    print(\"positive\")\n",
    "else:\n",
    "    print (\"negative\")"
   ]
  },
  {
   "cell_type": "code",
   "execution_count": 2,
   "id": "0c26b086-03ff-4415-b9f0-b1d727065742",
   "metadata": {},
   "outputs": [
    {
     "name": "stdin",
     "output_type": "stream",
     "text": [
      "enter a number :  -8\n"
     ]
    },
    {
     "name": "stdout",
     "output_type": "stream",
     "text": [
      "the number is negative\n"
     ]
    }
   ],
   "source": [
    "num = int (input(\"enter a number : \"))\n",
    "if num >= 0:\n",
    "    print (\"the number is positive\")\n",
    "else:\n",
    "    print (\"the number is negative\")"
   ]
  },
  {
   "cell_type": "markdown",
   "id": "b719c4de-7e77-4951-a1e5-a429d53408c1",
   "metadata": {},
   "source": [
    "# write a program to identify if the user given input is odd or even."
   ]
  },
  {
   "cell_type": "code",
   "execution_count": 3,
   "id": "98b322e1-cb57-4a37-8ffe-feea265099f3",
   "metadata": {},
   "outputs": [
    {
     "data": {
      "text/plain": [
       "1"
      ]
     },
     "execution_count": 3,
     "metadata": {},
     "output_type": "execute_result"
    }
   ],
   "source": [
    "5 % 2"
   ]
  },
  {
   "cell_type": "code",
   "execution_count": 4,
   "id": "fce644de-f60f-43db-8b4e-157db4885f95",
   "metadata": {},
   "outputs": [
    {
     "data": {
      "text/plain": [
       "0"
      ]
     },
     "execution_count": 4,
     "metadata": {},
     "output_type": "execute_result"
    }
   ],
   "source": [
    "4 % 2"
   ]
  },
  {
   "cell_type": "code",
   "execution_count": 5,
   "id": "b6ca3dd5-98a5-4131-9afb-e20b759587bb",
   "metadata": {},
   "outputs": [
    {
     "name": "stdout",
     "output_type": "stream",
     "text": [
      "the number is odd\n"
     ]
    }
   ],
   "source": [
    "num = 5\n",
    "if num % 2 == 0:\n",
    "    print (\"the number is even\")\n",
    "else:\n",
    "    print (\"the number is odd\")"
   ]
  },
  {
   "cell_type": "code",
   "execution_count": 6,
   "id": "91e5bb43-5e77-422e-891e-2385ba9de802",
   "metadata": {},
   "outputs": [
    {
     "name": "stdin",
     "output_type": "stream",
     "text": [
      "enter a number :  80\n"
     ]
    },
    {
     "name": "stdout",
     "output_type": "stream",
     "text": [
      "the number is even\n"
     ]
    }
   ],
   "source": [
    "num = int (input (\"enter a number : \"))\n",
    "if num % 2 == 0:\n",
    "    print (\"the number is even\")\n",
    "else:\n",
    "    print(\"the number is odd\")"
   ]
  },
  {
   "cell_type": "code",
   "execution_count": 7,
   "id": "54e6cae5-b368-43b0-943d-1f3f86882524",
   "metadata": {},
   "outputs": [],
   "source": [
    "# write a program to check if user given a input whether it is positive, negative or neutral."
   ]
  },
  {
   "cell_type": "markdown",
   "id": "8b3090bb-6a01-4cc3-ba5e-799f007f1098",
   "metadata": {},
   "source": [
    "# Nesting of Conditional:"
   ]
  },
  {
   "cell_type": "code",
   "execution_count": 4,
   "id": "d47b11ce-1de1-4b41-9f15-5efe4768eb70",
   "metadata": {},
   "outputs": [
    {
     "name": "stdout",
     "output_type": "stream",
     "text": [
      "negative\n"
     ]
    }
   ],
   "source": [
    "num = -5\n",
    "if num > 0:\n",
    "    print (\"positive\")\n",
    "if num < 0:\n",
    "    print (\"negative\")\n",
    "if num == 0:\n",
    "    print (\"neutral\")\n",
    "    "
   ]
  },
  {
   "cell_type": "code",
   "execution_count": 12,
   "id": "5a1013e8-9b6e-4be6-8e15-616d2ae1e2e4",
   "metadata": {},
   "outputs": [
    {
     "name": "stdout",
     "output_type": "stream",
     "text": [
      "neutral\n"
     ]
    }
   ],
   "source": [
    "num = 0\n",
    "if num < 0:\n",
    "    print(\"negative\")\n",
    "else:\n",
    "    if num == 0:\n",
    "        print (\"neutral\")\n",
    "    else:\n",
    "        print (\"positive\")"
   ]
  },
  {
   "cell_type": "code",
   "execution_count": 13,
   "id": "5710a5ee-dfce-4b8a-9640-65f539385098",
   "metadata": {},
   "outputs": [
    {
     "name": "stdout",
     "output_type": "stream",
     "text": [
      "you are passed\n"
     ]
    }
   ],
   "source": [
    "score = 51\n",
    "if score > 50:\n",
    "    print (\"you are passed\")\n",
    "else:\n",
    "    if sccore== 50:\n",
    "        print (\"you are just passed\")"
   ]
  },
  {
   "cell_type": "markdown",
   "id": "82be7abc-ddbf-4bf8-adb4-ab3dd8ea4914",
   "metadata": {},
   "source": [
    "# Chaining of Conditional:"
   ]
  },
  {
   "cell_type": "code",
   "execution_count": 14,
   "id": "a1bd0d77-f12e-43e0-b813-228602120770",
   "metadata": {},
   "outputs": [
    {
     "name": "stdout",
     "output_type": "stream",
     "text": [
      "neutral\n"
     ]
    }
   ],
   "source": [
    "num = 0\n",
    "if num < 0:\n",
    "    print (\"negative\")\n",
    "elif num == 0:\n",
    "    print (\"neutral\")\n",
    "else:\n",
    "    print(\"positive\")"
   ]
  },
  {
   "cell_type": "code",
   "execution_count": 7,
   "id": "cae029e4-2142-49e8-b4ce-9fef583f8944",
   "metadata": {},
   "outputs": [
    {
     "name": "stdout",
     "output_type": "stream",
     "text": [
      "Neutral\n"
     ]
    }
   ],
   "source": [
    "num = 0\n",
    "if num < 0:\n",
    "    print(\"Negative\")\n",
    "elif num == 0:\n",
    "    print(\"Neutral\")\n",
    "elif num >= 0:\n",
    "    Print (\"Positive\")"
   ]
  },
  {
   "cell_type": "code",
   "execution_count": 17,
   "id": "84b3eb6c-0dcc-498d-9636-b09eb30571b4",
   "metadata": {},
   "outputs": [],
   "source": [
    "# if match bhaye pa6i tyo bhanda muni ko elif ra else check hudaina.\n",
    "# euta elif match bhaye pa6i tyo bhanda muni ko elif ra else check hudaina."
   ]
  },
  {
   "cell_type": "code",
   "execution_count": 1,
   "id": "1dfdf0dc-9e2f-4daf-989e-be8e7e115f8b",
   "metadata": {},
   "outputs": [],
   "source": [
    "# if and else - only euta operator rakhna mil6 but elif multiple times use garna milxa."
   ]
  },
  {
   "cell_type": "code",
   "execution_count": null,
   "id": "a99cca5a-14cb-47e3-87af-cf90bd030394",
   "metadata": {},
   "outputs": [],
   "source": []
  }
 ],
 "metadata": {
  "kernelspec": {
   "display_name": "Python 3 (ipykernel)",
   "language": "python",
   "name": "python3"
  },
  "language_info": {
   "codemirror_mode": {
    "name": "ipython",
    "version": 3
   },
   "file_extension": ".py",
   "mimetype": "text/x-python",
   "name": "python",
   "nbconvert_exporter": "python",
   "pygments_lexer": "ipython3",
   "version": "3.12.1"
  }
 },
 "nbformat": 4,
 "nbformat_minor": 5
}
