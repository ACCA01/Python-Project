{
 "cells": [
  {
   "cell_type": "markdown",
   "id": "0d1e0bb4-ff55-4fa9-a2a5-d0d5f579cb0d",
   "metadata": {},
   "source": [
    "# Inheritence"
   ]
  },
  {
   "cell_type": "code",
   "execution_count": 1,
   "id": "97ca800a-1373-42f7-bbee-829b6331b8ed",
   "metadata": {},
   "outputs": [],
   "source": [
    "class Parent:\n",
    "    eyes = 'Brown' # Class attribute\n",
    "\n",
    "class Child:\n",
    "    hair = 'white'"
   ]
  },
  {
   "cell_type": "code",
   "execution_count": 3,
   "id": "52362d4f-9f54-42a5-b03a-7c044fe42966",
   "metadata": {},
   "outputs": [
    {
     "ename": "NameError",
     "evalue": "name 'child' is not defined",
     "output_type": "error",
     "traceback": [
      "\u001b[1;31m---------------------------------------------------------------------------\u001b[0m",
      "\u001b[1;31mNameError\u001b[0m                                 Traceback (most recent call last)",
      "Cell \u001b[1;32mIn[3], line 1\u001b[0m\n\u001b[1;32m----> 1\u001b[0m c1 \u001b[38;5;241m=\u001b[39m \u001b[43mchild\u001b[49m()\n\u001b[0;32m      2\u001b[0m c1\u001b[38;5;241m.\u001b[39meyes() \u001b[38;5;66;03m# it doesn't allow as eyes is an attribute to parent Class\u001b[39;00m\n",
      "\u001b[1;31mNameError\u001b[0m: name 'child' is not defined"
     ]
    }
   ],
   "source": [
    "c1 = child()\n",
    "c1.eyes() # it doesn't allow as eyes is an attribute to parent Class"
   ]
  },
  {
   "cell_type": "markdown",
   "id": "d7cef8be-1151-4706-aa37-6bacec767430",
   "metadata": {},
   "source": [
    "# Single Inheritence"
   ]
  },
  {
   "cell_type": "code",
   "execution_count": 13,
   "id": "f7326cac-7e10-4c29-af32-6d750d9f8e01",
   "metadata": {},
   "outputs": [],
   "source": [
    "class Parent:\n",
    "    eyes = 'Brown'\n",
    "\n",
    "class Child(Parent): # step 1 pass Parent class as an argument on Child class\n",
    "    hair = 'white'\n",
    "    def __init__(self):\n",
    "        super().__init__() # Step 2 : call the super() method"
   ]
  },
  {
   "cell_type": "code",
   "execution_count": 14,
   "id": "8ee775e0-ed95-4d70-84b2-73c743ac5409",
   "metadata": {},
   "outputs": [
    {
     "data": {
      "text/plain": [
       "'Brown'"
      ]
     },
     "execution_count": 14,
     "metadata": {},
     "output_type": "execute_result"
    }
   ],
   "source": [
    "c1 = Child()\n",
    "c1.eyes"
   ]
  },
  {
   "cell_type": "code",
   "execution_count": 15,
   "id": "f26203de-e34f-4618-8f05-18b3bce14f54",
   "metadata": {},
   "outputs": [
    {
     "data": {
      "text/plain": [
       "'white'"
      ]
     },
     "execution_count": 15,
     "metadata": {},
     "output_type": "execute_result"
    }
   ],
   "source": [
    "c1.hair"
   ]
  },
  {
   "cell_type": "code",
   "execution_count": 16,
   "id": "b752c235-f213-4b6b-90d7-29b36e4b10ed",
   "metadata": {},
   "outputs": [],
   "source": [
    "# Another Example"
   ]
  },
  {
   "cell_type": "code",
   "execution_count": 23,
   "id": "297ad2e6-514b-4956-a26d-735a4ccf22da",
   "metadata": {},
   "outputs": [],
   "source": [
    "class Computer:\n",
    "    def __init__(self, model):\n",
    "        self.model = model\n",
    "\n",
    "class Mobile(Computer): # Step 1\n",
    "    def __init__(self, has_flash, model):\n",
    "        self.has_flash = has_flash\n",
    "        super().__init__(model)        "
   ]
  },
  {
   "cell_type": "code",
   "execution_count": 25,
   "id": "d60179e6-ba0e-4aa5-9711-05804e9b92d9",
   "metadata": {},
   "outputs": [
    {
     "data": {
      "text/plain": [
       "'Iphone'"
      ]
     },
     "execution_count": 25,
     "metadata": {},
     "output_type": "execute_result"
    }
   ],
   "source": [
    "m1 = Mobile (has_flash = True, model = 'Iphone')\n",
    "m1.model"
   ]
  },
  {
   "cell_type": "code",
   "execution_count": 30,
   "id": "d535196c-820d-4ef3-88b6-8787672291fd",
   "metadata": {},
   "outputs": [],
   "source": [
    "class Computer:\n",
    "    def __init__(self, model):\n",
    "        self.model = model\n",
    "\n",
    "    def show_model(self):\n",
    "        print(f'Your model is {self.model}')\n",
    "    \n",
    "class Mobile(Computer):\n",
    "    def __init__(self, has_flash, model):\n",
    "        self.has_flash = has_flash\n",
    "        super().__init__(model)   "
   ]
  },
  {
   "cell_type": "code",
   "execution_count": 31,
   "id": "b1080ee4-ce26-4cb1-b6eb-ab6295dab109",
   "metadata": {},
   "outputs": [
    {
     "name": "stdin",
     "output_type": "stream",
     "text": [
      "Enter your model:  Iphone 15\n"
     ]
    }
   ],
   "source": [
    "model = input ('Enter your model: ')\n",
    "m1 = Mobile (has_flash = True, model = model)"
   ]
  },
  {
   "cell_type": "code",
   "execution_count": 32,
   "id": "ad99e8a5-4a50-4d53-9c8a-baf7e01da113",
   "metadata": {},
   "outputs": [
    {
     "name": "stdout",
     "output_type": "stream",
     "text": [
      "Your model is Iphone 15\n"
     ]
    }
   ],
   "source": [
    "m1.show_model()"
   ]
  },
  {
   "cell_type": "markdown",
   "id": "4b7dfe33-df1b-4b60-bc6e-910187492018",
   "metadata": {},
   "source": [
    "# Multiple Inheritence"
   ]
  },
  {
   "cell_type": "code",
   "execution_count": 34,
   "id": "57a6d8ef-b0bc-456c-a428-a3e3045971ad",
   "metadata": {},
   "outputs": [],
   "source": [
    "class Father:\n",
    "    father_name = 'Ram'\n",
    "    \n",
    "class Mother:\n",
    "       mother_name = 'Sita'\n",
    "\n",
    "class Child(Father, Mother):\n",
    "    child_name = 'lov-kush'\n",
    "    def __init__(self):\n",
    "        Father.__init__(self)\n",
    "        Mother.__init__(self)"
   ]
  },
  {
   "cell_type": "code",
   "execution_count": 38,
   "id": "5c70a2f4-7afd-4a4c-af9c-462d07a22d35",
   "metadata": {},
   "outputs": [
    {
     "data": {
      "text/plain": [
       "'Ram'"
      ]
     },
     "execution_count": 38,
     "metadata": {},
     "output_type": "execute_result"
    }
   ],
   "source": [
    "c1 = Child()\n",
    "c1.father_name"
   ]
  },
  {
   "cell_type": "code",
   "execution_count": 39,
   "id": "5517f65f-e340-4b19-9c9c-4f3a750abd13",
   "metadata": {},
   "outputs": [
    {
     "data": {
      "text/plain": [
       "'Sita'"
      ]
     },
     "execution_count": 39,
     "metadata": {},
     "output_type": "execute_result"
    }
   ],
   "source": [
    "c1.mother_name"
   ]
  },
  {
   "cell_type": "markdown",
   "id": "69105f7f-6895-4c89-a15c-44d4b0a8d7b5",
   "metadata": {},
   "source": [
    "# Multi-level Inheritence"
   ]
  },
  {
   "cell_type": "code",
   "execution_count": 44,
   "id": "6d889d8d-c138-4a47-b897-cb9e69ce3ef9",
   "metadata": {},
   "outputs": [],
   "source": [
    "class Grandfather:\n",
    "    g_name = 'Dasarath' \n",
    "\n",
    "class Father(Grandfather):\n",
    "    f_name = 'Ram'\n",
    "    def __init__(self):\n",
    "        Grandfather.__init__(self)\n",
    "\n",
    "class Child(Father):\n",
    "    c_name = 'Lov-Kush'\n",
    "    def __init__(self):\n",
    "        Father.__init__(self)"
   ]
  },
  {
   "cell_type": "code",
   "execution_count": 45,
   "id": "21ad455e-e3e2-4f06-a15a-9fbe7f9be969",
   "metadata": {},
   "outputs": [
    {
     "data": {
      "text/plain": [
       "'Dasarath'"
      ]
     },
     "execution_count": 45,
     "metadata": {},
     "output_type": "execute_result"
    }
   ],
   "source": [
    "c1= Child()\n",
    "c1.g_name"
   ]
  },
  {
   "cell_type": "code",
   "execution_count": 46,
   "id": "3c099af0-4558-4e4c-b4d9-792b59e5c4dd",
   "metadata": {},
   "outputs": [
    {
     "data": {
      "text/plain": [
       "'Ram'"
      ]
     },
     "execution_count": 46,
     "metadata": {},
     "output_type": "execute_result"
    }
   ],
   "source": [
    "c1.f_name"
   ]
  },
  {
   "cell_type": "code",
   "execution_count": null,
   "id": "7f59c5de-b409-4455-a3d2-c1f53ab0b326",
   "metadata": {},
   "outputs": [],
   "source": []
  }
 ],
 "metadata": {
  "kernelspec": {
   "display_name": "Python 3 (ipykernel)",
   "language": "python",
   "name": "python3"
  },
  "language_info": {
   "codemirror_mode": {
    "name": "ipython",
    "version": 3
   },
   "file_extension": ".py",
   "mimetype": "text/x-python",
   "name": "python",
   "nbconvert_exporter": "python",
   "pygments_lexer": "ipython3",
   "version": "3.12.1"
  }
 },
 "nbformat": 4,
 "nbformat_minor": 5
}
