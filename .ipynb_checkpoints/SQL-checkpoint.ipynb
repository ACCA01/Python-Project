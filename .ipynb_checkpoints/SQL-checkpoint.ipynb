{
 "cells": [
  {
   "cell_type": "code",
   "execution_count": 2,
   "id": "3f96eb24-20fe-432d-9931-731e4772c4a8",
   "metadata": {},
   "outputs": [],
   "source": [
    "# case insensetive language\n",
    "# SQL is a standard language for storing, manipulating and retrieving data in databases."
   ]
  },
  {
   "cell_type": "code",
   "execution_count": 3,
   "id": "ff71c516-40b5-436c-9872-0dfb044c2820",
   "metadata": {},
   "outputs": [],
   "source": [
    "import sqlite3"
   ]
  },
  {
   "cell_type": "markdown",
   "id": "0b739ecb-7dc7-4fa5-ae4c-7c199644cc7a",
   "metadata": {},
   "source": [
    "# Create database and connect to database"
   ]
  },
  {
   "cell_type": "code",
   "execution_count": 4,
   "id": "7b870c41-8f52-4f54-b4e1-31ff8235fdd1",
   "metadata": {},
   "outputs": [],
   "source": [
    "connection = sqlite3.connect('student.db')"
   ]
  },
  {
   "cell_type": "code",
   "execution_count": 5,
   "id": "92b816a8-e321-4a99-9b6c-353bf3be27c4",
   "metadata": {},
   "outputs": [
    {
     "data": {
      "text/plain": [
       "<sqlite3.Connection at 0x24340773e20>"
      ]
     },
     "execution_count": 5,
     "metadata": {},
     "output_type": "execute_result"
    }
   ],
   "source": [
    "connection"
   ]
  },
  {
   "cell_type": "markdown",
   "id": "c73d3203-615b-4dab-9efd-bddc1daaee45",
   "metadata": {},
   "source": [
    "# Cursor execute SQL Queries"
   ]
  },
  {
   "cell_type": "code",
   "execution_count": 7,
   "id": "12b6ccd8-dc1c-40bb-a1e3-4810ab3d2db1",
   "metadata": {},
   "outputs": [],
   "source": [
    "cur = connection.cursor()"
   ]
  },
  {
   "cell_type": "markdown",
   "id": "9c1f1ee2-f9b7-4deb-865a-a8d850f500d2",
   "metadata": {},
   "source": [
    "# Creating Table in the Database"
   ]
  },
  {
   "cell_type": "markdown",
   "id": "1b81b0ac-34be-48ae-a33a-b44d00812016",
   "metadata": {},
   "source": [
    "Syntax:\n",
    "```\n",
    "create table table_name \n",
    "(column_name_1 datatype,\n",
    "column_name_2 datatype...,\n",
    "column_name_n datatype)\n",
    "```"
   ]
  },
  {
   "cell_type": "code",
   "execution_count": 14,
   "id": "bf7a4be1-1a80-431c-89e7-ab3d872f027e",
   "metadata": {},
   "outputs": [],
   "source": [
    "query= \"\"\"\n",
    "create table std\n",
    "(\n",
    "roll_no int,\n",
    "name varchar(50)\n",
    ")\n",
    "\"\"\""
   ]
  },
  {
   "cell_type": "code",
   "execution_count": 15,
   "id": "33094908-498e-4a64-abf9-19adaca03bc1",
   "metadata": {},
   "outputs": [
    {
     "data": {
      "text/plain": [
       "<sqlite3.Cursor at 0x2434195a240>"
      ]
     },
     "execution_count": 15,
     "metadata": {},
     "output_type": "execute_result"
    }
   ],
   "source": [
    "cur.execute(query)"
   ]
  },
  {
   "cell_type": "markdown",
   "id": "d6389613-1c50-45b3-a6a3-3c85e4b33706",
   "metadata": {},
   "source": [
    "# Insert Data to the created table above (Insert OPeration)"
   ]
  },
  {
   "cell_type": "markdown",
   "id": "25888f93-6c0f-4ad0-9f0e-9dc334da524b",
   "metadata": {},
   "source": [
    "Syntax:\n",
    "\n",
    "```sql\n",
    "insert into table_name\n",
    "(column_name_1, column_name_2, ....)\n",
    "values\n",
    "(value_1, value_2, ...)\n",
    "```"
   ]
  },
  {
   "cell_type": "code",
   "execution_count": 16,
   "id": "7674f7a4-46e5-4e60-bd1a-6c89106c3762",
   "metadata": {},
   "outputs": [],
   "source": [
    "query = \"\"\"\n",
    "insert into std\n",
    "(roll_no, name)\n",
    "values\n",
    "(1, \"Kshitiz\"), \n",
    "(2, \"Aavash\")\n",
    "\"\"\""
   ]
  },
  {
   "cell_type": "code",
   "execution_count": 17,
   "id": "bb3bc810-7b9b-48a2-a259-ec6423d5b498",
   "metadata": {},
   "outputs": [
    {
     "data": {
      "text/plain": [
       "<sqlite3.Cursor at 0x2434195a240>"
      ]
     },
     "execution_count": 17,
     "metadata": {},
     "output_type": "execute_result"
    }
   ],
   "source": [
    "cur.execute(query)"
   ]
  },
  {
   "cell_type": "markdown",
   "id": "5d02b592-248a-4f64-ab04-977a2e9f5477",
   "metadata": {},
   "source": [
    "# Read or select statement "
   ]
  },
  {
   "cell_type": "markdown",
   "id": "f679f7ad-1b95-4d6a-aca8-bb79ff303953",
   "metadata": {},
   "source": [
    "syntax:\n",
    "\n",
    "```\n",
    "sql\n",
    "select * from table_name\n",
    "```\n",
    "or\n",
    "\n",
    "```\n",
    "sql\n",
    "select column_name1, column_name2 from table_name\n",
    "```"
   ]
  },
  {
   "cell_type": "code",
   "execution_count": 20,
   "id": "083ce25f-9a39-4b81-8cae-4aa674fc142d",
   "metadata": {},
   "outputs": [
    {
     "data": {
      "text/plain": [
       "[(1, 'Kshitiz'), (2, 'Aavash')]"
      ]
     },
     "execution_count": 20,
     "metadata": {},
     "output_type": "execute_result"
    }
   ],
   "source": [
    "query = \"select * from std \" # * means all queries\n",
    "cur.execute(query).fetchall()"
   ]
  },
  {
   "cell_type": "code",
   "execution_count": 22,
   "id": "d2e05c2f-51d2-4f47-a2e7-c1133dfde559",
   "metadata": {},
   "outputs": [
    {
     "data": {
      "text/plain": [
       "[('Kshitiz',), ('Aavash',)]"
      ]
     },
     "execution_count": 22,
     "metadata": {},
     "output_type": "execute_result"
    }
   ],
   "source": [
    "cur.execute('select name from std').fetchall()"
   ]
  },
  {
   "cell_type": "markdown",
   "id": "962beb48-f302-48ba-939c-866ba11da6a5",
   "metadata": {},
   "source": [
    "# where clause/ conditional"
   ]
  },
  {
   "cell_type": "code",
   "execution_count": 23,
   "id": "28067cdc-068d-438a-a3f6-86e1f6aa65b5",
   "metadata": {},
   "outputs": [],
   "source": [
    "query = \"\"\"\n",
    "select name from std\n",
    "where roll_no = 2\n",
    "\"\"\""
   ]
  },
  {
   "cell_type": "code",
   "execution_count": 24,
   "id": "95c4537e-3d39-41bc-9fa0-2b391afd544a",
   "metadata": {},
   "outputs": [
    {
     "data": {
      "text/plain": [
       "[('Aavash',)]"
      ]
     },
     "execution_count": 24,
     "metadata": {},
     "output_type": "execute_result"
    }
   ],
   "source": [
    "cur.execute(query).fetchall()"
   ]
  },
  {
   "cell_type": "markdown",
   "id": "253efde3-7e8a-4237-8378-bb783e5d21ab",
   "metadata": {},
   "source": [
    "# Update Statement"
   ]
  },
  {
   "cell_type": "markdown",
   "id": "d400db6f-d476-45f6-9124-b60ca9ac2f78",
   "metadata": {},
   "source": [
    "```sql\n",
    "update table_name\n",
    "set column_name = value\n",
    "where condition\n",
    "```"
   ]
  },
  {
   "cell_type": "code",
   "execution_count": 28,
   "id": "5bb852fc-f791-4ebd-b838-3dd1928396b8",
   "metadata": {},
   "outputs": [],
   "source": [
    "query = \"\"\"\n",
    "update std\n",
    "set name = \"Kshitiz Regmi\"\n",
    "where roll_no = 1\n",
    "\"\"\""
   ]
  },
  {
   "cell_type": "code",
   "execution_count": 30,
   "id": "ddd9e2bc-fd17-4e37-963c-8a2bf68b0d95",
   "metadata": {},
   "outputs": [
    {
     "data": {
      "text/plain": [
       "<sqlite3.Cursor at 0x2434195a240>"
      ]
     },
     "execution_count": 30,
     "metadata": {},
     "output_type": "execute_result"
    }
   ],
   "source": [
    "cur.execute(query)"
   ]
  },
  {
   "cell_type": "code",
   "execution_count": 32,
   "id": "e2f96c7f-497e-4089-b400-1a6abf41e338",
   "metadata": {},
   "outputs": [
    {
     "data": {
      "text/plain": [
       "[(1, 'Kshitiz Regmi'), (2, 'Aavash')]"
      ]
     },
     "execution_count": 32,
     "metadata": {},
     "output_type": "execute_result"
    }
   ],
   "source": [
    "cur.execute(\"select * from std\").fetchall()"
   ]
  },
  {
   "cell_type": "markdown",
   "id": "eb29aea0-011f-4fe3-a111-fa55d0e698c4",
   "metadata": {},
   "source": [
    "# Delete Rows in sql\n",
    "syntax:\n",
    "\n",
    "```\n",
    "sql\n",
    "delete from table_name\n",
    "where condition\n",
    "```"
   ]
  },
  {
   "cell_type": "code",
   "execution_count": 33,
   "id": "432cd37c-daf4-48b0-8184-d290a7b4bc10",
   "metadata": {},
   "outputs": [
    {
     "data": {
      "text/plain": [
       "<sqlite3.Cursor at 0x2434195a240>"
      ]
     },
     "execution_count": 33,
     "metadata": {},
     "output_type": "execute_result"
    }
   ],
   "source": [
    "cur.execute('delete from std where roll_no = 1') # roll_no 1 ko data delete garne"
   ]
  },
  {
   "cell_type": "code",
   "execution_count": 34,
   "id": "6d5d0361-8c63-4546-9045-2b9f43b1b651",
   "metadata": {},
   "outputs": [
    {
     "data": {
      "text/plain": [
       "[(2, 'Aavash')]"
      ]
     },
     "execution_count": 34,
     "metadata": {},
     "output_type": "execute_result"
    }
   ],
   "source": [
    "cur.execute('select * from std') .fetchall()"
   ]
  },
  {
   "cell_type": "code",
   "execution_count": 35,
   "id": "1fb35e66-7f51-4402-b8c1-dabafc4b3e14",
   "metadata": {},
   "outputs": [],
   "source": [
    "# CRUID Operation of data base"
   ]
  },
  {
   "cell_type": "code",
   "execution_count": null,
   "id": "fc68507d-5b6c-415d-9245-c5e2c2e8a54d",
   "metadata": {},
   "outputs": [],
   "source": []
  }
 ],
 "metadata": {
  "kernelspec": {
   "display_name": "Python 3 (ipykernel)",
   "language": "python",
   "name": "python3"
  },
  "language_info": {
   "codemirror_mode": {
    "name": "ipython",
    "version": 3
   },
   "file_extension": ".py",
   "mimetype": "text/x-python",
   "name": "python",
   "nbconvert_exporter": "python",
   "pygments_lexer": "ipython3",
   "version": "3.12.1"
  }
 },
 "nbformat": 4,
 "nbformat_minor": 5
}
