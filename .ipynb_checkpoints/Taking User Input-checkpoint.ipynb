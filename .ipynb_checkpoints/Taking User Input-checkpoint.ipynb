{
 "cells": [
  {
   "cell_type": "code",
   "execution_count": 4,
   "id": "e37b0eea-b44b-4598-905b-f285c8fcccf0",
   "metadata": {},
   "outputs": [
    {
     "name": "stdout",
     "output_type": "stream",
     "text": [
      "ram\n"
     ]
    }
   ],
   "source": [
    "name = 'ram'\n",
    "print (name)"
   ]
  },
  {
   "cell_type": "code",
   "execution_count": 5,
   "id": "993a31a2-ab20-43d9-8bef-550fa73bd0b5",
   "metadata": {},
   "outputs": [
    {
     "name": "stdin",
     "output_type": "stream",
     "text": [
      " hello\n"
     ]
    },
    {
     "data": {
      "text/plain": [
       "'hello'"
      ]
     },
     "execution_count": 5,
     "metadata": {},
     "output_type": "execute_result"
    }
   ],
   "source": [
    "input ()"
   ]
  },
  {
   "cell_type": "code",
   "execution_count": 1,
   "id": "a861ef3b-e66e-474c-b69f-cddd0e0a471d",
   "metadata": {},
   "outputs": [
    {
     "name": "stdin",
     "output_type": "stream",
     "text": [
      "enter your name :  suresh\n"
     ]
    },
    {
     "name": "stdout",
     "output_type": "stream",
     "text": [
      "my name is suresh\n"
     ]
    }
   ],
   "source": [
    "name = input('enter your name : ')\n",
    "print(f'my name is {name}')"
   ]
  },
  {
   "cell_type": "code",
   "execution_count": 4,
   "id": "ccb73f55-6874-4e31-b34f-60be05c81b85",
   "metadata": {},
   "outputs": [
    {
     "name": "stdin",
     "output_type": "stream",
     "text": [
      "enter your location :  kapan\n"
     ]
    },
    {
     "name": "stdout",
     "output_type": "stream",
     "text": [
      "I live in kapan\n"
     ]
    }
   ],
   "source": [
    "location = input (\"enter your location : \")\n",
    "print(f'I live in {location}')"
   ]
  },
  {
   "cell_type": "markdown",
   "id": "c331087e-9631-4833-98db-b837499c4b27",
   "metadata": {},
   "source": [
    "# input () method le by default input string ma linxa"
   ]
  },
  {
   "cell_type": "code",
   "execution_count": 11,
   "id": "5ce343b0-9c6c-4148-82c5-dc613aead209",
   "metadata": {},
   "outputs": [
    {
     "name": "stdin",
     "output_type": "stream",
     "text": [
      "enter a number :  55\n"
     ]
    },
    {
     "name": "stdout",
     "output_type": "stream",
     "text": [
      "55\n"
     ]
    }
   ],
   "source": [
    "num = input ('enter a number : ') # input function takes values in string by default\n",
    "print(num)"
   ]
  },
  {
   "cell_type": "code",
   "execution_count": 8,
   "id": "0622c1e9-1c73-4740-b50f-dd7cd9836241",
   "metadata": {},
   "outputs": [
    {
     "name": "stdout",
     "output_type": "stream",
     "text": [
      "<class 'str'>\n"
     ]
    }
   ],
   "source": [
    "print(type(num))"
   ]
  },
  {
   "cell_type": "code",
   "execution_count": 9,
   "id": "6b6b7ccb-7b4b-4da2-9fd1-3c39b7144e27",
   "metadata": {},
   "outputs": [
    {
     "data": {
      "text/plain": [
       "str"
      ]
     },
     "execution_count": 9,
     "metadata": {},
     "output_type": "execute_result"
    }
   ],
   "source": [
    "num = '55'\n",
    "type(num)"
   ]
  },
  {
   "cell_type": "code",
   "execution_count": 10,
   "id": "dcda31ea-c07d-41ab-82a9-445c1adab30c",
   "metadata": {},
   "outputs": [
    {
     "data": {
      "text/plain": [
       "int"
      ]
     },
     "execution_count": 10,
     "metadata": {},
     "output_type": "execute_result"
    }
   ],
   "source": [
    "num = 55\n",
    "type(num)"
   ]
  },
  {
   "cell_type": "markdown",
   "id": "42daa9ba-ce1f-4148-a23a-975e83395338",
   "metadata": {},
   "source": [
    "# Data type Casting\n",
    "explicitly class define garnu parxa"
   ]
  },
  {
   "cell_type": "code",
   "execution_count": 12,
   "id": "22634d35-924d-45d3-aed6-b70dc0b8d762",
   "metadata": {},
   "outputs": [
    {
     "name": "stdout",
     "output_type": "stream",
     "text": [
      "<class 'str'>\n",
      "<class 'int'>\n"
     ]
    }
   ],
   "source": [
    "num = \"55\"\n",
    "print(type(num))\n",
    "num = int(num)\n",
    "print(type(num))"
   ]
  },
  {
   "cell_type": "markdown",
   "id": "d56c673c-62dc-44f8-9200-a939e6efebfa",
   "metadata": {},
   "source": [
    "num = '0.5'\n",
    "print(type(num))\n",
    "num = float (num)\n",
    "print(type(num))"
   ]
  },
  {
   "cell_type": "code",
   "execution_count": 21,
   "id": "5d3f1e2a-0c46-4de9-9b59-5943182af9cf",
   "metadata": {},
   "outputs": [
    {
     "name": "stdout",
     "output_type": "stream",
     "text": [
      "<class 'str'>\n",
      "<class 'int'>\n"
     ]
    }
   ],
   "source": [
    "num = '5'\n",
    "print(type(num))\n",
    "num = int (num)\n",
    "print(type(num))"
   ]
  },
  {
   "cell_type": "code",
   "execution_count": 22,
   "id": "76008bab-c29c-438f-9f3e-98c37a44741f",
   "metadata": {},
   "outputs": [
    {
     "name": "stdin",
     "output_type": "stream",
     "text": [
      "enter a number :  455\n"
     ]
    },
    {
     "data": {
      "text/plain": [
       "int"
      ]
     },
     "execution_count": 22,
     "metadata": {},
     "output_type": "execute_result"
    }
   ],
   "source": [
    "num = int(input ('enter a number : '))\n",
    "type (num)"
   ]
  },
  {
   "cell_type": "code",
   "execution_count": 24,
   "id": "962f6520-28d6-4226-b580-0a2a52d4171d",
   "metadata": {},
   "outputs": [
    {
     "name": "stdin",
     "output_type": "stream",
     "text": [
      "enter first number :  10\n",
      "enter second number :  20\n"
     ]
    },
    {
     "name": "stdout",
     "output_type": "stream",
     "text": [
      "30\n"
     ]
    }
   ],
   "source": [
    "a = int (input (\"enter first number : \"))\n",
    "b = int (input (\"enter second number : \"))\n",
    "c= a + b\n",
    "print (c)"
   ]
  },
  {
   "cell_type": "markdown",
   "id": "e7f304e9-cec7-4318-b784-c55b56a5609b",
   "metadata": {},
   "source": [
    "# find volume of a sphere"
   ]
  },
  {
   "cell_type": "code",
   "execution_count": 29,
   "id": "d8726ed3-3414-4868-9a42-aa8334441d9c",
   "metadata": {},
   "outputs": [
    {
     "name": "stdin",
     "output_type": "stream",
     "text": [
      "enter radius :  5\n"
     ]
    },
    {
     "name": "stdout",
     "output_type": "stream",
     "text": [
      "523.6\n"
     ]
    }
   ],
   "source": [
    "import math\n",
    "r = float (input (\"enter radius : \"))\n",
    "volume = 4/3 * math.pi * r ** 3\n",
    "print(round(volume,2))"
   ]
  },
  {
   "cell_type": "code",
   "execution_count": null,
   "id": "a2b296a8-f406-457d-b53f-ca2769987b3e",
   "metadata": {},
   "outputs": [],
   "source": []
  }
 ],
 "metadata": {
  "kernelspec": {
   "display_name": "Python 3 (ipykernel)",
   "language": "python",
   "name": "python3"
  },
  "language_info": {
   "codemirror_mode": {
    "name": "ipython",
    "version": 3
   },
   "file_extension": ".py",
   "mimetype": "text/x-python",
   "name": "python",
   "nbconvert_exporter": "python",
   "pygments_lexer": "ipython3",
   "version": "3.12.1"
  }
 },
 "nbformat": 4,
 "nbformat_minor": 5
}
