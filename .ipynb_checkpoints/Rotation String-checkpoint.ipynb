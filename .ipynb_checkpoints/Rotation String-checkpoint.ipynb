{
 "cells": [
  {
   "cell_type": "code",
   "execution_count": 1,
   "id": "462cf7ac-5b86-466f-9ae3-ee8fa89656ba",
   "metadata": {},
   "outputs": [],
   "source": [
    "string1 = \"NEPALINDIACHINA\"\n",
    "string2 = \"nepalindiachina\"\n",
    "string1 = string1.lower()\n",
    "string2 = string2.lower()"
   ]
  },
  {
   "cell_type": "code",
   "execution_count": 2,
   "id": "58895797-f4fc-451c-8ccc-f9829332246c",
   "metadata": {},
   "outputs": [
    {
     "name": "stdout",
     "output_type": "stream",
     "text": [
      "string2 is a rotation of string1\n"
     ]
    }
   ],
   "source": [
    "if len(string1) != len(string2):\n",
    "    print(\"string2 is not a rotation of string1\")\n",
    "else:\n",
    "    temp_str = string1 + string1\n",
    "    if string2 in temp_str:\n",
    "        print(\"string2 is a rotation of string1\")\n",
    "    else:\n",
    "        print(\"string2 is not a rotatin of string1\")"
   ]
  },
  {
   "cell_type": "code",
   "execution_count": null,
   "id": "efe330fa-23a2-4cc2-b5e5-fba469a65052",
   "metadata": {},
   "outputs": [],
   "source": []
  }
 ],
 "metadata": {
  "kernelspec": {
   "display_name": "Python 3 (ipykernel)",
   "language": "python",
   "name": "python3"
  },
  "language_info": {
   "codemirror_mode": {
    "name": "ipython",
    "version": 3
   },
   "file_extension": ".py",
   "mimetype": "text/x-python",
   "name": "python",
   "nbconvert_exporter": "python",
   "pygments_lexer": "ipython3",
   "version": "3.12.1"
  }
 },
 "nbformat": 4,
 "nbformat_minor": 5
}
