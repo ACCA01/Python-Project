{
 "cells": [
  {
   "cell_type": "code",
   "execution_count": 1,
   "id": "8a844ccb-c017-4d51-8bfa-29db0ee4c038",
   "metadata": {},
   "outputs": [],
   "source": [
    "name = '$ure$h'"
   ]
  },
  {
   "cell_type": "code",
   "execution_count": 2,
   "id": "ff905177-d618-4ca9-aba7-0bf8b62bfb00",
   "metadata": {},
   "outputs": [
    {
     "data": {
      "text/plain": [
       "'$ure$h'"
      ]
     },
     "execution_count": 2,
     "metadata": {},
     "output_type": "execute_result"
    }
   ],
   "source": [
    "name"
   ]
  },
  {
   "cell_type": "code",
   "execution_count": 4,
   "id": "7a640683-bc2c-4fb7-bc9b-011814704194",
   "metadata": {},
   "outputs": [
    {
     "data": {
      "text/plain": [
       "'$'"
      ]
     },
     "execution_count": 4,
     "metadata": {},
     "output_type": "execute_result"
    }
   ],
   "source": [
    "name [0]"
   ]
  },
  {
   "cell_type": "code",
   "execution_count": 11,
   "id": "96c8d633-b40c-4ab4-866c-b5d61fcdab3a",
   "metadata": {},
   "outputs": [
    {
     "data": {
      "text/plain": [
       "'$$'"
      ]
     },
     "execution_count": 11,
     "metadata": {},
     "output_type": "execute_result"
    }
   ],
   "source": [
    "name [0: 5 : 4]"
   ]
  },
  {
   "cell_type": "code",
   "execution_count": 12,
   "id": "1254f2a6-cd4e-45b8-b81c-fba2d852855a",
   "metadata": {},
   "outputs": [
    {
     "ename": "TypeError",
     "evalue": "'str' object does not support item assignment",
     "output_type": "error",
     "traceback": [
      "\u001b[1;31m---------------------------------------------------------------------------\u001b[0m",
      "\u001b[1;31mTypeError\u001b[0m                                 Traceback (most recent call last)",
      "Cell \u001b[1;32mIn[12], line 1\u001b[0m\n\u001b[1;32m----> 1\u001b[0m \u001b[43mname\u001b[49m\u001b[43m \u001b[49m\u001b[43m[\u001b[49m\u001b[38;5;241;43m0\u001b[39;49m\u001b[43m]\u001b[49m \u001b[38;5;241m=\u001b[39m \u001b[38;5;124m'\u001b[39m\u001b[38;5;124ms\u001b[39m\u001b[38;5;124m'\u001b[39m\n",
      "\u001b[1;31mTypeError\u001b[0m: 'str' object does not support item assignment"
     ]
    }
   ],
   "source": [
    "name [0] = 's'"
   ]
  },
  {
   "cell_type": "code",
   "execution_count": 8,
   "id": "14436b43-1b03-4503-b89e-e0226256698e",
   "metadata": {},
   "outputs": [],
   "source": [
    " # string is a immutable object; same memory location ma value update garna mildaina."
   ]
  },
  {
   "cell_type": "markdown",
   "id": "0260c356-bb3f-487b-a3f6-3678294d42f1",
   "metadata": {},
   "source": [
    "# .replace()"
   ]
  },
  {
   "cell_type": "code",
   "execution_count": 14,
   "id": "7cc9c729-1eaa-4f25-bf2a-38e78df11b51",
   "metadata": {},
   "outputs": [
    {
     "data": {
      "text/plain": [
       "2496479275280"
      ]
     },
     "execution_count": 14,
     "metadata": {},
     "output_type": "execute_result"
    }
   ],
   "source": [
    "name = '$ure$h'\n",
    "id(name)"
   ]
  },
  {
   "cell_type": "code",
   "execution_count": 16,
   "id": "98a74000-5fa4-4bd7-b0d7-cc49c2f02641",
   "metadata": {},
   "outputs": [
    {
     "data": {
      "text/plain": [
       "'suresh'"
      ]
     },
     "execution_count": 16,
     "metadata": {},
     "output_type": "execute_result"
    }
   ],
   "source": [
    "name_copy = name. replace (\"$\", \"s\")\n",
    "name_copy"
   ]
  },
  {
   "cell_type": "code",
   "execution_count": 17,
   "id": "c104bd68-adbc-422c-98df-f9bcc8d29a5c",
   "metadata": {},
   "outputs": [
    {
     "data": {
      "text/plain": [
       "'Fantastic New Year'"
      ]
     },
     "execution_count": 17,
     "metadata": {},
     "output_type": "execute_result"
    }
   ],
   "source": [
    "msg= 'Happy New Year'\n",
    "msg.replace (\"Happy\", \"Fantastic\")"
   ]
  },
  {
   "cell_type": "code",
   "execution_count": 18,
   "id": "68a33e59-b35b-428d-b0ce-bee3ec04b7ef",
   "metadata": {},
   "outputs": [
    {
     "data": {
      "text/plain": [
       "'$ure$h'"
      ]
     },
     "execution_count": 18,
     "metadata": {},
     "output_type": "execute_result"
    }
   ],
   "source": [
    "name"
   ]
  },
  {
   "cell_type": "code",
   "execution_count": 19,
   "id": "979cd011-7199-4cac-a546-766928aa3098",
   "metadata": {},
   "outputs": [
    {
     "data": {
      "text/plain": [
       "2496477646784"
      ]
     },
     "execution_count": 19,
     "metadata": {},
     "output_type": "execute_result"
    }
   ],
   "source": [
    "id(name_copy)"
   ]
  },
  {
   "cell_type": "markdown",
   "id": "d4453495-414f-446b-ae4b-1a45b52e629a",
   "metadata": {},
   "source": [
    "# .upper(), .lower(), and .title()- bracket use garnu lai method bhan6"
   ]
  },
  {
   "cell_type": "code",
   "execution_count": 22,
   "id": "7c50308a-f70f-4d09-a04c-91ae7d3ca435",
   "metadata": {},
   "outputs": [],
   "source": [
    "msg= \"Study date science\""
   ]
  },
  {
   "cell_type": "code",
   "execution_count": 23,
   "id": "2d2816cd-7c39-4152-a37b-9fdba25feb53",
   "metadata": {},
   "outputs": [
    {
     "data": {
      "text/plain": [
       "'study date science'"
      ]
     },
     "execution_count": 23,
     "metadata": {},
     "output_type": "execute_result"
    }
   ],
   "source": [
    "msg.lower()"
   ]
  },
  {
   "cell_type": "code",
   "execution_count": 24,
   "id": "6ea5b8f1-5ebb-49a6-944e-c77b16f4ef62",
   "metadata": {},
   "outputs": [
    {
     "data": {
      "text/plain": [
       "'STUDY DATE SCIENCE'"
      ]
     },
     "execution_count": 24,
     "metadata": {},
     "output_type": "execute_result"
    }
   ],
   "source": [
    "msg.upper()"
   ]
  },
  {
   "cell_type": "code",
   "execution_count": 25,
   "id": "bd3367e0-4d48-4901-a2ad-ebea1399bdaa",
   "metadata": {},
   "outputs": [
    {
     "data": {
      "text/plain": [
       "'Study Date Science'"
      ]
     },
     "execution_count": 25,
     "metadata": {},
     "output_type": "execute_result"
    }
   ],
   "source": [
    "msg.title()"
   ]
  },
  {
   "cell_type": "markdown",
   "id": "b5f045a4-154d-4911-a8e0-40c775c024df",
   "metadata": {},
   "source": [
    "# .strip(), .lstrip(), .rstrip()"
   ]
  },
  {
   "cell_type": "code",
   "execution_count": 26,
   "id": "4200ca38-72ae-4215-aee3-a356ebbae7ae",
   "metadata": {},
   "outputs": [
    {
     "data": {
      "text/plain": [
       "'    hell0      world!    '"
      ]
     },
     "execution_count": 26,
     "metadata": {},
     "output_type": "execute_result"
    }
   ],
   "source": [
    "msg = \"    hell0      world!    \"\n",
    "msg"
   ]
  },
  {
   "cell_type": "code",
   "execution_count": 27,
   "id": "09cc161e-737a-4942-ab4e-39103b3ef365",
   "metadata": {},
   "outputs": [
    {
     "data": {
      "text/plain": [
       "'hell0      world!    '"
      ]
     },
     "execution_count": 27,
     "metadata": {},
     "output_type": "execute_result"
    }
   ],
   "source": [
    "msg.lstrip()"
   ]
  },
  {
   "cell_type": "code",
   "execution_count": 28,
   "id": "17dae7a8-507f-48a1-8b2a-823111a6076e",
   "metadata": {},
   "outputs": [
    {
     "data": {
      "text/plain": [
       "'    hell0      world!'"
      ]
     },
     "execution_count": 28,
     "metadata": {},
     "output_type": "execute_result"
    }
   ],
   "source": [
    "msg.rstrip()"
   ]
  },
  {
   "cell_type": "code",
   "execution_count": 30,
   "id": "62549ea0-4bb4-4003-92c1-3196daf501a4",
   "metadata": {},
   "outputs": [
    {
     "data": {
      "text/plain": [
       "'hell0      world!'"
      ]
     },
     "execution_count": 30,
     "metadata": {},
     "output_type": "execute_result"
    }
   ],
   "source": [
    "msg. strip() # both left and right ko space hatau6"
   ]
  },
  {
   "cell_type": "markdown",
   "id": "49d780c0-1787-4902-968f-efaf6b3e9718",
   "metadata": {},
   "source": [
    "# .split() and .join()"
   ]
  },
  {
   "cell_type": "code",
   "execution_count": 31,
   "id": "9e011f87-7b5f-4404-b42e-972344c364cf",
   "metadata": {},
   "outputs": [],
   "source": [
    "msg = \"I study Python at Broadway\""
   ]
  },
  {
   "cell_type": "code",
   "execution_count": 33,
   "id": "bd15f374-a63e-4a04-993b-e3effb073415",
   "metadata": {},
   "outputs": [
    {
     "data": {
      "text/plain": [
       "['I', 'study', 'Python', 'at', 'Broadway']"
      ]
     },
     "execution_count": 33,
     "metadata": {},
     "output_type": "execute_result"
    }
   ],
   "source": [
    "words = msg.split(\" \")\n",
    "words"
   ]
  },
  {
   "cell_type": "code",
   "execution_count": 38,
   "id": "19947e24-69a8-4790-bef8-66c311b7da98",
   "metadata": {},
   "outputs": [
    {
     "data": {
      "text/plain": [
       "['I study', ' Python at Broadway']"
      ]
     },
     "execution_count": 38,
     "metadata": {},
     "output_type": "execute_result"
    }
   ],
   "source": [
    "msg = \"I study, Python at Broadway\"\n",
    "words = msg.split(\",\")\n",
    "words"
   ]
  },
  {
   "cell_type": "code",
   "execution_count": 37,
   "id": "40cf35a7-fc85-48ad-a8ed-8a34e2c6b4fc",
   "metadata": {},
   "outputs": [
    {
     "data": {
      "text/plain": [
       "list"
      ]
     },
     "execution_count": 37,
     "metadata": {},
     "output_type": "execute_result"
    }
   ],
   "source": [
    "type(words)"
   ]
  },
  {
   "cell_type": "code",
   "execution_count": 51,
   "id": "b8ead2f9-280c-43db-ab2d-7a5972413a46",
   "metadata": {},
   "outputs": [
    {
     "data": {
      "text/plain": [
       "'I study  Python at Broadway'"
      ]
     },
     "execution_count": 51,
     "metadata": {},
     "output_type": "execute_result"
    }
   ],
   "source": [
    "\" \".join (words)"
   ]
  },
  {
   "cell_type": "code",
   "execution_count": null,
   "id": "c249a167-8daf-4a05-a8d7-7b080d8c5c8f",
   "metadata": {},
   "outputs": [],
   "source": []
  }
 ],
 "metadata": {
  "kernelspec": {
   "display_name": "Python 3 (ipykernel)",
   "language": "python",
   "name": "python3"
  },
  "language_info": {
   "codemirror_mode": {
    "name": "ipython",
    "version": 3
   },
   "file_extension": ".py",
   "mimetype": "text/x-python",
   "name": "python",
   "nbconvert_exporter": "python",
   "pygments_lexer": "ipython3",
   "version": "3.12.1"
  }
 },
 "nbformat": 4,
 "nbformat_minor": 5
}
