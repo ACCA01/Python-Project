{
 "cells": [
  {
   "cell_type": "markdown",
   "id": "fd3489d6-1048-4980-a31b-d9d590e65406",
   "metadata": {},
   "source": [
    "# zip ()"
   ]
  },
  {
   "cell_type": "code",
   "execution_count": 7,
   "id": "570a6c7e-365d-41a2-b97b-d3bde899155f",
   "metadata": {},
   "outputs": [],
   "source": [
    "employee_id = ['e01', 'e02', 'e04']\n",
    "employee_name = ['kshitiz', 'ram', 'hari']"
   ]
  },
  {
   "cell_type": "code",
   "execution_count": 9,
   "id": "7c9f41b9-6d98-4a2f-8142-46ec39008e23",
   "metadata": {},
   "outputs": [
    {
     "data": {
      "text/plain": [
       "<zip at 0x1ac7acaa400>"
      ]
     },
     "execution_count": 9,
     "metadata": {},
     "output_type": "execute_result"
    }
   ],
   "source": [
    "zip(employee_id,employee_name)"
   ]
  },
  {
   "cell_type": "code",
   "execution_count": 10,
   "id": "44f970e8-2040-4479-81f2-7f51f5d2c506",
   "metadata": {},
   "outputs": [
    {
     "name": "stdout",
     "output_type": "stream",
     "text": [
      "('e01', 'kshitiz')\n",
      "('e02', 'ram')\n",
      "('e04', 'hari')\n"
     ]
    }
   ],
   "source": [
    "for item in zip(employee_id, employee_name):\n",
    "    print(item)"
   ]
  },
  {
   "cell_type": "code",
   "execution_count": 11,
   "id": "2e94d904-4b80-45d8-a07f-34ed11e4399c",
   "metadata": {},
   "outputs": [
    {
     "data": {
      "text/plain": [
       "{'e01': 'kshitiz', 'e02': 'ram', 'e04': 'hari'}"
      ]
     },
     "execution_count": 11,
     "metadata": {},
     "output_type": "execute_result"
    }
   ],
   "source": [
    "dict(zip(employee_id, employee_name))"
   ]
  },
  {
   "cell_type": "markdown",
   "id": "560dfdb9-0961-45e3-a84d-334ba368900c",
   "metadata": {},
   "source": [
    "# *args (arguments)"
   ]
  },
  {
   "cell_type": "code",
   "execution_count": 12,
   "id": "0dfc68d2-4bc0-4b78-ab55-fd1052ccb2a2",
   "metadata": {},
   "outputs": [],
   "source": [
    "def add(a,b):\n",
    "    return a+b"
   ]
  },
  {
   "cell_type": "code",
   "execution_count": 13,
   "id": "60573139-5f9d-44e5-a2b1-8e88059f815f",
   "metadata": {},
   "outputs": [
    {
     "data": {
      "text/plain": [
       "9"
      ]
     },
     "execution_count": 13,
     "metadata": {},
     "output_type": "execute_result"
    }
   ],
   "source": [
    "add(a=2 , b=7)"
   ]
  },
  {
   "cell_type": "code",
   "execution_count": 14,
   "id": "833530c0-a3c8-4db3-8a24-6381ef0b1d1e",
   "metadata": {},
   "outputs": [],
   "source": [
    "def add(*args):\n",
    "    print(args, type(args))"
   ]
  },
  {
   "cell_type": "code",
   "execution_count": 15,
   "id": "8d5d5296-036c-4a36-bdac-2a9a7d70a7e0",
   "metadata": {},
   "outputs": [
    {
     "name": "stdout",
     "output_type": "stream",
     "text": [
      "(2, 3) <class 'tuple'>\n"
     ]
    }
   ],
   "source": [
    "add(2,3)"
   ]
  },
  {
   "cell_type": "code",
   "execution_count": 16,
   "id": "b2b422ec-cdb7-4e72-afb0-eb23af12b709",
   "metadata": {},
   "outputs": [
    {
     "name": "stdout",
     "output_type": "stream",
     "text": [
      "(5, 6, 7) <class 'tuple'>\n"
     ]
    }
   ],
   "source": [
    "add(5,6,7)"
   ]
  },
  {
   "cell_type": "code",
   "execution_count": 19,
   "id": "2a21ac6f-e13d-4fa8-91bb-eb338f170432",
   "metadata": {},
   "outputs": [],
   "source": [
    "def add(*args):\n",
    "    total = 0\n",
    "    for item in args:\n",
    "        total = total + item\n",
    "    return total"
   ]
  },
  {
   "cell_type": "code",
   "execution_count": 20,
   "id": "cae0903f-e021-4858-856a-c9e1b174ab26",
   "metadata": {},
   "outputs": [
    {
     "data": {
      "text/plain": [
       "9"
      ]
     },
     "execution_count": 20,
     "metadata": {},
     "output_type": "execute_result"
    }
   ],
   "source": [
    "add(4,5)"
   ]
  },
  {
   "cell_type": "code",
   "execution_count": 21,
   "id": "c6233059-5009-4d50-8a24-64cc3480c31b",
   "metadata": {},
   "outputs": [
    {
     "data": {
      "text/plain": [
       "22"
      ]
     },
     "execution_count": 21,
     "metadata": {},
     "output_type": "execute_result"
    }
   ],
   "source": [
    "add(1,5,7,9)"
   ]
  },
  {
   "cell_type": "code",
   "execution_count": 22,
   "id": "3bf59005-c5a1-4b97-aa6b-173e625d09a1",
   "metadata": {},
   "outputs": [
    {
     "data": {
      "text/plain": [
       "22"
      ]
     },
     "execution_count": 22,
     "metadata": {},
     "output_type": "execute_result"
    }
   ],
   "source": [
    "# internally\n",
    "args= (1,5,7,9)\n",
    "total= 0\n",
    "for item in args:\n",
    "    total = total + item\n",
    "total"
   ]
  },
  {
   "cell_type": "markdown",
   "id": "adea7c5a-b470-4afb-b980-5efef30c8f2d",
   "metadata": {},
   "source": [
    "# **kwargs (key worded arguments)"
   ]
  },
  {
   "cell_type": "code",
   "execution_count": 15,
   "id": "b8e55bb6-c22a-45ef-9a0e-0e829c4716ca",
   "metadata": {},
   "outputs": [],
   "source": [
    "def about(**kwargs):\n",
    "    print(kwargs, type(kwargs))"
   ]
  },
  {
   "cell_type": "code",
   "execution_count": 16,
   "id": "927aeff2-fbc8-4e88-9e40-66a4b4b384e6",
   "metadata": {},
   "outputs": [
    {
     "name": "stdout",
     "output_type": "stream",
     "text": [
      "{'name': 'kshitiz', 'age': 26, 'location': 'patan'} <class 'dict'>\n"
     ]
    }
   ],
   "source": [
    "about (name='kshitiz', age= 26, location='patan')"
   ]
  },
  {
   "cell_type": "code",
   "execution_count": 6,
   "id": "c1214737-7cc2-4e16-bfad-b9b5ecc7d36b",
   "metadata": {},
   "outputs": [],
   "source": [
    "# *args and **kwargs supports variable length input; makes function flexible"
   ]
  },
  {
   "cell_type": "code",
   "execution_count": null,
   "id": "2f563d41-732a-4762-9171-8557446ea2af",
   "metadata": {},
   "outputs": [],
   "source": []
  }
 ],
 "metadata": {
  "kernelspec": {
   "display_name": "Python 3 (ipykernel)",
   "language": "python",
   "name": "python3"
  },
  "language_info": {
   "codemirror_mode": {
    "name": "ipython",
    "version": 3
   },
   "file_extension": ".py",
   "mimetype": "text/x-python",
   "name": "python",
   "nbconvert_exporter": "python",
   "pygments_lexer": "ipython3",
   "version": "3.12.1"
  }
 },
 "nbformat": 4,
 "nbformat_minor": 5
}
