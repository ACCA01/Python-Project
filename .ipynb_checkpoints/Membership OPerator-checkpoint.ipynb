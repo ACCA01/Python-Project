{
 "cells": [
  {
   "cell_type": "markdown",
   "id": "7f24cd8c-6f35-47b0-a0aa-a0c11c3b3c70",
   "metadata": {},
   "source": [
    "# Membership Operator"
   ]
  },
  {
   "cell_type": "code",
   "execution_count": 1,
   "id": "3c832964-2ff0-4024-81f5-bee244ec0722",
   "metadata": {},
   "outputs": [],
   "source": [
    "s = 'hello'"
   ]
  },
  {
   "cell_type": "code",
   "execution_count": 2,
   "id": "6f1ac859-7790-4a21-aac4-bc0493f6f5b4",
   "metadata": {},
   "outputs": [
    {
     "data": {
      "text/plain": [
       "True"
      ]
     },
     "execution_count": 2,
     "metadata": {},
     "output_type": "execute_result"
    }
   ],
   "source": [
    "'e' in s"
   ]
  },
  {
   "cell_type": "code",
   "execution_count": 3,
   "id": "23f63bcf-ac41-4bed-92f1-7357c020a843",
   "metadata": {},
   "outputs": [
    {
     "data": {
      "text/plain": [
       "False"
      ]
     },
     "execution_count": 3,
     "metadata": {},
     "output_type": "execute_result"
    }
   ],
   "source": [
    "'z' in s"
   ]
  },
  {
   "cell_type": "code",
   "execution_count": 4,
   "id": "c1183dd3-eede-439e-a062-9820c919f85a",
   "metadata": {},
   "outputs": [
    {
     "data": {
      "text/plain": [
       "True"
      ]
     },
     "execution_count": 4,
     "metadata": {},
     "output_type": "execute_result"
    }
   ],
   "source": [
    "'el' in s"
   ]
  },
  {
   "cell_type": "code",
   "execution_count": 5,
   "id": "8e27a0bd-7f45-444a-a3b0-9e6b1fb17cc0",
   "metadata": {},
   "outputs": [
    {
     "data": {
      "text/plain": [
       "False"
      ]
     },
     "execution_count": 5,
     "metadata": {},
     "output_type": "execute_result"
    }
   ],
   "source": [
    "'hl' in s"
   ]
  },
  {
   "cell_type": "code",
   "execution_count": 6,
   "id": "31f05a14-2c00-413b-98b5-f5b8e1719e9b",
   "metadata": {},
   "outputs": [
    {
     "data": {
      "text/plain": [
       "False"
      ]
     },
     "execution_count": 6,
     "metadata": {},
     "output_type": "execute_result"
    }
   ],
   "source": [
    "'h'  not in s"
   ]
  },
  {
   "cell_type": "code",
   "execution_count": 8,
   "id": "b6b81e0f-8d0e-4d69-8b41-6110e01f26cf",
   "metadata": {},
   "outputs": [],
   "source": [
    "text = 'broadway'\n",
    "vowel = 0\n",
    "consonent = 0\n",
    "\n",
    "for index in range (len (text)):\n",
    "    letter = text [index]\n",
    "    if letter in 'aeiou':\n",
    "        vowel = vowel + 1\n",
    "    else:\n",
    "        consonent = consonent + 1"
   ]
  },
  {
   "cell_type": "code",
   "execution_count": 9,
   "id": "12b3d104-33fb-473f-b74e-97f5b1a2cdfb",
   "metadata": {},
   "outputs": [
    {
     "data": {
      "text/plain": [
       "3"
      ]
     },
     "execution_count": 9,
     "metadata": {},
     "output_type": "execute_result"
    }
   ],
   "source": [
    "vowel"
   ]
  },
  {
   "cell_type": "code",
   "execution_count": 10,
   "id": "7ce7a27e-7e3c-4ff6-9649-300c813386bd",
   "metadata": {},
   "outputs": [
    {
     "data": {
      "text/plain": [
       "5"
      ]
     },
     "execution_count": 10,
     "metadata": {},
     "output_type": "execute_result"
    }
   ],
   "source": [
    "consonent"
   ]
  },
  {
   "cell_type": "code",
   "execution_count": 14,
   "id": "2d69ec4a-fc89-4901-8daf-0a83017600b5",
   "metadata": {},
   "outputs": [
    {
     "data": {
      "text/plain": [
       "True"
      ]
     },
     "execution_count": 14,
     "metadata": {},
     "output_type": "execute_result"
    }
   ],
   "source": [
    "letter = 'H'\n",
    "letter.isupper()"
   ]
  },
  {
   "cell_type": "code",
   "execution_count": 15,
   "id": "d0cf90ff-c993-4489-849a-833358a60b38",
   "metadata": {},
   "outputs": [],
   "source": [
    "name = '!$h@'"
   ]
  },
  {
   "cell_type": "code",
   "execution_count": 16,
   "id": "053e59e0-bf23-497c-8b22-d10b4510bf8f",
   "metadata": {},
   "outputs": [
    {
     "name": "stdout",
     "output_type": "stream",
     "text": [
      "isha\n"
     ]
    }
   ],
   "source": [
    "name = name.replace ('!', 'i')\n",
    "name = name.replace ('$', 's')\n",
    "name = name.replace ('@', 'a')\n",
    "print (name)"
   ]
  },
  {
   "cell_type": "code",
   "execution_count": null,
   "id": "b8c4f771-9fa3-4635-9921-3d46194c858f",
   "metadata": {},
   "outputs": [],
   "source": []
  }
 ],
 "metadata": {
  "kernelspec": {
   "display_name": "Python 3 (ipykernel)",
   "language": "python",
   "name": "python3"
  },
  "language_info": {
   "codemirror_mode": {
    "name": "ipython",
    "version": 3
   },
   "file_extension": ".py",
   "mimetype": "text/x-python",
   "name": "python",
   "nbconvert_exporter": "python",
   "pygments_lexer": "ipython3",
   "version": "3.12.1"
  }
 },
 "nbformat": 4,
 "nbformat_minor": 5
}
