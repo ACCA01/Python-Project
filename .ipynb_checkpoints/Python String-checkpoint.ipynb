{
 "cells": [
  {
   "cell_type": "markdown",
   "id": "9f1f958f-1847-4de0-a642-47b2f7a251dd",
   "metadata": {},
   "source": [
    "# Python String_ Single Line"
   ]
  },
  {
   "cell_type": "code",
   "execution_count": 1,
   "id": "0e35f587-1a15-4d54-8c31-bce53165d942",
   "metadata": {},
   "outputs": [
    {
     "data": {
      "text/plain": [
       "str"
      ]
     },
     "execution_count": 1,
     "metadata": {},
     "output_type": "execute_result"
    }
   ],
   "source": [
    "text = 'hello'\n",
    "type (text)"
   ]
  },
  {
   "cell_type": "code",
   "execution_count": 2,
   "id": "d04940a2-1bc4-4273-a21d-1c5cab2e885e",
   "metadata": {},
   "outputs": [
    {
     "data": {
      "text/plain": [
       "str"
      ]
     },
     "execution_count": 2,
     "metadata": {},
     "output_type": "execute_result"
    }
   ],
   "source": [
    "text = \"hello\"\n",
    "type (text)"
   ]
  },
  {
   "cell_type": "code",
   "execution_count": 3,
   "id": "451cacf8-b981-44b1-8f32-53d0b79647cf",
   "metadata": {},
   "outputs": [],
   "source": [
    "c1 = 'p'\n",
    "c2 = \"p\""
   ]
  },
  {
   "cell_type": "code",
   "execution_count": 4,
   "id": "f775856e-342e-4a52-8fb2-6dbf169959d1",
   "metadata": {},
   "outputs": [
    {
     "data": {
      "text/plain": [
       "True"
      ]
     },
     "execution_count": 4,
     "metadata": {},
     "output_type": "execute_result"
    }
   ],
   "source": [
    "c1 == c2"
   ]
  },
  {
   "cell_type": "code",
   "execution_count": 7,
   "id": "c4ad2434-cae1-421f-9793-bc2202f886d7",
   "metadata": {},
   "outputs": [],
   "source": [
    "#double quote and single quote same code ma use garna pain6.\n",
    "#variable ko data lai value bhan6"
   ]
  },
  {
   "cell_type": "markdown",
   "id": "0b080382-aed5-46ef-84e7-eae340ffe13f",
   "metadata": {},
   "source": [
    "# Data Validation"
   ]
  },
  {
   "cell_type": "code",
   "execution_count": 9,
   "id": "76471691-e79b-4225-a82d-cf21cd2eb4a3",
   "metadata": {},
   "outputs": [],
   "source": [
    "time = 24\n",
    "assert time == 24"
   ]
  },
  {
   "cell_type": "code",
   "execution_count": 3,
   "id": "e18aebee-ec10-4c96-8ce2-dec86d97f011",
   "metadata": {},
   "outputs": [
    {
     "ename": "AssertionError",
     "evalue": "",
     "output_type": "error",
     "traceback": [
      "\u001b[1;31m---------------------------------------------------------------------------\u001b[0m",
      "\u001b[1;31mAssertionError\u001b[0m                            Traceback (most recent call last)",
      "Cell \u001b[1;32mIn[3], line 2\u001b[0m\n\u001b[0;32m      1\u001b[0m time \u001b[38;5;241m=\u001b[39m \u001b[38;5;241m24\u001b[39m\n\u001b[1;32m----> 2\u001b[0m \u001b[38;5;28;01massert\u001b[39;00m time \u001b[38;5;241m==\u001b[39m \u001b[38;5;241m25\u001b[39m\n",
      "\u001b[1;31mAssertionError\u001b[0m: "
     ]
    }
   ],
   "source": [
    "time = 24\n",
    "assert time == 25"
   ]
  },
  {
   "cell_type": "code",
   "execution_count": 11,
   "id": "ba70883f-989e-4ebc-b541-d60a7e58c08d",
   "metadata": {},
   "outputs": [
    {
     "name": "stdout",
     "output_type": "stream",
     "text": [
      "Hello ! how are you ?\n"
     ]
    }
   ],
   "source": [
    "msg = \"Hello ! how are you ?\"\n",
    "print (msg)"
   ]
  },
  {
   "cell_type": "markdown",
   "id": "4bfbbd76-be99-4ce5-afe8-08b5fc597366",
   "metadata": {},
   "source": [
    "# Multi-Line String"
   ]
  },
  {
   "cell_type": "code",
   "execution_count": 14,
   "id": "ba05d030-89d3-42a4-8800-6d9a14cb44b5",
   "metadata": {},
   "outputs": [
    {
     "ename": "SyntaxError",
     "evalue": "unterminated string literal (detected at line 1) (3346620806.py, line 1)",
     "output_type": "error",
     "traceback": [
      "\u001b[1;36m  Cell \u001b[1;32mIn[14], line 1\u001b[1;36m\u001b[0m\n\u001b[1;33m    kabita = \"\u001b[0m\n\u001b[1;37m             ^\u001b[0m\n\u001b[1;31mSyntaxError\u001b[0m\u001b[1;31m:\u001b[0m unterminated string literal (detected at line 1)\n"
     ]
    }
   ],
   "source": [
    "kabita = \" \n",
    "संसार रुपी सुख स्वर्गभित्र,\n",
    "रमें रमाएँ लिइ भित्र चित्र ।\n",
    "सारा भयो त्यो मरुभूमि तुल्य,\n",
    "रातै परेझैं अब बुझ्छु बल्ल ।\n",
    "रहेछ संसार निशा समान,\n",
    "आएन ज्यूँदै रहँदा नि ज्ञान ।\n",
    "आखीर श्रीकृष्ण रहेछ एक,\n",
    "न भक्ति भो, ज्ञान, नभो विवेक ।\n",
    "महामरुमा कणझैं म तातो,\n",
    "जलेर मर्दो बिनु आश लाटो ।\n",
    "सुकी रहेको तरुझैं छु खाली,\n",
    "चिताग्नि तापी जल डाल्न फाली ।\n",
    "संस्कार आफ्नो सब नै गुमाएँ,\n",
    "म शून्यमा शून्य सरी बिलाएँ ।\n",
    "जन्मेँ म यो स्वर्गविषे पलाएँ,\n",
    "आखीर भै खाक त्यसै बिलाएँ \"\n",
    "print (kabita)"
   ]
  },
  {
   "cell_type": "code",
   "execution_count": 15,
   "id": "e4784f9c-3a8b-4a63-91e0-67c413a92da1",
   "metadata": {},
   "outputs": [],
   "source": [
    "# quote or double quote le multi line string lekhna mildain.\n",
    "# use triple quotes"
   ]
  },
  {
   "cell_type": "code",
   "execution_count": 16,
   "id": "cd525929-5d4b-4814-a752-8ef64abf2662",
   "metadata": {},
   "outputs": [
    {
     "name": "stdout",
     "output_type": "stream",
     "text": [
      " संसार रुपी सुख स्वर्गभित्र,\n",
      "रमें रमाएँ लिइ भित्र चित्र ।\n",
      "सारा भयो त्यो मरुभूमि तुल्य,\n",
      "रातै परेझैं अब बुझ्छु बल्ल ।\n",
      "रहेछ संसार निशा समान,\n",
      "आएन ज्यूँदै रहँदा नि ज्ञान ।\n",
      "आखीर श्रीकृष्ण रहेछ एक,\n",
      "न भक्ति भो, ज्ञान, नभो विवेक ।\n",
      "महामरुमा कणझैं म तातो,\n",
      "जलेर मर्दो बिनु आश लाटो ।\n",
      "सुकी रहेको तरुझैं छु खाली,\n",
      "चिताग्नि तापी जल डाल्न फाली ।\n",
      "संस्कार आफ्नो सब नै गुमाएँ,\n",
      "म शून्यमा शून्य सरी बिलाएँ ।\n",
      "जन्मेँ म यो स्वर्गविषे पलाएँ,\n",
      "आखीर भै खाक त्यसै बिलाएँ \n"
     ]
    }
   ],
   "source": [
    "kabita  = \"\"\" संसार रुपी सुख स्वर्गभित्र,\n",
    "रमें रमाएँ लिइ भित्र चित्र ।\n",
    "सारा भयो त्यो मरुभूमि तुल्य,\n",
    "रातै परेझैं अब बुझ्छु बल्ल ।\n",
    "रहेछ संसार निशा समान,\n",
    "आएन ज्यूँदै रहँदा नि ज्ञान ।\n",
    "आखीर श्रीकृष्ण रहेछ एक,\n",
    "न भक्ति भो, ज्ञान, नभो विवेक ।\n",
    "महामरुमा कणझैं म तातो,\n",
    "जलेर मर्दो बिनु आश लाटो ।\n",
    "सुकी रहेको तरुझैं छु खाली,\n",
    "चिताग्नि तापी जल डाल्न फाली ।\n",
    "संस्कार आफ्नो सब नै गुमाएँ,\n",
    "म शून्यमा शून्य सरी बिलाएँ ।\n",
    "जन्मेँ म यो स्वर्गविषे पलाएँ,\n",
    "आखीर भै खाक त्यसै बिलाएँ \"\"\"\n",
    "print (kabita)"
   ]
  },
  {
   "cell_type": "code",
   "execution_count": 17,
   "id": "c503ddb4-aa1b-4ba8-8b53-ed1ff07285c0",
   "metadata": {},
   "outputs": [
    {
     "name": "stdout",
     "output_type": "stream",
     "text": [
      " संसार रुपी सुख स्वर्गभित्र,\n",
      "रमें रमाएँ लिइ भित्र चित्र ।\n",
      "सारा भयो त्यो मरुभूमि तुल्य,\n",
      "रातै परेझैं अब बुझ्छु बल्ल ।\n",
      "रहेछ संसार निशा समान,\n",
      "आएन ज्यूँदै रहँदा नि ज्ञान ।\n",
      "आखीर श्रीकृष्ण रहेछ एक,\n",
      "न भक्ति भो, ज्ञान, नभो विवेक ।\n",
      "महामरुमा कणझैं म तातो,\n",
      "जलेर मर्दो बिनु आश लाटो ।\n",
      "सुकी रहेको तरुझैं छु खाली,\n",
      "चिताग्नि तापी जल डाल्न फाली ।\n",
      "संस्कार आफ्नो सब नै गुमाएँ,\n",
      "म शून्यमा शून्य सरी बिलाएँ ।\n",
      "जन्मेँ म यो स्वर्गविषे पलाएँ,\n",
      "आखीर भै खाक त्यसै बिलाएँ \n"
     ]
    }
   ],
   "source": [
    "kabita  = ''' संसार रुपी सुख स्वर्गभित्र,\n",
    "रमें रमाएँ लिइ भित्र चित्र ।\n",
    "सारा भयो त्यो मरुभूमि तुल्य,\n",
    "रातै परेझैं अब बुझ्छु बल्ल ।\n",
    "रहेछ संसार निशा समान,\n",
    "आएन ज्यूँदै रहँदा नि ज्ञान ।\n",
    "आखीर श्रीकृष्ण रहेछ एक,\n",
    "न भक्ति भो, ज्ञान, नभो विवेक ।\n",
    "महामरुमा कणझैं म तातो,\n",
    "जलेर मर्दो बिनु आश लाटो ।\n",
    "सुकी रहेको तरुझैं छु खाली,\n",
    "चिताग्नि तापी जल डाल्न फाली ।\n",
    "संस्कार आफ्नो सब नै गुमाएँ,\n",
    "म शून्यमा शून्य सरी बिलाएँ ।\n",
    "जन्मेँ म यो स्वर्गविषे पलाएँ,\n",
    "आखीर भै खाक त्यसै बिलाएँ '''\n",
    "print (kabita)"
   ]
  },
  {
   "cell_type": "markdown",
   "id": "9f7a70ed-9d03-40b2-8ee9-05dd782d839f",
   "metadata": {},
   "source": [
    " # Indexing And Slicing \n"
   ]
  },
  {
   "cell_type": "code",
   "execution_count": 18,
   "id": "bc9451d8-8180-4aa7-9a6f-e15c5b12c4ae",
   "metadata": {},
   "outputs": [],
   "source": [
    "s = 'hello world'"
   ]
  },
  {
   "cell_type": "code",
   "execution_count": 19,
   "id": "0a740257-0fc1-48f3-85b2-6b16cb4c9660",
   "metadata": {},
   "outputs": [
    {
     "data": {
      "text/plain": [
       "'h'"
      ]
     },
     "execution_count": 19,
     "metadata": {},
     "output_type": "execute_result"
    }
   ],
   "source": [
    "s [0]"
   ]
  },
  {
   "cell_type": "code",
   "execution_count": 20,
   "id": "78ee2db2-5646-497c-b611-e86b573551f9",
   "metadata": {},
   "outputs": [
    {
     "data": {
      "text/plain": [
       "'e'"
      ]
     },
     "execution_count": 20,
     "metadata": {},
     "output_type": "execute_result"
    }
   ],
   "source": [
    "s [1]"
   ]
  },
  {
   "cell_type": "code",
   "execution_count": 21,
   "id": "e5cf302e-4a4d-4052-8d2d-465ee185df7f",
   "metadata": {},
   "outputs": [
    {
     "data": {
      "text/plain": [
       "'l'"
      ]
     },
     "execution_count": 21,
     "metadata": {},
     "output_type": "execute_result"
    }
   ],
   "source": [
    "s [2]"
   ]
  },
  {
   "cell_type": "code",
   "execution_count": 22,
   "id": "3c2a703c-7b56-4335-8b94-0aeef858410c",
   "metadata": {},
   "outputs": [],
   "source": [
    "# indexing always start from 0."
   ]
  },
  {
   "cell_type": "code",
   "execution_count": 23,
   "id": "34087257-22ae-4aa0-9723-d723a9ae9012",
   "metadata": {},
   "outputs": [
    {
     "data": {
      "text/plain": [
       "'l'"
      ]
     },
     "execution_count": 23,
     "metadata": {},
     "output_type": "execute_result"
    }
   ],
   "source": [
    "s [3]"
   ]
  },
  {
   "cell_type": "code",
   "execution_count": 24,
   "id": "bd3161c3-3e63-4252-9c3f-c4687abcb26e",
   "metadata": {},
   "outputs": [
    {
     "data": {
      "text/plain": [
       "'r'"
      ]
     },
     "execution_count": 24,
     "metadata": {},
     "output_type": "execute_result"
    }
   ],
   "source": [
    "s [8]"
   ]
  },
  {
   "cell_type": "code",
   "execution_count": 25,
   "id": "8d2245f4-f8be-4c05-b2b1-68e12ca32d06",
   "metadata": {},
   "outputs": [
    {
     "ename": "IndexError",
     "evalue": "string index out of range",
     "output_type": "error",
     "traceback": [
      "\u001b[1;31m---------------------------------------------------------------------------\u001b[0m",
      "\u001b[1;31mIndexError\u001b[0m                                Traceback (most recent call last)",
      "Cell \u001b[1;32mIn[25], line 1\u001b[0m\n\u001b[1;32m----> 1\u001b[0m \u001b[43ms\u001b[49m\u001b[43m \u001b[49m\u001b[43m[\u001b[49m\u001b[38;5;241;43m11\u001b[39;49m\u001b[43m]\u001b[49m\n",
      "\u001b[1;31mIndexError\u001b[0m: string index out of range"
     ]
    }
   ],
   "source": [
    "s [11]"
   ]
  },
  {
   "cell_type": "code",
   "execution_count": 28,
   "id": "abd98cb3-dfba-45c9-8b8b-1a3d19371581",
   "metadata": {},
   "outputs": [
    {
     "data": {
      "text/plain": [
       "11"
      ]
     },
     "execution_count": 28,
     "metadata": {},
     "output_type": "execute_result"
    }
   ],
   "source": [
    "len (s)"
   ]
  },
  {
   "cell_type": "code",
   "execution_count": 30,
   "id": "e1846385-4895-43fd-a0f1-8ecf2b074cc2",
   "metadata": {},
   "outputs": [],
   "source": [
    "name = \"suresh\""
   ]
  },
  {
   "cell_type": "code",
   "execution_count": 31,
   "id": "eeb85db8-f9d8-40cc-b29f-d75f7e45e5e0",
   "metadata": {},
   "outputs": [
    {
     "data": {
      "text/plain": [
       "'u'"
      ]
     },
     "execution_count": 31,
     "metadata": {},
     "output_type": "execute_result"
    }
   ],
   "source": [
    "name [1]"
   ]
  },
  {
   "cell_type": "code",
   "execution_count": 32,
   "id": "c8425d52-6181-4bb9-9115-3b5b5255c75b",
   "metadata": {},
   "outputs": [
    {
     "data": {
      "text/plain": [
       "6"
      ]
     },
     "execution_count": 32,
     "metadata": {},
     "output_type": "execute_result"
    }
   ],
   "source": [
    "len (name)"
   ]
  },
  {
   "cell_type": "code",
   "execution_count": 33,
   "id": "a0718556-695c-4618-92d3-43c94621cede",
   "metadata": {},
   "outputs": [],
   "source": [
    "# indexing ma last ko index ko value lidaina."
   ]
  },
  {
   "cell_type": "code",
   "execution_count": 34,
   "id": "16b8337a-a655-40bd-9c8d-66356d912d05",
   "metadata": {},
   "outputs": [],
   "source": [
    "s = \"HELLO WORLD\""
   ]
  },
  {
   "cell_type": "code",
   "execution_count": 35,
   "id": "f49e8e2e-c1d9-4092-a329-637cf7b12e82",
   "metadata": {},
   "outputs": [
    {
     "data": {
      "text/plain": [
       "'LLO'"
      ]
     },
     "execution_count": 35,
     "metadata": {},
     "output_type": "execute_result"
    }
   ],
   "source": [
    "s [2:5]"
   ]
  },
  {
   "cell_type": "code",
   "execution_count": 36,
   "id": "2e383061-9d68-4fdd-ad61-7a18a117524a",
   "metadata": {},
   "outputs": [
    {
     "data": {
      "text/plain": [
       "'RLD'"
      ]
     },
     "execution_count": 36,
     "metadata": {},
     "output_type": "execute_result"
    }
   ],
   "source": [
    "s [8:11]"
   ]
  },
  {
   "cell_type": "code",
   "execution_count": 37,
   "id": "c492501f-50e3-48e4-a034-9c6ff04e24b5",
   "metadata": {},
   "outputs": [
    {
     "data": {
      "text/plain": [
       "'HELLO'"
      ]
     },
     "execution_count": 37,
     "metadata": {},
     "output_type": "execute_result"
    }
   ],
   "source": [
    "s[0:5]"
   ]
  },
  {
   "cell_type": "code",
   "execution_count": 38,
   "id": "1787f8df-c593-43de-81e2-1fc5954f1430",
   "metadata": {},
   "outputs": [
    {
     "data": {
      "text/plain": [
       "'HELLO'"
      ]
     },
     "execution_count": 38,
     "metadata": {},
     "output_type": "execute_result"
    }
   ],
   "source": [
    "s [:5]"
   ]
  },
  {
   "cell_type": "code",
   "execution_count": 39,
   "id": "fc9096e0-593b-4b48-9c4e-e6385eb94811",
   "metadata": {},
   "outputs": [
    {
     "data": {
      "text/plain": [
       "'HELLO WORLD'"
      ]
     },
     "execution_count": 39,
     "metadata": {},
     "output_type": "execute_result"
    }
   ],
   "source": [
    "s [:11]"
   ]
  },
  {
   "cell_type": "code",
   "execution_count": 9,
   "id": "a08c60d2-dcc2-4c95-a770-4d7cdb4b455c",
   "metadata": {},
   "outputs": [
    {
     "data": {
      "text/plain": [
       "'HELLO WORLD'"
      ]
     },
     "execution_count": 9,
     "metadata": {},
     "output_type": "execute_result"
    }
   ],
   "source": [
    "s = \"HELLO WORLD\"\n",
    "s [:]"
   ]
  },
  {
   "cell_type": "markdown",
   "id": "8f5d94ec-e262-48ab-8d81-42b29ddfe29c",
   "metadata": {},
   "source": [
    "# [start : stop : step]"
   ]
  },
  {
   "cell_type": "code",
   "execution_count": 41,
   "id": "7cedb337-eb4e-44a4-a501-27160426b655",
   "metadata": {},
   "outputs": [],
   "source": [
    "s = \"HELLO WORLD\""
   ]
  },
  {
   "cell_type": "code",
   "execution_count": 42,
   "id": "7eb619d7-aec7-4507-8c93-9e79fb147e1d",
   "metadata": {},
   "outputs": [
    {
     "data": {
      "text/plain": [
       "'HLOWRD'"
      ]
     },
     "execution_count": 42,
     "metadata": {},
     "output_type": "execute_result"
    }
   ],
   "source": [
    "s[0 : 11 : 2] # 0 = start, 11 = stop, 2 = step"
   ]
  },
  {
   "cell_type": "code",
   "execution_count": 43,
   "id": "8031d6fc-5ef1-4f49-a86c-4ba6c75b134e",
   "metadata": {},
   "outputs": [
    {
     "data": {
      "text/plain": [
       "'ORLD'"
      ]
     },
     "execution_count": 43,
     "metadata": {},
     "output_type": "execute_result"
    }
   ],
   "source": [
    "s [7:11] # 7th bata 11 samma"
   ]
  },
  {
   "cell_type": "code",
   "execution_count": 44,
   "id": "06d2d519-9562-4a43-9444-82a80f57bd7f",
   "metadata": {},
   "outputs": [
    {
     "data": {
      "text/plain": [
       "'ORLD'"
      ]
     },
     "execution_count": 44,
     "metadata": {},
     "output_type": "execute_result"
    }
   ],
   "source": [
    "s [7:] # 7th bata last samma."
   ]
  },
  {
   "cell_type": "code",
   "execution_count": 45,
   "id": "346cf3ba-2164-42b6-9203-1d81da1244dc",
   "metadata": {},
   "outputs": [
    {
     "data": {
      "text/plain": [
       "'HLOWRD'"
      ]
     },
     "execution_count": 45,
     "metadata": {},
     "output_type": "execute_result"
    }
   ],
   "source": [
    "s[::2] "
   ]
  },
  {
   "cell_type": "code",
   "execution_count": 10,
   "id": "e815c0bb-5478-4fd0-bb0c-165ed3545764",
   "metadata": {},
   "outputs": [
    {
     "data": {
      "text/plain": [
       "'HELLO WORLD'"
      ]
     },
     "execution_count": 10,
     "metadata": {},
     "output_type": "execute_result"
    }
   ],
   "source": [
    "s[:11] "
   ]
  },
  {
   "cell_type": "code",
   "execution_count": null,
   "id": "a80bf151-1dac-4fd8-9c53-f65f2aa725b5",
   "metadata": {},
   "outputs": [],
   "source": []
  }
 ],
 "metadata": {
  "kernelspec": {
   "display_name": "Python 3 (ipykernel)",
   "language": "python",
   "name": "python3"
  },
  "language_info": {
   "codemirror_mode": {
    "name": "ipython",
    "version": 3
   },
   "file_extension": ".py",
   "mimetype": "text/x-python",
   "name": "python",
   "nbconvert_exporter": "python",
   "pygments_lexer": "ipython3",
   "version": "3.12.1"
  }
 },
 "nbformat": 4,
 "nbformat_minor": 5
}
