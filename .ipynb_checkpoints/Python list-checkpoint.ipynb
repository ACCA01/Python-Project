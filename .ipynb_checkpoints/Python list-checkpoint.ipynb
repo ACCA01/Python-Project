{
 "cells": [
  {
   "cell_type": "markdown",
   "id": "d2c1cb6b-0d8e-4b94-b025-026d7a8ab00f",
   "metadata": {},
   "source": [
    "# List is a collection of items under one variable name\n",
    "* list can hold multiple values with multiple date type\n",
    "* allows duplicate values\n",
    "* mutable\n",
    "* written inside '[]' with items separated by comma\n",
    "* ordered , indexed"
   ]
  },
  {
   "cell_type": "code",
   "execution_count": 4,
   "id": "3c67bf89-0427-4aae-8ee9-67f47011f60f",
   "metadata": {},
   "outputs": [
    {
     "name": "stdout",
     "output_type": "stream",
     "text": [
      "[5, 0.3, True, 'hello']\n",
      "<class 'list'>\n"
     ]
    }
   ],
   "source": [
    "list_1 = [5, 0.3, True, 'hello']\n",
    "print (list_1)\n",
    "print (type(list_1))"
   ]
  },
  {
   "cell_type": "code",
   "execution_count": 9,
   "id": "e2684bb4-9343-4970-9147-9afd9f2ff6fb",
   "metadata": {},
   "outputs": [
    {
     "name": "stdout",
     "output_type": "stream",
     "text": [
      "['iphone', 'Ps5', 'Guitar', 'US Visa', 'DV', 'Car', 'Flower', 'Chocolate']\n"
     ]
    }
   ],
   "source": [
    "gift = ['iphone', 'Ps5', 'Guitar', 'US Visa', 'DV', 'Car', 'Flower', 'Chocolate']\n",
    "print(gift)"
   ]
  },
  {
   "cell_type": "code",
   "execution_count": 6,
   "id": "02a2c92b-2b9e-4410-95f9-dc9f5d8390cf",
   "metadata": {},
   "outputs": [
    {
     "data": {
      "text/plain": [
       "'Ps5'"
      ]
     },
     "execution_count": 6,
     "metadata": {},
     "output_type": "execute_result"
    }
   ],
   "source": [
    "gift[1]"
   ]
  },
  {
   "cell_type": "code",
   "execution_count": 7,
   "id": "7abbe343-7ff8-4f2b-aad4-e907957a111e",
   "metadata": {},
   "outputs": [
    {
     "data": {
      "text/plain": [
       "'iphone'"
      ]
     },
     "execution_count": 7,
     "metadata": {},
     "output_type": "execute_result"
    }
   ],
   "source": [
    "gift[0]"
   ]
  },
  {
   "cell_type": "code",
   "execution_count": 10,
   "id": "97fa6492-7fff-4dd5-8dfa-b5ac6840e300",
   "metadata": {},
   "outputs": [
    {
     "data": {
      "text/plain": [
       "'Flower'"
      ]
     },
     "execution_count": 10,
     "metadata": {},
     "output_type": "execute_result"
    }
   ],
   "source": [
    "gift[6]"
   ]
  },
  {
   "cell_type": "markdown",
   "id": "123cc16b-364e-4074-8072-ee9c0d6762e7",
   "metadata": {},
   "source": [
    "# Negative Indexing = It will start from the end ; -1 refers to last item & soon."
   ]
  },
  {
   "cell_type": "code",
   "execution_count": 11,
   "id": "26d8fdd1-ade1-415a-993c-488be4efd9ba",
   "metadata": {},
   "outputs": [
    {
     "data": {
      "text/plain": [
       "'Chocolate'"
      ]
     },
     "execution_count": 11,
     "metadata": {},
     "output_type": "execute_result"
    }
   ],
   "source": [
    "gift[-1]"
   ]
  },
  {
   "cell_type": "code",
   "execution_count": 12,
   "id": "03ad85e0-8f3c-4b77-ae05-1dc41672c12b",
   "metadata": {},
   "outputs": [
    {
     "data": {
      "text/plain": [
       "'Guitar'"
      ]
     },
     "execution_count": 12,
     "metadata": {},
     "output_type": "execute_result"
    }
   ],
   "source": [
    "gift[-6]"
   ]
  },
  {
   "cell_type": "code",
   "execution_count": 13,
   "id": "454bf5e6-4c0a-41e0-8ef4-6e3bf0e9380b",
   "metadata": {},
   "outputs": [
    {
     "data": {
      "text/plain": [
       "'iphone'"
      ]
     },
     "execution_count": 13,
     "metadata": {},
     "output_type": "execute_result"
    }
   ],
   "source": [
    "gift[-8]"
   ]
  },
  {
   "cell_type": "code",
   "execution_count": 16,
   "id": "cbd50973-38ac-4efb-bf30-e429cd937156",
   "metadata": {},
   "outputs": [
    {
     "data": {
      "text/plain": [
       "['US Visa', 'DV']"
      ]
     },
     "execution_count": 16,
     "metadata": {},
     "output_type": "execute_result"
    }
   ],
   "source": [
    "gift[3:5]"
   ]
  },
  {
   "cell_type": "code",
   "execution_count": 17,
   "id": "7655c2d5-7340-48c2-ac0f-93434088c356",
   "metadata": {},
   "outputs": [
    {
     "data": {
      "text/plain": [
       "['Car', 'Flower', 'Chocolate']"
      ]
     },
     "execution_count": 17,
     "metadata": {},
     "output_type": "execute_result"
    }
   ],
   "source": [
    "gift[5:8]"
   ]
  },
  {
   "cell_type": "code",
   "execution_count": 18,
   "id": "6c1cfc4b-6bbc-401d-a8c3-4efa495e9c6d",
   "metadata": {},
   "outputs": [
    {
     "data": {
      "text/plain": [
       "['Car', 'Flower', 'Chocolate']"
      ]
     },
     "execution_count": 18,
     "metadata": {},
     "output_type": "execute_result"
    }
   ],
   "source": [
    "gift[5:]"
   ]
  },
  {
   "cell_type": "code",
   "execution_count": 22,
   "id": "45bb44ec-e468-424f-a8e3-6f91aa43bf63",
   "metadata": {},
   "outputs": [
    {
     "data": {
      "text/plain": [
       "['Car', 'Flower', 'Chocolate']"
      ]
     },
     "execution_count": 22,
     "metadata": {},
     "output_type": "execute_result"
    }
   ],
   "source": [
    "gift[-3:] # -3 index bata right side ko sabai aauxa"
   ]
  },
  {
   "cell_type": "code",
   "execution_count": 21,
   "id": "6e24e227-98a7-4eb3-9c79-b3075c09bf9d",
   "metadata": {},
   "outputs": [
    {
     "data": {
      "text/plain": [
       "['iphone', 'Ps5', 'Guitar', 'US Visa', 'DV']"
      ]
     },
     "execution_count": 21,
     "metadata": {},
     "output_type": "execute_result"
    }
   ],
   "source": [
    "gift[:-3] # start bata -3 index samma sabai aauxa"
   ]
  },
  {
   "cell_type": "code",
   "execution_count": 23,
   "id": "bd1f109b-0c68-4ce3-83ee-58134cc9672a",
   "metadata": {},
   "outputs": [],
   "source": [
    "# [] - list ra indexing, slicing\n",
    "# {} - f-string , dictionary , set\n",
    "# () - function call , object creation, method call, tuples"
   ]
  },
  {
   "cell_type": "code",
   "execution_count": 24,
   "id": "87d3077c-f957-477f-8bf3-6970c65f5470",
   "metadata": {},
   "outputs": [
    {
     "data": {
      "text/plain": [
       "8"
      ]
     },
     "execution_count": 24,
     "metadata": {},
     "output_type": "execute_result"
    }
   ],
   "source": [
    "gift = ['iphone', 'Ps5', 'Guitar', 'US Visa', 'DV', 'Car', 'Flower', 'Chocolate']\n",
    "len(gift)"
   ]
  },
  {
   "cell_type": "code",
   "execution_count": 27,
   "id": "9cb640ee-f9eb-4545-abab-560310c02acd",
   "metadata": {},
   "outputs": [
    {
     "name": "stdout",
     "output_type": "stream",
     "text": [
      "0 iphone\n",
      "1 Ps5\n",
      "2 Guitar\n",
      "3 US Visa\n",
      "4 DV\n",
      "5 Car\n",
      "6 Flower\n",
      "7 Chocolate\n"
     ]
    }
   ],
   "source": [
    "for index in range (len(gift)):\n",
    "    item = gift[index]\n",
    "    print (index, item)"
   ]
  },
  {
   "cell_type": "code",
   "execution_count": 31,
   "id": "bb3296b8-f43a-4b22-9b5c-5947026c0834",
   "metadata": {},
   "outputs": [
    {
     "name": "stdout",
     "output_type": "stream",
     "text": [
      "iphone\n",
      "Ps5\n",
      "Guitar\n",
      "US Visa\n",
      "DV\n",
      "Car\n",
      "Flower\n",
      "Chocolate\n"
     ]
    }
   ],
   "source": [
    "gift = ['iphone', 'Ps5', 'Guitar', 'US Visa', 'DV', 'Car', 'Flower', 'Chocolate']\n",
    "for item in gift:\n",
    "    print(item)"
   ]
  },
  {
   "cell_type": "code",
   "execution_count": 45,
   "id": "c629f701-b932-455e-b8de-0142879c3ef2",
   "metadata": {},
   "outputs": [],
   "source": [
    "numbers = [1, 2, 6, 7]\n",
    "total= 0\n",
    "for item in numbers:\n",
    "    total = total + item"
   ]
  },
  {
   "cell_type": "code",
   "execution_count": 46,
   "id": "52994fca-b1c6-4513-aab3-152c5bac5d85",
   "metadata": {},
   "outputs": [
    {
     "data": {
      "text/plain": [
       "16"
      ]
     },
     "execution_count": 46,
     "metadata": {},
     "output_type": "execute_result"
    }
   ],
   "source": [
    "total"
   ]
  },
  {
   "cell_type": "code",
   "execution_count": 49,
   "id": "f0e8d533-1c15-41bb-b146-b5909181c7ab",
   "metadata": {},
   "outputs": [
    {
     "name": "stdout",
     "output_type": "stream",
     "text": [
      "4.0\n"
     ]
    }
   ],
   "source": [
    "numbers = [1, 2, 6, 7]\n",
    "total = 0\n",
    "for item in numbers:\n",
    "    total = total + item\n",
    "mean = total / len(numbers)\n",
    "print(mean)"
   ]
  },
  {
   "cell_type": "code",
   "execution_count": 51,
   "id": "d0f90319-b99d-4f7c-a10c-83897c1d2a8a",
   "metadata": {},
   "outputs": [
    {
     "name": "stdout",
     "output_type": "stream",
     "text": [
      "4.0\n"
     ]
    }
   ],
   "source": [
    "numbers = [1, 2, 6, 7]\n",
    "total = 0\n",
    "for index in range (len(numbers)):\n",
    "    item = numbers[index]\n",
    "    total = total + item\n",
    "mean = total/len(numbers)\n",
    "print(mean)"
   ]
  },
  {
   "cell_type": "markdown",
   "id": "2ab8d04a-e3eb-436b-b9f1-45c34b89f720",
   "metadata": {},
   "source": [
    "# Memberhip Operator"
   ]
  },
  {
   "cell_type": "code",
   "execution_count": 52,
   "id": "1c97fc18-17a5-4032-979d-7e037c58693d",
   "metadata": {},
   "outputs": [],
   "source": [
    "fruits = ['apple', 'banana', 'mango', 'orange', 'pear']"
   ]
  },
  {
   "cell_type": "code",
   "execution_count": 54,
   "id": "32eaa1d4-d606-4679-a076-d653f0a67dba",
   "metadata": {},
   "outputs": [
    {
     "data": {
      "text/plain": [
       "True"
      ]
     },
     "execution_count": 54,
     "metadata": {},
     "output_type": "execute_result"
    }
   ],
   "source": [
    "'mango' in fruits"
   ]
  },
  {
   "cell_type": "code",
   "execution_count": 55,
   "id": "9c225f35-be66-4d65-8510-3b950259952d",
   "metadata": {},
   "outputs": [
    {
     "data": {
      "text/plain": [
       "False"
      ]
     },
     "execution_count": 55,
     "metadata": {},
     "output_type": "execute_result"
    }
   ],
   "source": [
    "'mango' not in fruits"
   ]
  },
  {
   "cell_type": "code",
   "execution_count": 56,
   "id": "8f8bed60-2931-45e8-9b45-d79455bd6e90",
   "metadata": {},
   "outputs": [
    {
     "data": {
      "text/plain": [
       "False"
      ]
     },
     "execution_count": 56,
     "metadata": {},
     "output_type": "execute_result"
    }
   ],
   "source": [
    "'peach' in fruits"
   ]
  },
  {
   "cell_type": "code",
   "execution_count": 57,
   "id": "5aad4a8c-2a70-4b0d-868e-1452bcf8203d",
   "metadata": {},
   "outputs": [
    {
     "data": {
      "text/plain": [
       "True"
      ]
     },
     "execution_count": 57,
     "metadata": {},
     "output_type": "execute_result"
    }
   ],
   "source": [
    "'peach' not in fruits"
   ]
  },
  {
   "cell_type": "code",
   "execution_count": null,
   "id": "8a281931-4e70-4b04-abca-ac52fdad9690",
   "metadata": {},
   "outputs": [],
   "source": []
  }
 ],
 "metadata": {
  "kernelspec": {
   "display_name": "Python 3 (ipykernel)",
   "language": "python",
   "name": "python3"
  },
  "language_info": {
   "codemirror_mode": {
    "name": "ipython",
    "version": 3
   },
   "file_extension": ".py",
   "mimetype": "text/x-python",
   "name": "python",
   "nbconvert_exporter": "python",
   "pygments_lexer": "ipython3",
   "version": "3.12.1"
  }
 },
 "nbformat": 4,
 "nbformat_minor": 5
}
