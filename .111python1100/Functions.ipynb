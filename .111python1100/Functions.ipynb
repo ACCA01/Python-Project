{
 "cells": [
  {
   "cell_type": "code",
   "execution_count": 1,
   "id": "5db53559-1520-4ab6-bb15-0ddf1b816662",
   "metadata": {},
   "outputs": [
    {
     "name": "stdout",
     "output_type": "stream",
     "text": [
      "8\n"
     ]
    }
   ],
   "source": [
    "a = 5\n",
    "b = 3\n",
    "c = a + b\n",
    "print(c)"
   ]
  },
  {
   "cell_type": "markdown",
   "id": "3cbc85b3-c16a-4ad7-88ec-248a75ea722d",
   "metadata": {},
   "source": [
    "# syntax\n",
    "```python\n",
    "def function_name(arguments):\n",
    "    # function's body\n",
    "    return expression\n",
    "```"
   ]
  },
  {
   "cell_type": "code",
   "execution_count": 2,
   "id": "7549825f-633b-4e86-8132-384e370dc393",
   "metadata": {},
   "outputs": [],
   "source": [
    "def add():\n",
    "    a = 5\n",
    "    b = 3\n",
    "    c = a + b\n",
    "    print(c)"
   ]
  },
  {
   "cell_type": "code",
   "execution_count": 3,
   "id": "40f64be5-f5df-4197-b34c-ed963995a1dd",
   "metadata": {},
   "outputs": [
    {
     "name": "stdout",
     "output_type": "stream",
     "text": [
      "8\n"
     ]
    }
   ],
   "source": [
    "add()"
   ]
  },
  {
   "cell_type": "code",
   "execution_count": 4,
   "id": "1461f4a0-d715-458c-a292-d618c13f476a",
   "metadata": {},
   "outputs": [
    {
     "name": "stdout",
     "output_type": "stream",
     "text": [
      "8\n"
     ]
    }
   ],
   "source": [
    "add()"
   ]
  },
  {
   "cell_type": "code",
   "execution_count": 6,
   "id": "f9c4694c-3d2a-4471-8494-a8a10e7e7623",
   "metadata": {},
   "outputs": [],
   "source": [
    "# in function, code is repetative/ reused by itself without defining code"
   ]
  },
  {
   "cell_type": "code",
   "execution_count": 7,
   "id": "4ff7aeee-08be-4660-9a5d-a14cd0605859",
   "metadata": {},
   "outputs": [],
   "source": [
    "def add(a, b):\n",
    "    c = a + b\n",
    "    print(c)"
   ]
  },
  {
   "cell_type": "code",
   "execution_count": 8,
   "id": "82db91dd-ec24-47bf-8216-8f32ec54d979",
   "metadata": {},
   "outputs": [
    {
     "ename": "TypeError",
     "evalue": "add() missing 2 required positional arguments: 'a' and 'b'",
     "output_type": "error",
     "traceback": [
      "\u001b[1;31m---------------------------------------------------------------------------\u001b[0m",
      "\u001b[1;31mTypeError\u001b[0m                                 Traceback (most recent call last)",
      "Cell \u001b[1;32mIn[8], line 1\u001b[0m\n\u001b[1;32m----> 1\u001b[0m \u001b[43madd\u001b[49m\u001b[43m(\u001b[49m\u001b[43m)\u001b[49m\n",
      "\u001b[1;31mTypeError\u001b[0m: add() missing 2 required positional arguments: 'a' and 'b'"
     ]
    }
   ],
   "source": [
    "add()"
   ]
  },
  {
   "cell_type": "code",
   "execution_count": 11,
   "id": "e06f5ebd-32f5-47ff-baa1-0e07ce609368",
   "metadata": {},
   "outputs": [
    {
     "name": "stdout",
     "output_type": "stream",
     "text": [
      "12\n"
     ]
    }
   ],
   "source": [
    "x= 5\n",
    "y= 7\n",
    "add(a=x, b=y) # preferred method"
   ]
  },
  {
   "cell_type": "code",
   "execution_count": 10,
   "id": "c137137d-da4d-4528-8d3b-7833ddad7cc3",
   "metadata": {},
   "outputs": [
    {
     "name": "stdout",
     "output_type": "stream",
     "text": [
      "12\n"
     ]
    }
   ],
   "source": [
    "add(x,y)"
   ]
  },
  {
   "cell_type": "code",
   "execution_count": 29,
   "id": "19981bef-645a-4ccb-a495-c3c93c19544e",
   "metadata": {},
   "outputs": [],
   "source": [
    "output = add( a= 9, b = 2)"
   ]
  },
  {
   "cell_type": "code",
   "execution_count": 30,
   "id": "39428171-26fa-415e-b59e-703c6428d31b",
   "metadata": {},
   "outputs": [],
   "source": [
    "output"
   ]
  },
  {
   "cell_type": "code",
   "execution_count": 31,
   "id": "85d43c00-dfe7-449a-a2ba-b532f20f2c83",
   "metadata": {},
   "outputs": [],
   "source": [
    "def add (a,b):\n",
    "    c = a + b\n",
    "    return c"
   ]
  },
  {
   "cell_type": "code",
   "execution_count": 32,
   "id": "254126a7-5c4c-4c7c-b09b-fd70de800818",
   "metadata": {},
   "outputs": [
    {
     "name": "stdout",
     "output_type": "stream",
     "text": [
      "11\n"
     ]
    }
   ],
   "source": [
    "output = add( a= 9, b = 2)\n",
    "print(output)"
   ]
  },
  {
   "cell_type": "code",
   "execution_count": 35,
   "id": "43fe4dc6-5678-4c0d-b685-ab1152791fd6",
   "metadata": {},
   "outputs": [],
   "source": [
    "a = 9\n",
    "b = 2"
   ]
  },
  {
   "cell_type": "code",
   "execution_count": 42,
   "id": "196510d1-86b8-419e-b3de-cc4a266367ac",
   "metadata": {},
   "outputs": [],
   "source": [
    "def sub (a, b):\n",
    "    c = a-b\n",
    "    return c"
   ]
  },
  {
   "cell_type": "code",
   "execution_count": 43,
   "id": "ebb8e02f-bb51-4507-91d5-06fa558c163d",
   "metadata": {},
   "outputs": [
    {
     "name": "stdout",
     "output_type": "stream",
     "text": [
      "7\n"
     ]
    }
   ],
   "source": [
    "output = sub (a = 9 , b = 2)\n",
    "print(output)"
   ]
  },
  {
   "cell_type": "code",
   "execution_count": 44,
   "id": "b5783d15-0258-4144-8bc4-7308fd6f7561",
   "metadata": {},
   "outputs": [],
   "source": [
    "def mul (a,b):\n",
    "    c = a*b\n",
    "    return c"
   ]
  },
  {
   "cell_type": "code",
   "execution_count": 45,
   "id": "0dc3f3f9-043b-419b-b221-c5a912d724ac",
   "metadata": {},
   "outputs": [
    {
     "data": {
      "text/plain": [
       "18"
      ]
     },
     "execution_count": 45,
     "metadata": {},
     "output_type": "execute_result"
    }
   ],
   "source": [
    "output = mul (a= 9, b = 2)\n",
    "output"
   ]
  },
  {
   "cell_type": "code",
   "execution_count": 46,
   "id": "18ce4bf9-b425-4a57-a00e-cb72f3df1178",
   "metadata": {},
   "outputs": [],
   "source": [
    "def div (a,b):\n",
    "    c= a / b\n",
    "    return c"
   ]
  },
  {
   "cell_type": "code",
   "execution_count": 47,
   "id": "b118e49f-db82-4a38-af03-3a43bc23f88d",
   "metadata": {},
   "outputs": [
    {
     "data": {
      "text/plain": [
       "4.5"
      ]
     },
     "execution_count": 47,
     "metadata": {},
     "output_type": "execute_result"
    }
   ],
   "source": [
    "output = div (a= 9, b = 2)\n",
    "output"
   ]
  },
  {
   "cell_type": "code",
   "execution_count": 50,
   "id": "e99e55b3-1316-4fac-9960-7c86ccdf407b",
   "metadata": {},
   "outputs": [],
   "source": [
    "#find volume of sphere using function"
   ]
  },
  {
   "cell_type": "code",
   "execution_count": 2,
   "id": "46fa7d3d-6499-4cff-9aa7-3255198ffe44",
   "metadata": {},
   "outputs": [],
   "source": [
    "import math\n",
    "def volume(r):\n",
    "    return 4/3 * math.pi * r**3"
   ]
  },
  {
   "cell_type": "code",
   "execution_count": 3,
   "id": "d602bc37-1ae0-4cd5-8ccd-d326aedc79a4",
   "metadata": {},
   "outputs": [
    {
     "name": "stdin",
     "output_type": "stream",
     "text": [
      "enter a radius 5\n"
     ]
    },
    {
     "name": "stdout",
     "output_type": "stream",
     "text": [
      "The volume of sphere is 523.5987755982989\n"
     ]
    }
   ],
   "source": [
    "radius = float(input(\"enter a radius\"))\n",
    "vol = volume(r = radius)\n",
    "print(f'The volume of sphere is {vol}')"
   ]
  },
  {
   "cell_type": "code",
   "execution_count": 4,
   "id": "c780dc5f-06e3-4631-96f2-e7764e4e770d",
   "metadata": {},
   "outputs": [],
   "source": [
    "# area of circle"
   ]
  },
  {
   "cell_type": "code",
   "execution_count": 3,
   "id": "4f9b44e8-a496-4ef2-935b-b718f11962f0",
   "metadata": {},
   "outputs": [],
   "source": [
    "import math\n",
    "def area(r):\n",
    "    return math.pi * r**2"
   ]
  },
  {
   "cell_type": "code",
   "execution_count": 6,
   "id": "feb2489d-e593-47f7-9df9-1460cb503469",
   "metadata": {},
   "outputs": [
    {
     "name": "stdin",
     "output_type": "stream",
     "text": [
      "enter a number 5\n"
     ]
    },
    {
     "name": "stdout",
     "output_type": "stream",
     "text": [
      "78.53981633974483\n"
     ]
    }
   ],
   "source": [
    "radius = float(input(\"enter a number\"))\n",
    "total_area = area(r=radius)\n",
    "print(total_area)"
   ]
  },
  {
   "cell_type": "markdown",
   "id": "d2b8e1bc-d35f-442e-8f6f-a8ac3fcbf77f",
   "metadata": {},
   "source": [
    "# Default vs non default arguments"
   ]
  },
  {
   "cell_type": "code",
   "execution_count": 9,
   "id": "763574a9-a721-4bc5-8dbc-ffaefadec589",
   "metadata": {},
   "outputs": [],
   "source": [
    "def greet (name, msg):\n",
    "    print(f'Hello {name}, {msg}')"
   ]
  },
  {
   "cell_type": "code",
   "execution_count": 10,
   "id": "8fe84f16-3f6d-4ffd-8b70-cce7967d5196",
   "metadata": {},
   "outputs": [
    {
     "name": "stdout",
     "output_type": "stream",
     "text": [
      "Hello Suresh, Good Morning\n"
     ]
    }
   ],
   "source": [
    "greet(name = 'Suresh', msg= 'Good Morning')"
   ]
  },
  {
   "cell_type": "code",
   "execution_count": 11,
   "id": "95ad7d1d-80ed-445c-94f3-0e0794183770",
   "metadata": {},
   "outputs": [
    {
     "name": "stdout",
     "output_type": "stream",
     "text": [
      "Hello Ram, Good MOrning\n"
     ]
    }
   ],
   "source": [
    "greet(name = 'Ram', msg= 'Good MOrning')"
   ]
  },
  {
   "cell_type": "code",
   "execution_count": 15,
   "id": "fb1a32da-2770-4169-8456-1a7a3942a731",
   "metadata": {},
   "outputs": [],
   "source": [
    "def greet(name, msg='Good Morning'):\n",
    "    print(f'Hello {name}, {msg}')"
   ]
  },
  {
   "cell_type": "code",
   "execution_count": 16,
   "id": "3f4d351e-fd63-4f99-8a26-4b8d478d32b6",
   "metadata": {},
   "outputs": [
    {
     "name": "stdout",
     "output_type": "stream",
     "text": [
      "Hello Shayam, Good Morning\n"
     ]
    }
   ],
   "source": [
    "greet(name = 'Shayam')"
   ]
  },
  {
   "cell_type": "code",
   "execution_count": 17,
   "id": "6ac1a9a4-d6e7-4b9e-8dee-9e5c644bb5a4",
   "metadata": {},
   "outputs": [
    {
     "name": "stdout",
     "output_type": "stream",
     "text": [
      "Hello Hari, Good Morning\n"
     ]
    }
   ],
   "source": [
    "greet (name = \"Hari\")"
   ]
  },
  {
   "cell_type": "code",
   "execution_count": 18,
   "id": "ed216e7b-d5c0-47fd-bc9a-5670d2ec7676",
   "metadata": {},
   "outputs": [
    {
     "name": "stdout",
     "output_type": "stream",
     "text": [
      "Hello Shree, Good Afternoon\n"
     ]
    }
   ],
   "source": [
    "greet (name = 'Shree', msg = 'Good Afternoon')"
   ]
  },
  {
   "cell_type": "code",
   "execution_count": 20,
   "id": "06afa5ef-5b0b-4580-a582-85a4692a0534",
   "metadata": {},
   "outputs": [],
   "source": [
    "# default argument chha kunai function ma tyo argument ko value\n",
    "# function call garda naya argument diyo bhane default value use navayera function call ko value use hunxa"
   ]
  },
  {
   "cell_type": "code",
   "execution_count": 21,
   "id": "581cec90-e3b2-4c8b-a773-f931d367e0d4",
   "metadata": {},
   "outputs": [
    {
     "ename": "SyntaxError",
     "evalue": "parameter without a default follows parameter with a default (2598100231.py, line 1)",
     "output_type": "error",
     "traceback": [
      "\u001b[1;36m  Cell \u001b[1;32mIn[21], line 1\u001b[1;36m\u001b[0m\n\u001b[1;33m    def greet(msg='Good Morning', name):\u001b[0m\n\u001b[1;37m                                  ^\u001b[0m\n\u001b[1;31mSyntaxError\u001b[0m\u001b[1;31m:\u001b[0m parameter without a default follows parameter with a default\n"
     ]
    }
   ],
   "source": [
    "def greet(msg='Good Morning', name):\n",
    "    print(f'Hello {name}, {msg}')"
   ]
  },
  {
   "cell_type": "code",
   "execution_count": 23,
   "id": "17eb69de-9988-4392-867a-4a3d458eacdd",
   "metadata": {},
   "outputs": [],
   "source": [
    "# non default argument le default argument lai follow gardaina"
   ]
  },
  {
   "cell_type": "code",
   "execution_count": 25,
   "id": "7c4817ce-3614-4d86-bc27-ea2ec83c1226",
   "metadata": {},
   "outputs": [],
   "source": [
    "# non default ko argument 1st ma lekhna par6; and default argument last ma lekhna parxa"
   ]
  },
  {
   "cell_type": "markdown",
   "id": "00662999-fedb-4504-8084-6044b0982132",
   "metadata": {},
   "source": [
    "# Global vs Local"
   ]
  },
  {
   "cell_type": "code",
   "execution_count": 51,
   "id": "0774a425-46e6-422d-86e1-bc382750ff2a",
   "metadata": {},
   "outputs": [
    {
     "name": "stdout",
     "output_type": "stream",
     "text": [
      "awesome\n"
     ]
    }
   ],
   "source": [
    "x = 'awesome' # global value\n",
    "def test():\n",
    "    x = 'fantastic' # local value\n",
    "    print(x)\n",
    "print(x)"
   ]
  },
  {
   "cell_type": "code",
   "execution_count": 52,
   "id": "18ec1fec-13a7-42b8-81d6-adcdc4507f89",
   "metadata": {},
   "outputs": [],
   "source": [
    "# function bhitra ko value local hun6"
   ]
  },
  {
   "cell_type": "code",
   "execution_count": 53,
   "id": "24f95bd8-6654-4b9e-a656-284de910d84d",
   "metadata": {},
   "outputs": [
    {
     "name": "stdout",
     "output_type": "stream",
     "text": [
      "awesome\n"
     ]
    }
   ],
   "source": [
    "x = 'awesome'\n",
    "def test():\n",
    "    x = 'fantastic'\n",
    "    print(x)\n",
    "print(x)"
   ]
  },
  {
   "cell_type": "code",
   "execution_count": 54,
   "id": "c84f2e20-21cb-4618-bf82-d08d061ae9ae",
   "metadata": {},
   "outputs": [
    {
     "name": "stdout",
     "output_type": "stream",
     "text": [
      "fantastic\n"
     ]
    }
   ],
   "source": [
    "test()"
   ]
  },
  {
   "cell_type": "code",
   "execution_count": 55,
   "id": "ae341dca-c1e6-428a-b07a-22a170b90943",
   "metadata": {},
   "outputs": [
    {
     "ename": "NameError",
     "evalue": "name 'p' is not defined",
     "output_type": "error",
     "traceback": [
      "\u001b[1;31m---------------------------------------------------------------------------\u001b[0m",
      "\u001b[1;31mNameError\u001b[0m                                 Traceback (most recent call last)",
      "Cell \u001b[1;32mIn[55], line 3\u001b[0m\n\u001b[0;32m      1\u001b[0m \u001b[38;5;28;01mdef\u001b[39;00m \u001b[38;5;21msomething\u001b[39m():\n\u001b[0;32m      2\u001b[0m     p \u001b[38;5;241m=\u001b[39m \u001b[38;5;241m55\u001b[39m\n\u001b[1;32m----> 3\u001b[0m \u001b[38;5;28mprint\u001b[39m(\u001b[43mp\u001b[49m)\n",
      "\u001b[1;31mNameError\u001b[0m: name 'p' is not defined"
     ]
    }
   ],
   "source": [
    "def something():\n",
    "    p = 55\n",
    "print(p)"
   ]
  },
  {
   "cell_type": "code",
   "execution_count": 43,
   "id": "8adcdf08-4bd2-4971-b447-2bc48114e493",
   "metadata": {},
   "outputs": [],
   "source": [
    "# function ko scope bahira variable known hudaina"
   ]
  },
  {
   "cell_type": "code",
   "execution_count": 59,
   "id": "cc6b7ad5-7cf8-43d4-b03d-45b41064f8b0",
   "metadata": {},
   "outputs": [],
   "source": [
    "x = 'Bijay'\n",
    "def viral ():\n",
    "    x = 'Hututu'\n",
    "    print(x)"
   ]
  },
  {
   "cell_type": "code",
   "execution_count": 60,
   "id": "575bc47b-0ada-4997-a3e0-43287bc5f598",
   "metadata": {},
   "outputs": [
    {
     "data": {
      "text/plain": [
       "'Bijay'"
      ]
     },
     "execution_count": 60,
     "metadata": {},
     "output_type": "execute_result"
    }
   ],
   "source": [
    "x"
   ]
  },
  {
   "cell_type": "code",
   "execution_count": 61,
   "id": "40810021-a2ae-4613-908c-963acd19c089",
   "metadata": {},
   "outputs": [
    {
     "name": "stdout",
     "output_type": "stream",
     "text": [
      "Hututu\n"
     ]
    }
   ],
   "source": [
    "viral()"
   ]
  },
  {
   "cell_type": "code",
   "execution_count": 62,
   "id": "f418055c-a6d9-4206-a901-4d8e31c499ee",
   "metadata": {},
   "outputs": [
    {
     "data": {
      "text/plain": [
       "'Bijay'"
      ]
     },
     "execution_count": 62,
     "metadata": {},
     "output_type": "execute_result"
    }
   ],
   "source": [
    "x"
   ]
  },
  {
   "cell_type": "code",
   "execution_count": 63,
   "id": "b2b70295-e051-4aa2-8c2d-2a2b102abf5d",
   "metadata": {},
   "outputs": [],
   "source": [
    "x = 'Bijay'\n",
    "def viral ():\n",
    "    global x\n",
    "    x = 'Hututu'\n",
    "    print(x)"
   ]
  },
  {
   "cell_type": "code",
   "execution_count": 64,
   "id": "052bd819-ef19-4d31-b1a7-7c7b4823c1fa",
   "metadata": {},
   "outputs": [
    {
     "data": {
      "text/plain": [
       "'Bijay'"
      ]
     },
     "execution_count": 64,
     "metadata": {},
     "output_type": "execute_result"
    }
   ],
   "source": [
    "x"
   ]
  },
  {
   "cell_type": "code",
   "execution_count": 65,
   "id": "e0292248-d44a-4a2b-91cc-8698492e16a7",
   "metadata": {},
   "outputs": [
    {
     "name": "stdout",
     "output_type": "stream",
     "text": [
      "Hututu\n"
     ]
    }
   ],
   "source": [
    "viral()"
   ]
  },
  {
   "cell_type": "code",
   "execution_count": 67,
   "id": "7ef863b4-3089-470a-880c-2663b562c7e4",
   "metadata": {},
   "outputs": [
    {
     "data": {
      "text/plain": [
       "'Hututu'"
      ]
     },
     "execution_count": 67,
     "metadata": {},
     "output_type": "execute_result"
    }
   ],
   "source": [
    "x"
   ]
  },
  {
   "cell_type": "markdown",
   "id": "3923ac7a-d6db-4026-91fa-377f7661739c",
   "metadata": {},
   "source": [
    "# Doc Strings"
   ]
  }
 ],
 "metadata": {
  "kernelspec": {
   "display_name": "Python 3 (ipykernel)",
   "language": "python",
   "name": "python3"
  },
  "language_info": {
   "codemirror_mode": {
    "name": "ipython",
    "version": 3
   },
   "file_extension": ".py",
   "mimetype": "text/x-python",
   "name": "python",
   "nbconvert_exporter": "python",
   "pygments_lexer": "ipython3",
   "version": "3.12.1"
  }
 },
 "nbformat": 4,
 "nbformat_minor": 5
}
