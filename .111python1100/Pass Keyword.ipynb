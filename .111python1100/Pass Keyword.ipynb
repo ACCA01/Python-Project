{
 "cells": [
  {
   "cell_type": "code",
   "execution_count": 1,
   "id": "30c32b2c-e9e5-46b7-81e1-2a0d45e069ae",
   "metadata": {
    "scrolled": true
   },
   "outputs": [
    {
     "ename": "SyntaxError",
     "evalue": "incomplete input (2073817663.py, line 1)",
     "output_type": "error",
     "traceback": [
      "\u001b[1;36m  Cell \u001b[1;32mIn[1], line 1\u001b[1;36m\u001b[0m\n\u001b[1;33m    if 10 == 10:\u001b[0m\n\u001b[1;37m                ^\u001b[0m\n\u001b[1;31mSyntaxError\u001b[0m\u001b[1;31m:\u001b[0m incomplete input\n"
     ]
    }
   ],
   "source": [
    "if 10 == 10:"
   ]
  },
  {
   "cell_type": "code",
   "execution_count": 2,
   "id": "997b2047-ed19-4cb8-a9e1-6096bc8d1ff8",
   "metadata": {},
   "outputs": [],
   "source": [
    "if 10 == 10:\n",
    "    pass"
   ]
  },
  {
   "cell_type": "code",
   "execution_count": 3,
   "id": "24c56d4b-9ba4-4efe-bb11-2c6a3765bf10",
   "metadata": {},
   "outputs": [],
   "source": [
    "def test():\n",
    "    pass"
   ]
  },
  {
   "cell_type": "code",
   "execution_count": 5,
   "id": "0a13f427-88ec-44e1-930d-ae5ea1741570",
   "metadata": {},
   "outputs": [],
   "source": [
    "# pass is a placeholder to write a future code."
   ]
  },
  {
   "cell_type": "code",
   "execution_count": 8,
   "id": "82820617-33ef-4a31-8692-7b8df0640fd4",
   "metadata": {},
   "outputs": [],
   "source": [
    "def lower_string(test):\n",
    "    return test.lower()"
   ]
  },
  {
   "cell_type": "code",
   "execution_count": 11,
   "id": "cdee4507-dce5-41a5-b6e3-715736b76a01",
   "metadata": {},
   "outputs": [
    {
     "data": {
      "text/plain": [
       "<function __main__.test()>"
      ]
     },
     "execution_count": 11,
     "metadata": {},
     "output_type": "execute_result"
    }
   ],
   "source": [
    "test"
   ]
  },
  {
   "cell_type": "code",
   "execution_count": 12,
   "id": "8a2dab68-f7f8-4168-912a-61f08d8660f2",
   "metadata": {},
   "outputs": [
    {
     "name": "stdout",
     "output_type": "stream",
     "text": [
      "equal\n"
     ]
    }
   ],
   "source": [
    "if 10 == 10:\n",
    "    pass\n",
    "    print('equal')"
   ]
  },
  {
   "cell_type": "code",
   "execution_count": 13,
   "id": "fe0accd8-0fdb-4fd4-a346-52e44c8c0f6d",
   "metadata": {},
   "outputs": [
    {
     "name": "stdout",
     "output_type": "stream",
     "text": [
      "<class 'list'>\n"
     ]
    }
   ],
   "source": [
    "l1 = []\n",
    "print(type(l1))"
   ]
  },
  {
   "cell_type": "code",
   "execution_count": null,
   "id": "c057d5f8-537d-469e-98c7-350695d39611",
   "metadata": {},
   "outputs": [],
   "source": []
  }
 ],
 "metadata": {
  "kernelspec": {
   "display_name": "Python 3 (ipykernel)",
   "language": "python",
   "name": "python3"
  },
  "language_info": {
   "codemirror_mode": {
    "name": "ipython",
    "version": 3
   },
   "file_extension": ".py",
   "mimetype": "text/x-python",
   "name": "python",
   "nbconvert_exporter": "python",
   "pygments_lexer": "ipython3",
   "version": "3.12.1"
  }
 },
 "nbformat": 4,
 "nbformat_minor": 5
}
