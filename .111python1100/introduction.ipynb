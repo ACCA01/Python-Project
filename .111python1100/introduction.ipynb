{
 "cells": [
  {
   "cell_type": "code",
   "execution_count": 1,
   "id": "40350403-aca7-48a5-8ee2-940ee7f2581c",
   "metadata": {},
   "outputs": [
    {
     "name": "stdout",
     "output_type": "stream",
     "text": [
      "5\n"
     ]
    }
   ],
   "source": [
    "print(5)"
   ]
  },
  {
   "cell_type": "code",
   "execution_count": 2,
   "id": "aaa801e0-c695-4a59-8a65-5d8a69b833d2",
   "metadata": {},
   "outputs": [
    {
     "name": "stdout",
     "output_type": "stream",
     "text": [
      "18\n"
     ]
    }
   ],
   "source": [
    "print(9+9)"
   ]
  },
  {
   "cell_type": "code",
   "execution_count": 3,
   "id": "2d6b215e-f46d-4857-ac4b-df5ae81612ed",
   "metadata": {},
   "outputs": [
    {
     "name": "stdout",
     "output_type": "stream",
     "text": [
      "10\n"
     ]
    }
   ],
   "source": [
    "print(90-80)"
   ]
  },
  {
   "cell_type": "code",
   "execution_count": 5,
   "id": "41443be9-7090-4dd7-8567-072a3b7a8932",
   "metadata": {},
   "outputs": [
    {
     "name": "stdout",
     "output_type": "stream",
     "text": [
      "80\n"
     ]
    }
   ],
   "source": [
    "print(80*1)"
   ]
  },
  {
   "cell_type": "code",
   "execution_count": 6,
   "id": "3919b477-167b-44a4-8a4c-69c94f0ef475",
   "metadata": {},
   "outputs": [
    {
     "name": "stdout",
     "output_type": "stream",
     "text": [
      "hello suresh\n"
     ]
    }
   ],
   "source": [
    "print(\"hello suresh\")"
   ]
  },
  {
   "cell_type": "code",
   "execution_count": 7,
   "id": "d9827a15-b9a8-4126-bc80-08022f7efcc9",
   "metadata": {},
   "outputs": [
    {
     "name": "stdout",
     "output_type": "stream",
     "text": [
      "my name is suresh\n"
     ]
    }
   ],
   "source": [
    "print(\"my name is suresh\")"
   ]
  },
  {
   "cell_type": "code",
   "execution_count": 8,
   "id": "b2c6e99f-72bc-4715-835f-fa100a5f64f6",
   "metadata": {},
   "outputs": [
    {
     "name": "stdout",
     "output_type": "stream",
     "text": [
      "i am okay\n"
     ]
    }
   ],
   "source": [
    "print('i am okay')"
   ]
  },
  {
   "cell_type": "code",
   "execution_count": null,
   "id": "accc9766-46b0-45d6-a6c1-f3a880113625",
   "metadata": {},
   "outputs": [],
   "source": []
  }
 ],
 "metadata": {
  "kernelspec": {
   "display_name": "Python 3 (ipykernel)",
   "language": "python",
   "name": "python3"
  },
  "language_info": {
   "codemirror_mode": {
    "name": "ipython",
    "version": 3
   },
   "file_extension": ".py",
   "mimetype": "text/x-python",
   "name": "python",
   "nbconvert_exporter": "python",
   "pygments_lexer": "ipython3",
   "version": "3.12.1"
  }
 },
 "nbformat": 4,
 "nbformat_minor": 5
}
