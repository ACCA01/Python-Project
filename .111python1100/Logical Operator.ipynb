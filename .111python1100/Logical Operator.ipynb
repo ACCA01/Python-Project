{
 "cells": [
  {
   "cell_type": "code",
   "execution_count": 1,
   "id": "d311e55a-b6d6-472b-b98f-c5254f29018d",
   "metadata": {},
   "outputs": [],
   "source": [
    "# \"And, not, or\" are logital operator.\n",
    "# logical operator are in boolen in nature."
   ]
  },
  {
   "cell_type": "markdown",
   "id": "14bf9249-721f-4627-a977-a631fb0929da",
   "metadata": {},
   "source": [
    "# and Operator"
   ]
  },
  {
   "cell_type": "code",
   "execution_count": 5,
   "id": "e77b91f8-d9d5-4e97-8c3d-579b1dae648e",
   "metadata": {},
   "outputs": [
    {
     "data": {
      "text/plain": [
       "True"
      ]
     },
     "execution_count": 5,
     "metadata": {},
     "output_type": "execute_result"
    }
   ],
   "source": [
    "True and True"
   ]
  },
  {
   "cell_type": "code",
   "execution_count": 6,
   "id": "1510d540-fc08-4a0a-a227-307dc7e4e669",
   "metadata": {},
   "outputs": [
    {
     "data": {
      "text/plain": [
       "False"
      ]
     },
     "execution_count": 6,
     "metadata": {},
     "output_type": "execute_result"
    }
   ],
   "source": [
    "True and False"
   ]
  },
  {
   "cell_type": "code",
   "execution_count": 7,
   "id": "c2b754b9-70c8-47b1-a038-5a711787c835",
   "metadata": {},
   "outputs": [
    {
     "data": {
      "text/plain": [
       "False"
      ]
     },
     "execution_count": 7,
     "metadata": {},
     "output_type": "execute_result"
    }
   ],
   "source": [
    "False and False"
   ]
  },
  {
   "cell_type": "code",
   "execution_count": 8,
   "id": "2a67ed54-6c51-44b8-8177-6c4e4b478de1",
   "metadata": {},
   "outputs": [
    {
     "data": {
      "text/plain": [
       "False"
      ]
     },
     "execution_count": 8,
     "metadata": {},
     "output_type": "execute_result"
    }
   ],
   "source": [
    "False and True"
   ]
  },
  {
   "cell_type": "code",
   "execution_count": 1,
   "id": "210e24ce-06f1-4b2b-9428-1c1eca4891c7",
   "metadata": {},
   "outputs": [],
   "source": [
    "# and operator lagauda left ra right both true bhyae matra true hun6."
   ]
  },
  {
   "cell_type": "code",
   "execution_count": 3,
   "id": "22229591-b39b-452b-98a5-d523d19c94c5",
   "metadata": {},
   "outputs": [
    {
     "data": {
      "text/plain": [
       "True"
      ]
     },
     "execution_count": 3,
     "metadata": {},
     "output_type": "execute_result"
    }
   ],
   "source": [
    "age = 15\n",
    "age>= 13 and age <=19"
   ]
  },
  {
   "cell_type": "code",
   "execution_count": 1,
   "id": "b7f2a2ef-cc68-460e-8b5b-a89b9937a83a",
   "metadata": {},
   "outputs": [
    {
     "name": "stdin",
     "output_type": "stream",
     "text": [
      "enter your age :  32\n"
     ]
    },
    {
     "name": "stdout",
     "output_type": "stream",
     "text": [
      "The person is not a Teenager\n"
     ]
    }
   ],
   "source": [
    "age = int (input ( \"enter your age : \"))\n",
    "if age>= 13 and age <=19:\n",
    "    print (\"The person is Teenager\")\n",
    "else:\n",
    "    print (\"The person is not a Teenager\")"
   ]
  },
  {
   "cell_type": "markdown",
   "id": "9a9ceb1c-dc31-47ff-ba9b-11a5bdad4ec1",
   "metadata": {},
   "source": [
    "# or Operator"
   ]
  },
  {
   "cell_type": "code",
   "execution_count": 15,
   "id": "f6d52975-d1a1-4460-a3ed-1856971caa30",
   "metadata": {},
   "outputs": [
    {
     "data": {
      "text/plain": [
       "True"
      ]
     },
     "execution_count": 15,
     "metadata": {},
     "output_type": "execute_result"
    }
   ],
   "source": [
    "True or True"
   ]
  },
  {
   "cell_type": "code",
   "execution_count": 16,
   "id": "e165e00a-7245-4b4c-a0ea-af20d37f298c",
   "metadata": {},
   "outputs": [
    {
     "data": {
      "text/plain": [
       "True"
      ]
     },
     "execution_count": 16,
     "metadata": {},
     "output_type": "execute_result"
    }
   ],
   "source": [
    "True or False"
   ]
  },
  {
   "cell_type": "code",
   "execution_count": 19,
   "id": "1f730e45-15bd-4999-80dc-cbcd3645d510",
   "metadata": {},
   "outputs": [
    {
     "data": {
      "text/plain": [
       "False"
      ]
     },
     "execution_count": 19,
     "metadata": {},
     "output_type": "execute_result"
    }
   ],
   "source": [
    "False or False"
   ]
  },
  {
   "cell_type": "code",
   "execution_count": 18,
   "id": "be9829f3-b5f9-404b-abd8-06e34869c89c",
   "metadata": {},
   "outputs": [
    {
     "data": {
      "text/plain": [
       "True"
      ]
     },
     "execution_count": 18,
     "metadata": {},
     "output_type": "execute_result"
    }
   ],
   "source": [
    "False or True"
   ]
  },
  {
   "cell_type": "code",
   "execution_count": 20,
   "id": "b0794b59-18cc-411a-a770-57cae99573fb",
   "metadata": {},
   "outputs": [],
   "source": [
    "# Or operator ko output True aauna ko lagi euta input true hunu par6."
   ]
  },
  {
   "cell_type": "code",
   "execution_count": 23,
   "id": "5b99afa0-81f7-4e28-8f77-81fdc116cd44",
   "metadata": {},
   "outputs": [
    {
     "name": "stdout",
     "output_type": "stream",
     "text": [
      "The student didn't secured distinction\n"
     ]
    }
   ],
   "source": [
    "percentage = 78\n",
    "if percentage == 80 or percentage >80:\n",
    "    print (\"The student secured distinction\")\n",
    "else:\n",
    "    print (\"The student didn't secured distinction\")"
   ]
  },
  {
   "cell_type": "markdown",
   "id": "540b1b51-c427-48c9-9fd5-b408015ef5e3",
   "metadata": {},
   "source": [
    "# Not Operator"
   ]
  },
  {
   "cell_type": "code",
   "execution_count": 25,
   "id": "2c015f27-5452-43d0-89c1-b5ed606cfda4",
   "metadata": {},
   "outputs": [
    {
     "data": {
      "text/plain": [
       "False"
      ]
     },
     "execution_count": 25,
     "metadata": {},
     "output_type": "execute_result"
    }
   ],
   "source": [
    "not True"
   ]
  },
  {
   "cell_type": "code",
   "execution_count": 26,
   "id": "b0585171-17bf-460e-a328-3b630599e21a",
   "metadata": {},
   "outputs": [
    {
     "data": {
      "text/plain": [
       "True"
      ]
     },
     "execution_count": 26,
     "metadata": {},
     "output_type": "execute_result"
    }
   ],
   "source": [
    "not False"
   ]
  },
  {
   "cell_type": "code",
   "execution_count": 4,
   "id": "a9825028-6126-4e7c-b05f-088e80d2e811",
   "metadata": {},
   "outputs": [
    {
     "name": "stdin",
     "output_type": "stream",
     "text": [
      "enter your percentage :  78.8\n"
     ]
    },
    {
     "name": "stdout",
     "output_type": "stream",
     "text": [
      "first division\n",
      "<class 'type'>\n"
     ]
    }
   ],
   "source": [
    "percentage = float (input (\"enter your percentage : \"))\n",
    "if percentage <= 45:\n",
    "    print (\"you failed\")\n",
    "elif percentage > 45 and percentage < 60:\n",
    "    print (\"second division\")\n",
    "elif percentage >= 60 and percentage < 80:\n",
    "    print (\"first division\")\n",
    "elif percentage ==80 and percentage < 80:\n",
    "    print (\"distinction\")\n",
    "print(type)"
   ]
  },
  {
   "cell_type": "code",
   "execution_count": null,
   "id": "159ca332-c9f5-4201-acd9-f62aa2faee64",
   "metadata": {},
   "outputs": [],
   "source": []
  }
 ],
 "metadata": {
  "kernelspec": {
   "display_name": "Python 3 (ipykernel)",
   "language": "python",
   "name": "python3"
  },
  "language_info": {
   "codemirror_mode": {
    "name": "ipython",
    "version": 3
   },
   "file_extension": ".py",
   "mimetype": "text/x-python",
   "name": "python",
   "nbconvert_exporter": "python",
   "pygments_lexer": "ipython3",
   "version": "3.12.1"
  }
 },
 "nbformat": 4,
 "nbformat_minor": 5
}
