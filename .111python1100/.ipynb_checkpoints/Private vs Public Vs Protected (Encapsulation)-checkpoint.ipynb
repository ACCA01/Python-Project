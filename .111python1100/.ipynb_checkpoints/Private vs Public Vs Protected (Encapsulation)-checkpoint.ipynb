{
 "cells": [
  {
   "cell_type": "markdown",
   "id": "d00990d7-6232-4f50-a4fc-33dafdc07534",
   "metadata": {},
   "source": [
    "# Encapsulation\n",
    "Are access specifiers used in python?? no but has concept of limiting behaviour of variables: private attributes are not inherited"
   ]
  },
  {
   "cell_type": "code",
   "execution_count": 1,
   "id": "3d365e6b-ebd4-4264-b62d-ca996cb0ed59",
   "metadata": {},
   "outputs": [],
   "source": [
    "class Tutor:\n",
    "\n",
    "    # public\n",
    "    name = 'Kshitiz'\n",
    "\n",
    "    # protected\n",
    "    _address = 'Patan'\n",
    "\n",
    "    # private\n",
    "    _age = 26"
   ]
  },
  {
   "cell_type": "code",
   "execution_count": 3,
   "id": "a441d71d-d19c-43a8-95d8-99abe663cd29",
   "metadata": {},
   "outputs": [
    {
     "data": {
      "text/plain": [
       "'Kshitiz'"
      ]
     },
     "execution_count": 3,
     "metadata": {},
     "output_type": "execute_result"
    }
   ],
   "source": [
    "t1 = Tutor()\n",
    "t1.name"
   ]
  },
  {
   "cell_type": "code",
   "execution_count": 5,
   "id": "6f8d68b1-512d-4a5a-9837-0b33587cd18a",
   "metadata": {},
   "outputs": [
    {
     "data": {
      "text/plain": [
       "'Patan'"
      ]
     },
     "execution_count": 5,
     "metadata": {},
     "output_type": "execute_result"
    }
   ],
   "source": [
    "t1._address"
   ]
  },
  {
   "cell_type": "code",
   "execution_count": 7,
   "id": "6cc4b8aa-2421-4562-b663-37b11116272b",
   "metadata": {},
   "outputs": [
    {
     "data": {
      "text/plain": [
       "26"
      ]
     },
     "execution_count": 7,
     "metadata": {},
     "output_type": "execute_result"
    }
   ],
   "source": [
    "t1._age"
   ]
  },
  {
   "cell_type": "code",
   "execution_count": null,
   "id": "eb0b9b07-6b55-4a1c-b55c-71b2aff36e17",
   "metadata": {},
   "outputs": [],
   "source": []
  }
 ],
 "metadata": {
  "kernelspec": {
   "display_name": "Python 3 (ipykernel)",
   "language": "python",
   "name": "python3"
  },
  "language_info": {
   "codemirror_mode": {
    "name": "ipython",
    "version": 3
   },
   "file_extension": ".py",
   "mimetype": "text/x-python",
   "name": "python",
   "nbconvert_exporter": "python",
   "pygments_lexer": "ipython3",
   "version": "3.12.1"
  }
 },
 "nbformat": 4,
 "nbformat_minor": 5
}
