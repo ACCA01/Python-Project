{
 "cells": [
  {
   "cell_type": "code",
   "execution_count": 1,
   "id": "addcd73c-509e-42b0-9ffd-3d7b4da4225f",
   "metadata": {},
   "outputs": [],
   "source": [
    "with open('lang.txt', 'a') as file:\n",
    "    file.write('python')"
   ]
  },
  {
   "cell_type": "code",
   "execution_count": 3,
   "id": "b8fba098-609d-4ab2-aea9-7ba5800ac458",
   "metadata": {},
   "outputs": [
    {
     "name": "stdout",
     "output_type": "stream",
     "text": [
      "python\n"
     ]
    }
   ],
   "source": [
    "with open('lang.txt', 'r') as file:\n",
    "    print(file.read())"
   ]
  },
  {
   "cell_type": "code",
   "execution_count": 4,
   "id": "a7555804-6095-4f9b-9419-f501ed89f3dd",
   "metadata": {},
   "outputs": [],
   "source": [
    "# lang.txt exist gar6 aba esma write garna khojyo bhane append mode ma data loss hudaina"
   ]
  },
  {
   "cell_type": "code",
   "execution_count": 5,
   "id": "854c89db-3eb7-4ee1-abfc-a4b33f50f1d3",
   "metadata": {},
   "outputs": [],
   "source": [
    "with open('lang.txt', 'a') as file:\n",
    "    file.write('javascript')"
   ]
  },
  {
   "cell_type": "code",
   "execution_count": 6,
   "id": "1118b4b9-6be7-441d-b013-36f98dd77954",
   "metadata": {},
   "outputs": [
    {
     "name": "stdout",
     "output_type": "stream",
     "text": [
      "pythonjavascript\n"
     ]
    }
   ],
   "source": [
    "with open('lang.txt', 'r') as file:\n",
    "    print(file.read())"
   ]
  }
 ],
 "metadata": {
  "kernelspec": {
   "display_name": "Python 3 (ipykernel)",
   "language": "python",
   "name": "python3"
  },
  "language_info": {
   "codemirror_mode": {
    "name": "ipython",
    "version": 3
   },
   "file_extension": ".py",
   "mimetype": "text/x-python",
   "name": "python",
   "nbconvert_exporter": "python",
   "pygments_lexer": "ipython3",
   "version": "3.12.1"
  }
 },
 "nbformat": 4,
 "nbformat_minor": 5
}
