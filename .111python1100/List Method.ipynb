{
 "cells": [
  {
   "cell_type": "code",
   "execution_count": 2,
   "id": "23e85821-c97c-4b0c-8280-0c960c906b21",
   "metadata": {},
   "outputs": [
    {
     "data": {
      "text/plain": [
       "[]"
      ]
     },
     "execution_count": 2,
     "metadata": {},
     "output_type": "execute_result"
    }
   ],
   "source": [
    "# creating empty list\n",
    "cars = []\n",
    "cars"
   ]
  },
  {
   "cell_type": "code",
   "execution_count": 3,
   "id": "895438a9-5fa2-4615-8ab9-fda921d0847d",
   "metadata": {},
   "outputs": [
    {
     "data": {
      "text/plain": [
       "list"
      ]
     },
     "execution_count": 3,
     "metadata": {},
     "output_type": "execute_result"
    }
   ],
   "source": [
    "type(cars)"
   ]
  },
  {
   "cell_type": "code",
   "execution_count": 4,
   "id": "947e24ed-e43d-48ac-a787-7f65be0b066d",
   "metadata": {},
   "outputs": [
    {
     "data": {
      "text/plain": [
       "[]"
      ]
     },
     "execution_count": 4,
     "metadata": {},
     "output_type": "execute_result"
    }
   ],
   "source": [
    "gift = list()\n",
    "gift"
   ]
  },
  {
   "cell_type": "code",
   "execution_count": 5,
   "id": "f2e9b2d3-db4a-4a75-8422-508654d94392",
   "metadata": {},
   "outputs": [
    {
     "data": {
      "text/plain": [
       "list"
      ]
     },
     "execution_count": 5,
     "metadata": {},
     "output_type": "execute_result"
    }
   ],
   "source": [
    "type(gift)"
   ]
  },
  {
   "cell_type": "markdown",
   "id": "b0e20e66-19b1-4bb9-ad6d-098e13c18ce1",
   "metadata": {},
   "source": [
    "# .append()"
   ]
  },
  {
   "cell_type": "code",
   "execution_count": 6,
   "id": "c0872400-cf5e-48a6-8c8e-b1e7f2ff14f2",
   "metadata": {},
   "outputs": [
    {
     "data": {
      "text/plain": [
       "['chocolate']"
      ]
     },
     "execution_count": 6,
     "metadata": {},
     "output_type": "execute_result"
    }
   ],
   "source": [
    "gift = []\n",
    "gift.append ('chocolate')\n",
    "gift"
   ]
  },
  {
   "cell_type": "code",
   "execution_count": 7,
   "id": "57934dae-63d6-441b-bb38-732087046743",
   "metadata": {},
   "outputs": [
    {
     "data": {
      "text/plain": [
       "['chocolate', 'iphone']"
      ]
     },
     "execution_count": 7,
     "metadata": {},
     "output_type": "execute_result"
    }
   ],
   "source": [
    "gift.append ('iphone')\n",
    "gift"
   ]
  },
  {
   "cell_type": "code",
   "execution_count": 8,
   "id": "128f6bf8-0b5f-43ed-9554-0df86bfc6798",
   "metadata": {},
   "outputs": [
    {
     "data": {
      "text/plain": [
       "['chocolate', 'iphone', 'laptop']"
      ]
     },
     "execution_count": 8,
     "metadata": {},
     "output_type": "execute_result"
    }
   ],
   "source": [
    "gift.append ('laptop')\n",
    "gift"
   ]
  },
  {
   "cell_type": "markdown",
   "id": "d39e92ec-ae61-4bde-add6-1beda0a2613c",
   "metadata": {},
   "source": [
    "# .pop()"
   ]
  },
  {
   "cell_type": "code",
   "execution_count": 10,
   "id": "75662d62-2652-409d-8d07-6b1a58268a29",
   "metadata": {},
   "outputs": [],
   "source": [
    "gift = ['chocolate', 'iphone', 'laptop']"
   ]
  },
  {
   "cell_type": "code",
   "execution_count": 4,
   "id": "6c576ae7-e702-4677-a8a8-e4192fca5090",
   "metadata": {},
   "outputs": [
    {
     "data": {
      "text/plain": [
       "'chocolate'"
      ]
     },
     "execution_count": 4,
     "metadata": {},
     "output_type": "execute_result"
    }
   ],
   "source": [
    "gift = ['chocolate', 'iphone', 'laptop']\n",
    "gift.pop(0)"
   ]
  },
  {
   "cell_type": "code",
   "execution_count": 5,
   "id": "6b7b020d-6cc3-4346-96ff-e75e131f2c90",
   "metadata": {},
   "outputs": [
    {
     "data": {
      "text/plain": [
       "['iphone', 'laptop']"
      ]
     },
     "execution_count": 5,
     "metadata": {},
     "output_type": "execute_result"
    }
   ],
   "source": [
    "gift"
   ]
  },
  {
   "cell_type": "code",
   "execution_count": 6,
   "id": "0e881831-ecd7-4c02-90e7-8eb9443f4e6e",
   "metadata": {},
   "outputs": [
    {
     "data": {
      "text/plain": [
       "'iphone'"
      ]
     },
     "execution_count": 6,
     "metadata": {},
     "output_type": "execute_result"
    }
   ],
   "source": [
    "gift.pop(0)"
   ]
  },
  {
   "cell_type": "code",
   "execution_count": 7,
   "id": "9884ae6f-856e-48ef-b246-9c9081002023",
   "metadata": {},
   "outputs": [
    {
     "data": {
      "text/plain": [
       "['laptop']"
      ]
     },
     "execution_count": 7,
     "metadata": {},
     "output_type": "execute_result"
    }
   ],
   "source": [
    "gift"
   ]
  },
  {
   "cell_type": "code",
   "execution_count": 8,
   "id": "cae3a74e-d42a-48dc-a1fd-d81ca54cc0a9",
   "metadata": {},
   "outputs": [],
   "source": [
    "cars = ['audi', 'mercedes', 'bmw']"
   ]
  },
  {
   "cell_type": "code",
   "execution_count": 9,
   "id": "ba13bfaf-8dff-4560-9e9f-d575417cb46c",
   "metadata": {},
   "outputs": [
    {
     "data": {
      "text/plain": [
       "'bmw'"
      ]
     },
     "execution_count": 9,
     "metadata": {},
     "output_type": "execute_result"
    }
   ],
   "source": [
    "cars.pop()"
   ]
  },
  {
   "cell_type": "code",
   "execution_count": 10,
   "id": "aee8462a-f98b-421a-88ca-e5d48e2187c2",
   "metadata": {},
   "outputs": [
    {
     "data": {
      "text/plain": [
       "'mercedes'"
      ]
     },
     "execution_count": 10,
     "metadata": {},
     "output_type": "execute_result"
    }
   ],
   "source": [
    "cars.pop()"
   ]
  },
  {
   "cell_type": "code",
   "execution_count": 11,
   "id": "9984311d-d166-4528-b6be-0ebbee8eda2c",
   "metadata": {},
   "outputs": [
    {
     "data": {
      "text/plain": [
       "['audi']"
      ]
     },
     "execution_count": 11,
     "metadata": {},
     "output_type": "execute_result"
    }
   ],
   "source": [
    "cars"
   ]
  },
  {
   "cell_type": "code",
   "execution_count": 12,
   "id": "c7e10be0-e9cb-4381-86b9-3e25334b48f2",
   "metadata": {},
   "outputs": [],
   "source": [
    "# .pop(index) garda index ko value remove garxa. .pop() garda last ko value falxa"
   ]
  },
  {
   "cell_type": "markdown",
   "id": "fb7e2887-5f58-42ee-a302-f8ecb4ff9403",
   "metadata": {},
   "source": [
    "# .extend()"
   ]
  },
  {
   "cell_type": "code",
   "execution_count": 14,
   "id": "ac7db13b-c6ac-4a02-bac1-56a129bc8d77",
   "metadata": {},
   "outputs": [],
   "source": [
    "a = ['cheeseballs', 'biryani']\n",
    "b = ['momo', 'chowmin']"
   ]
  },
  {
   "cell_type": "code",
   "execution_count": 15,
   "id": "a4183622-de61-441d-9756-edf915758028",
   "metadata": {},
   "outputs": [
    {
     "data": {
      "text/plain": [
       "['cheeseballs', 'biryani', 'momo', 'chowmin']"
      ]
     },
     "execution_count": 15,
     "metadata": {},
     "output_type": "execute_result"
    }
   ],
   "source": [
    "a+b"
   ]
  },
  {
   "cell_type": "code",
   "execution_count": 16,
   "id": "6ab74cdf-9881-4bfe-9efb-0b0071410fe8",
   "metadata": {},
   "outputs": [],
   "source": [
    "a.extend(b)"
   ]
  },
  {
   "cell_type": "code",
   "execution_count": 17,
   "id": "c40bd815-53e3-4b72-8bf5-195964973318",
   "metadata": {},
   "outputs": [
    {
     "data": {
      "text/plain": [
       "['cheeseballs', 'biryani', 'momo', 'chowmin']"
      ]
     },
     "execution_count": 17,
     "metadata": {},
     "output_type": "execute_result"
    }
   ],
   "source": [
    "a"
   ]
  },
  {
   "cell_type": "code",
   "execution_count": 18,
   "id": "08c59605-8269-49a3-9340-e9acff879f74",
   "metadata": {},
   "outputs": [
    {
     "data": {
      "text/plain": [
       "['momo', 'chowmin']"
      ]
     },
     "execution_count": 18,
     "metadata": {},
     "output_type": "execute_result"
    }
   ],
   "source": [
    "b"
   ]
  },
  {
   "cell_type": "code",
   "execution_count": 19,
   "id": "b1756e8c-bfbe-48bf-8835-7f7358826fbd",
   "metadata": {},
   "outputs": [],
   "source": [
    "a = ['cheeseballs', 'biryani']\n",
    "b = ['momo', 'chowmin']"
   ]
  },
  {
   "cell_type": "code",
   "execution_count": 20,
   "id": "6f626f96-729a-428b-a0a4-63fb8acdae94",
   "metadata": {},
   "outputs": [],
   "source": [
    "b.extend(a)"
   ]
  },
  {
   "cell_type": "code",
   "execution_count": 21,
   "id": "e10aa55b-38ec-4cc3-b66a-f9c9227dd951",
   "metadata": {},
   "outputs": [
    {
     "data": {
      "text/plain": [
       "['momo', 'chowmin', 'cheeseballs', 'biryani']"
      ]
     },
     "execution_count": 21,
     "metadata": {},
     "output_type": "execute_result"
    }
   ],
   "source": [
    "b"
   ]
  },
  {
   "cell_type": "code",
   "execution_count": 22,
   "id": "637187f7-da8e-4a39-9f34-77cb1ddd4dff",
   "metadata": {},
   "outputs": [
    {
     "data": {
      "text/plain": [
       "['cheeseballs', 'biryani']"
      ]
     },
     "execution_count": 22,
     "metadata": {},
     "output_type": "execute_result"
    }
   ],
   "source": [
    "a"
   ]
  },
  {
   "cell_type": "markdown",
   "id": "b50ea1a0-22c6-4ebc-b23c-afd3b758865f",
   "metadata": {},
   "source": [
    "# .insert() and .remove()"
   ]
  },
  {
   "cell_type": "code",
   "execution_count": 24,
   "id": "3343e512-93de-4f9b-86bb-9a9f3b6a8ac8",
   "metadata": {},
   "outputs": [],
   "source": [
    "bikes = ['VR', 'Bullet', 'Duke', 'MT']"
   ]
  },
  {
   "cell_type": "code",
   "execution_count": 27,
   "id": "75e1baee-8a71-4e68-9498-06075d69f776",
   "metadata": {},
   "outputs": [],
   "source": [
    "bikes.insert(1, 'pulsar') # insert in index 1"
   ]
  },
  {
   "cell_type": "code",
   "execution_count": 28,
   "id": "ea9debbf-06d7-4498-913e-7fac4aab41aa",
   "metadata": {},
   "outputs": [
    {
     "data": {
      "text/plain": [
       "['VR', 'pulsar', 'pulsar', 'Bullet', 'Duke', 'MT']"
      ]
     },
     "execution_count": 28,
     "metadata": {},
     "output_type": "execute_result"
    }
   ],
   "source": [
    "bikes"
   ]
  },
  {
   "cell_type": "code",
   "execution_count": 3,
   "id": "b2124444-01c6-46f7-a461-9939958766f4",
   "metadata": {},
   "outputs": [],
   "source": [
    "bikes = ['VR', 'Bullet', 'Duke', 'MT', 'VR']"
   ]
  },
  {
   "cell_type": "code",
   "execution_count": 5,
   "id": "7bc37072-0a80-4f37-9b41-50fa496f685d",
   "metadata": {},
   "outputs": [],
   "source": [
    "bikes.remove(\"VR\") ##remove le front ko item remove gar6"
   ]
  },
  {
   "cell_type": "code",
   "execution_count": 6,
   "id": "cdeb5e17-7a1e-4aea-ada1-988a7b1c390d",
   "metadata": {},
   "outputs": [
    {
     "data": {
      "text/plain": [
       "['Bullet', 'Duke', 'MT', 'VR']"
      ]
     },
     "execution_count": 6,
     "metadata": {},
     "output_type": "execute_result"
    }
   ],
   "source": [
    "bikes"
   ]
  },
  {
   "cell_type": "markdown",
   "id": "a6fd2805-3740-4339-8863-2175dc796412",
   "metadata": {},
   "source": [
    "# list of mutable date type"
   ]
  },
  {
   "cell_type": "code",
   "execution_count": 7,
   "id": "3e3f6bb9-b5b7-4f7c-893c-074d10020afb",
   "metadata": {},
   "outputs": [],
   "source": [
    "cars = ['audi', 'mercedes', 'tesla','bmw', 'rolls royace']"
   ]
  },
  {
   "cell_type": "code",
   "execution_count": 8,
   "id": "28f1d428-d19c-4065-b782-a690e6561038",
   "metadata": {},
   "outputs": [
    {
     "data": {
      "text/plain": [
       "2660353430656"
      ]
     },
     "execution_count": 8,
     "metadata": {},
     "output_type": "execute_result"
    }
   ],
   "source": [
    "id(cars)"
   ]
  },
  {
   "cell_type": "code",
   "execution_count": 9,
   "id": "ae3a0c2e-fb20-43b2-bb2e-fbe650109bec",
   "metadata": {},
   "outputs": [
    {
     "data": {
      "text/plain": [
       "'mercedes'"
      ]
     },
     "execution_count": 9,
     "metadata": {},
     "output_type": "execute_result"
    }
   ],
   "source": [
    "cars[1]"
   ]
  },
  {
   "cell_type": "code",
   "execution_count": 10,
   "id": "0b0a3a27-6681-4b87-913f-25db0e7488dd",
   "metadata": {},
   "outputs": [],
   "source": [
    "cars[1]= 'Land Cruiser'"
   ]
  },
  {
   "cell_type": "code",
   "execution_count": 11,
   "id": "a72c925a-1e3d-420e-9fd5-66e40af53af2",
   "metadata": {},
   "outputs": [
    {
     "data": {
      "text/plain": [
       "['audi', 'Land Cruiser', 'tesla', 'bmw', 'rolls royace']"
      ]
     },
     "execution_count": 11,
     "metadata": {},
     "output_type": "execute_result"
    }
   ],
   "source": [
    "cars"
   ]
  },
  {
   "cell_type": "code",
   "execution_count": 12,
   "id": "75573657-eb40-4b6c-b7e2-d3f8ba78331c",
   "metadata": {},
   "outputs": [
    {
     "data": {
      "text/plain": [
       "2660353430656"
      ]
     },
     "execution_count": 12,
     "metadata": {},
     "output_type": "execute_result"
    }
   ],
   "source": [
    "id(cars)"
   ]
  },
  {
   "cell_type": "code",
   "execution_count": 14,
   "id": "e2540ea0-4a6e-49ae-b8ff-579288903dbe",
   "metadata": {},
   "outputs": [
    {
     "name": "stdout",
     "output_type": "stream",
     "text": [
      "['apple', 'blackcurrant', 'watermelon', 'orange', 'kiwi', 'mango']\n"
     ]
    }
   ],
   "source": [
    "fruits = ['apple', 'banana', 'mango', 'orange', 'kiwi', 'mango']\n",
    "fruits[1:3] = ['blackcurrant', 'watermelon']\n",
    "print(fruits)"
   ]
  },
  {
   "cell_type": "markdown",
   "id": "954aa8e6-f401-4371-8933-e524b373f653",
   "metadata": {},
   "source": [
    "# .sort()"
   ]
  },
  {
   "cell_type": "code",
   "execution_count": 16,
   "id": "18fb4d40-a4a7-471c-893d-c081184114c0",
   "metadata": {},
   "outputs": [
    {
     "data": {
      "text/plain": [
       "['apple', 'banana', 'kiwi', 'mango', 'mango', 'orange']"
      ]
     },
     "execution_count": 16,
     "metadata": {},
     "output_type": "execute_result"
    }
   ],
   "source": [
    "fruits = ['apple', 'banana', 'mango', 'orange', 'kiwi', 'mango']\n",
    "fruits.sort()\n",
    "fruits"
   ]
  },
  {
   "cell_type": "code",
   "execution_count": 17,
   "id": "0e47a855-3fe9-401d-b23c-dded30808146",
   "metadata": {},
   "outputs": [
    {
     "data": {
      "text/plain": [
       "['orange', 'mango', 'mango', 'kiwi', 'banana', 'apple']"
      ]
     },
     "execution_count": 17,
     "metadata": {},
     "output_type": "execute_result"
    }
   ],
   "source": [
    "fruits = ['apple', 'banana', 'mango', 'orange', 'kiwi', 'mango']\n",
    "fruits.sort(reverse=True)\n",
    "fruits"
   ]
  },
  {
   "cell_type": "code",
   "execution_count": 1,
   "id": "9f545dbf-9e6c-4c82-8e62-3a8dbfc18771",
   "metadata": {},
   "outputs": [],
   "source": [
    "fruits = ['apple', 'banana', 'mango', 'orange', 'kiwi', 'mango']\n",
    "fruits = fruits.sort(reverse= True) # mutable data type ma variable assign garne hoina\n",
    "fruits"
   ]
  },
  {
   "cell_type": "markdown",
   "id": "ffb7a8d9-9aa2-4f9a-890c-b7b4322de710",
   "metadata": {},
   "source": [
    "# sorted()"
   ]
  },
  {
   "cell_type": "code",
   "execution_count": 20,
   "id": "02b0bfb6-7797-48d1-91e6-9ff04de49d9a",
   "metadata": {},
   "outputs": [],
   "source": [
    "fruits = ['apple', 'banana', 'mango', 'orange', 'kiwi', 'mango']"
   ]
  },
  {
   "cell_type": "code",
   "execution_count": 25,
   "id": "3f32b1b4-e9d4-496a-b2e3-61be9f2d40dd",
   "metadata": {},
   "outputs": [],
   "source": [
    "sorted_fruits = sorted(fruits) # built-in function"
   ]
  },
  {
   "cell_type": "code",
   "execution_count": 24,
   "id": "aca36e9a-583e-4cc4-819a-7fce008dc79d",
   "metadata": {},
   "outputs": [
    {
     "data": {
      "text/plain": [
       "['apple', 'banana', 'kiwi', 'mango', 'mango', 'orange']"
      ]
     },
     "execution_count": 24,
     "metadata": {},
     "output_type": "execute_result"
    }
   ],
   "source": [
    "sorted_fruits"
   ]
  },
  {
   "cell_type": "code",
   "execution_count": null,
   "id": "14bc631e-398a-4645-af26-33bc5a0f9b11",
   "metadata": {},
   "outputs": [],
   "source": []
  }
 ],
 "metadata": {
  "kernelspec": {
   "display_name": "Python 3 (ipykernel)",
   "language": "python",
   "name": "python3"
  },
  "language_info": {
   "codemirror_mode": {
    "name": "ipython",
    "version": 3
   },
   "file_extension": ".py",
   "mimetype": "text/x-python",
   "name": "python",
   "nbconvert_exporter": "python",
   "pygments_lexer": "ipython3",
   "version": "3.12.1"
  }
 },
 "nbformat": 4,
 "nbformat_minor": 5
}
