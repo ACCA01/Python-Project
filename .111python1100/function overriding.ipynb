{
 "cells": [
  {
   "cell_type": "code",
   "execution_count": 7,
   "metadata": {
    "colab": {
     "base_uri": "https://localhost:8080/"
    },
    "executionInfo": {
     "elapsed": 4,
     "status": "ok",
     "timestamp": 1706679963468,
     "user": {
      "displayName": "Kshitiz Regmi",
      "userId": "14206467826921940229"
     },
     "user_tz": -345
    },
    "id": "OvLucb4HBNgj",
    "outputId": "9767da3b-4e68-4230-e938-970b6ae0f55c"
   },
   "outputs": [
    {
     "name": "stdout",
     "output_type": "stream",
     "text": [
      "Inside Child\n"
     ]
    }
   ],
   "source": [
    "class Parent:\n",
    "   def __init__(self):\n",
    "       self.value = \"Inside Parent\"\n",
    "   def show(self):\n",
    "       print(self.value)\n",
    "\n",
    "class Child(Parent):\n",
    "   def __init__(self):\n",
    "       self.val = \"Inside Child\"\n",
    "       Parent.__init__(self)\n",
    "   def show(self): # overrides the parent show method\n",
    "       print(self.val)\n",
    "\n",
    "obj2 = Child()\n",
    "obj2.show()"
   ]
  },
  {
   "cell_type": "code",
   "execution_count": null,
   "metadata": {
    "id": "5s3iPwipBcYe"
   },
   "outputs": [],
   "source": []
  }
 ],
 "metadata": {
  "colab": {
   "authorship_tag": "ABX9TyNRzZzU/sDlPElC7Vwj2gWf",
   "provenance": []
  },
  "kernelspec": {
   "display_name": "Python 3 (ipykernel)",
   "language": "python",
   "name": "python3"
  },
  "language_info": {
   "codemirror_mode": {
    "name": "ipython",
    "version": 3
   },
   "file_extension": ".py",
   "mimetype": "text/x-python",
   "name": "python",
   "nbconvert_exporter": "python",
   "pygments_lexer": "ipython3",
   "version": "3.12.1"
  }
 },
 "nbformat": 4,
 "nbformat_minor": 4
}
