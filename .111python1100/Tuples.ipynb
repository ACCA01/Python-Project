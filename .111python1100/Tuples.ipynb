{
 "cells": [
  {
   "cell_type": "markdown",
   "id": "d8da0cc0-2f3d-4516-94b0-dea36caf7e20",
   "metadata": {},
   "source": [
    "# Tuples:\n",
    "- Immutable\n",
    "- ordered\n",
    "- indexed\n",
    "- read only\n",
    "- allows duplicate value\n",
    "- items written inside () seperated by comma"
   ]
  },
  {
   "cell_type": "code",
   "execution_count": 8,
   "id": "2090e566-1d6f-43f8-8165-e4614169f7cd",
   "metadata": {},
   "outputs": [
    {
     "data": {
      "text/plain": [
       "('Audi', 'BMW', 'Ferrari')"
      ]
     },
     "execution_count": 8,
     "metadata": {},
     "output_type": "execute_result"
    }
   ],
   "source": [
    "cars = ('Audi', 'BMW', 'Ferrari') # if its in []; it is list and if in (); it is tuple\n",
    "cars"
   ]
  },
  {
   "cell_type": "code",
   "execution_count": 4,
   "id": "f2ef7f67-bca3-4b7e-b9f3-4835a4bbe942",
   "metadata": {},
   "outputs": [
    {
     "data": {
      "text/plain": [
       "tuple"
      ]
     },
     "execution_count": 4,
     "metadata": {},
     "output_type": "execute_result"
    }
   ],
   "source": [
    "type (cars)"
   ]
  },
  {
   "cell_type": "code",
   "execution_count": 6,
   "id": "e5d012e5-3346-4c86-ac0d-0edb8535924b",
   "metadata": {},
   "outputs": [
    {
     "data": {
      "text/plain": [
       "'Ferrari'"
      ]
     },
     "execution_count": 6,
     "metadata": {},
     "output_type": "execute_result"
    }
   ],
   "source": [
    "cars[2]"
   ]
  },
  {
   "cell_type": "code",
   "execution_count": 7,
   "id": "4a5474f4-a478-4e8e-97f8-9a6bc504f642",
   "metadata": {},
   "outputs": [
    {
     "data": {
      "text/plain": [
       "'Ferrari'"
      ]
     },
     "execution_count": 7,
     "metadata": {},
     "output_type": "execute_result"
    }
   ],
   "source": [
    "cars[-1]"
   ]
  },
  {
   "cell_type": "code",
   "execution_count": 12,
   "id": "8d268639-ba51-4d4c-95e8-a18cffd4c097",
   "metadata": {},
   "outputs": [
    {
     "data": {
      "text/plain": [
       "('BMW', 'Ferrari')"
      ]
     },
     "execution_count": 12,
     "metadata": {},
     "output_type": "execute_result"
    }
   ],
   "source": [
    "cars [1:3]"
   ]
  },
  {
   "cell_type": "code",
   "execution_count": 15,
   "id": "d9c24208-77bf-43cf-a112-8d791d6fbedd",
   "metadata": {},
   "outputs": [
    {
     "data": {
      "text/plain": [
       "('Audi', 'BMW')"
      ]
     },
     "execution_count": 15,
     "metadata": {},
     "output_type": "execute_result"
    }
   ],
   "source": [
    "cars [:2]"
   ]
  },
  {
   "cell_type": "code",
   "execution_count": 17,
   "id": "afa5e500-2991-48cd-8b20-60c296dc9b99",
   "metadata": {},
   "outputs": [
    {
     "data": {
      "text/plain": [
       "('BMW', 'Ferrari')"
      ]
     },
     "execution_count": 17,
     "metadata": {},
     "output_type": "execute_result"
    }
   ],
   "source": [
    "cars [-2:]"
   ]
  },
  {
   "cell_type": "code",
   "execution_count": 22,
   "id": "e5abcad4-e128-4194-afb7-63b1ac181561",
   "metadata": {},
   "outputs": [
    {
     "name": "stdout",
     "output_type": "stream",
     "text": [
      "0 Audi\n",
      "1 BMW\n",
      "2 Ferrari\n"
     ]
    }
   ],
   "source": [
    "cars = ('Audi', 'BMW', 'Ferrari')\n",
    "for index in range (len(cars)):\n",
    "    item = cars [index]\n",
    "    print (index, item)"
   ]
  },
  {
   "cell_type": "code",
   "execution_count": 30,
   "id": "744e2545-c16e-4b1b-b1bd-b15079f862e6",
   "metadata": {},
   "outputs": [],
   "source": [
    "# Tuple is immutable and list is a mutable data type\n",
    "# tuple is read only but list is read and write"
   ]
  },
  {
   "cell_type": "code",
   "execution_count": 24,
   "id": "1a72eac9-cf15-4bf5-8f5e-adb765eae70a",
   "metadata": {},
   "outputs": [],
   "source": [
    "cars = ('Audi', 'BMW', 'Ferrari')"
   ]
  },
  {
   "cell_type": "code",
   "execution_count": 25,
   "id": "1a3c9762-342d-43cf-970b-dfc98fd866e8",
   "metadata": {},
   "outputs": [
    {
     "data": {
      "text/plain": [
       "'Ferrari'"
      ]
     },
     "execution_count": 25,
     "metadata": {},
     "output_type": "execute_result"
    }
   ],
   "source": [
    "cars [2]"
   ]
  },
  {
   "cell_type": "code",
   "execution_count": 26,
   "id": "307f0725-1324-4dd7-98db-3e84c4ceea2d",
   "metadata": {},
   "outputs": [
    {
     "ename": "TypeError",
     "evalue": "'tuple' object does not support item assignment",
     "output_type": "error",
     "traceback": [
      "\u001b[1;31m---------------------------------------------------------------------------\u001b[0m",
      "\u001b[1;31mTypeError\u001b[0m                                 Traceback (most recent call last)",
      "Cell \u001b[1;32mIn[26], line 1\u001b[0m\n\u001b[1;32m----> 1\u001b[0m \u001b[43mcars\u001b[49m\u001b[43m \u001b[49m\u001b[43m[\u001b[49m\u001b[38;5;241;43m2\u001b[39;49m\u001b[43m]\u001b[49m \u001b[38;5;241m=\u001b[39m \u001b[38;5;124m'\u001b[39m\u001b[38;5;124mmercedes\u001b[39m\u001b[38;5;124m'\u001b[39m\n",
      "\u001b[1;31mTypeError\u001b[0m: 'tuple' object does not support item assignment"
     ]
    }
   ],
   "source": [
    "cars [2] = 'mercedes'"
   ]
  },
  {
   "cell_type": "code",
   "execution_count": 28,
   "id": "419f2e12-6b0e-4ac2-9836-b2537074f2fe",
   "metadata": {},
   "outputs": [
    {
     "data": {
      "text/plain": [
       "['Audi', 'BMW', 'mercedez']"
      ]
     },
     "execution_count": 28,
     "metadata": {},
     "output_type": "execute_result"
    }
   ],
   "source": [
    "cars = ['Audi', 'BMW', 'Ferrari']\n",
    "cars[2]= 'mercedez'\n",
    "cars"
   ]
  },
  {
   "cell_type": "markdown",
   "id": "bc24f3bc-f8a3-40ab-a770-3e8a75871be8",
   "metadata": {},
   "source": [
    "# Type Casting"
   ]
  },
  {
   "cell_type": "code",
   "execution_count": 32,
   "id": "fb23e503-0ce1-4e91-ad48-bc39970d60d7",
   "metadata": {},
   "outputs": [
    {
     "ename": "AttributeError",
     "evalue": "'tuple' object has no attribute 'append'",
     "output_type": "error",
     "traceback": [
      "\u001b[1;31m---------------------------------------------------------------------------\u001b[0m",
      "\u001b[1;31mAttributeError\u001b[0m                            Traceback (most recent call last)",
      "Cell \u001b[1;32mIn[32], line 2\u001b[0m\n\u001b[0;32m      1\u001b[0m cars \u001b[38;5;241m=\u001b[39m (\u001b[38;5;124m'\u001b[39m\u001b[38;5;124mAudi\u001b[39m\u001b[38;5;124m'\u001b[39m, \u001b[38;5;124m'\u001b[39m\u001b[38;5;124mBMW\u001b[39m\u001b[38;5;124m'\u001b[39m, \u001b[38;5;124m'\u001b[39m\u001b[38;5;124mFerrai\u001b[39m\u001b[38;5;124m'\u001b[39m)\n\u001b[1;32m----> 2\u001b[0m \u001b[43mcars\u001b[49m\u001b[38;5;241;43m.\u001b[39;49m\u001b[43mappend\u001b[49m (\u001b[38;5;124m'\u001b[39m\u001b[38;5;124mMercedez\u001b[39m\u001b[38;5;124m'\u001b[39m)\n",
      "\u001b[1;31mAttributeError\u001b[0m: 'tuple' object has no attribute 'append'"
     ]
    }
   ],
   "source": [
    "cars = ('Audi', 'BMW', 'Ferrai')\n",
    "cars.append ('Mercedez')"
   ]
  },
  {
   "cell_type": "code",
   "execution_count": 33,
   "id": "7fddcbe7-6213-4e79-970e-8c7ee4c64c75",
   "metadata": {},
   "outputs": [],
   "source": [
    "# you can convert tuple into list and list into tuples\n",
    "# using the idea of type casting"
   ]
  },
  {
   "cell_type": "code",
   "execution_count": 35,
   "id": "5a2802c3-4a05-41fe-b3a1-2182bf43d801",
   "metadata": {},
   "outputs": [
    {
     "data": {
      "text/plain": [
       "('Audi', 'BMW', 'Ferrai', 'mercedez')"
      ]
     },
     "execution_count": 35,
     "metadata": {},
     "output_type": "execute_result"
    }
   ],
   "source": [
    "cars = ('Audi', 'BMW', 'Ferrai')\n",
    "cars = list(cars) # type casting to list\n",
    "cars.append('mercedez') # list method\n",
    "cars = tuple(cars) # again typecast to tuple\n",
    "cars"
   ]
  },
  {
   "cell_type": "markdown",
   "id": "0142dc4b-5885-417a-b752-ac997c114442",
   "metadata": {},
   "source": [
    "# Tuple unpacking"
   ]
  },
  {
   "cell_type": "code",
   "execution_count": 39,
   "id": "e2ef2201-f5cf-4b3d-8985-d520d943d3f7",
   "metadata": {},
   "outputs": [],
   "source": [
    "x, y = (6, 8) # assinging multiple values to multiple variables (if there is () - its called tuple unpacking)"
   ]
  },
  {
   "cell_type": "code",
   "execution_count": 37,
   "id": "be470baf-b124-40b7-931e-9db32bf5ef96",
   "metadata": {},
   "outputs": [
    {
     "data": {
      "text/plain": [
       "6"
      ]
     },
     "execution_count": 37,
     "metadata": {},
     "output_type": "execute_result"
    }
   ],
   "source": [
    "x"
   ]
  },
  {
   "cell_type": "code",
   "execution_count": 38,
   "id": "aa6e4245-8cbf-4fcc-83fb-f853403bdf19",
   "metadata": {},
   "outputs": [
    {
     "data": {
      "text/plain": [
       "8"
      ]
     },
     "execution_count": 38,
     "metadata": {},
     "output_type": "execute_result"
    }
   ],
   "source": [
    "y"
   ]
  },
  {
   "cell_type": "code",
   "execution_count": 44,
   "id": "73de715d-51a1-45ee-8569-1120a7c39ad9",
   "metadata": {},
   "outputs": [
    {
     "data": {
      "text/plain": [
       "29"
      ]
     },
     "execution_count": 44,
     "metadata": {},
     "output_type": "execute_result"
    }
   ],
   "source": [
    "# while loops\n",
    "nums = (5, 6, 8, 10)\n",
    "index = 0\n",
    "total = 0\n",
    "stop = len(nums) # 4\n",
    "while index < stop:\n",
    "    item = nums [index]\n",
    "    total = total + item\n",
    "    index = index + 1\n",
    "total"
   ]
  },
  {
   "cell_type": "code",
   "execution_count": 45,
   "id": "c569aded-f9c2-4ced-94fd-eea6130759cf",
   "metadata": {},
   "outputs": [],
   "source": [
    "# while loop can run for infinite times but for loop can be run for finite times"
   ]
  },
  {
   "cell_type": "code",
   "execution_count": null,
   "id": "dbe9f965-7b22-4d32-969a-9fa17bd77dca",
   "metadata": {},
   "outputs": [],
   "source": []
  }
 ],
 "metadata": {
  "kernelspec": {
   "display_name": "Python 3 (ipykernel)",
   "language": "python",
   "name": "python3"
  },
  "language_info": {
   "codemirror_mode": {
    "name": "ipython",
    "version": 3
   },
   "file_extension": ".py",
   "mimetype": "text/x-python",
   "name": "python",
   "nbconvert_exporter": "python",
   "pygments_lexer": "ipython3",
   "version": "3.12.1"
  }
 },
 "nbformat": 4,
 "nbformat_minor": 5
}
