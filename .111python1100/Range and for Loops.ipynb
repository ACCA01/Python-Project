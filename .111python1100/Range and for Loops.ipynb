{
 "cells": [
  {
   "cell_type": "markdown",
   "id": "d1df3fa0-5eeb-4df9-886b-2b3d174ae635",
   "metadata": {},
   "source": [
    "# Range and \"for\" Loops\n",
    "# range ( start, stop, step)"
   ]
  },
  {
   "cell_type": "code",
   "execution_count": 1,
   "id": "31cd754e-cdc0-4b7b-ab1f-8843947b11e6",
   "metadata": {},
   "outputs": [
    {
     "data": {
      "text/plain": [
       "range(0, 11)"
      ]
     },
     "execution_count": 1,
     "metadata": {},
     "output_type": "execute_result"
    }
   ],
   "source": [
    "range (0, 11 , 1) # 0 is start; 11 is stop; step is 1 : step is default by 1"
   ]
  },
  {
   "cell_type": "code",
   "execution_count": 2,
   "id": "8f558443-c83e-4c67-a5c3-784ee8e616ea",
   "metadata": {},
   "outputs": [
    {
     "name": "stdout",
     "output_type": "stream",
     "text": [
      "0\n",
      "1\n",
      "2\n",
      "3\n",
      "4\n"
     ]
    }
   ],
   "source": [
    "for index in range (0, 5):\n",
    "    print (index)"
   ]
  },
  {
   "cell_type": "code",
   "execution_count": 3,
   "id": "7f320cb4-8adb-4409-a273-a3c05bc118fc",
   "metadata": {},
   "outputs": [
    {
     "name": "stdout",
     "output_type": "stream",
     "text": [
      "1\n",
      "2\n",
      "3\n",
      "4\n"
     ]
    }
   ],
   "source": [
    "for index in range (1, 5):\n",
    "    print (index)"
   ]
  },
  {
   "cell_type": "code",
   "execution_count": 8,
   "id": "48e4fada-81f0-41c8-9859-92ae3668e3b2",
   "metadata": {},
   "outputs": [
    {
     "name": "stdout",
     "output_type": "stream",
     "text": [
      "10\n",
      "11\n",
      "12\n",
      "13\n",
      "14\n"
     ]
    }
   ],
   "source": [
    "for index in range (10, 15,1):\n",
    "    print (index)"
   ]
  },
  {
   "cell_type": "code",
   "execution_count": 11,
   "id": "77df19f0-8b30-46b4-9126-253f2d111200",
   "metadata": {},
   "outputs": [
    {
     "name": "stdout",
     "output_type": "stream",
     "text": [
      "2\n",
      "4\n",
      "6\n",
      "8\n"
     ]
    }
   ],
   "source": [
    "for index in range (2, 10, 2):\n",
    "    print (index)"
   ]
  },
  {
   "cell_type": "code",
   "execution_count": 12,
   "id": "9afa49ad-7858-4824-aff6-dae361f4ea1a",
   "metadata": {},
   "outputs": [],
   "source": [
    "s = 'HELLO WORLD'"
   ]
  },
  {
   "cell_type": "code",
   "execution_count": 13,
   "id": "bf4d1a84-7e64-4de3-8006-73293e5b325a",
   "metadata": {},
   "outputs": [
    {
     "data": {
      "text/plain": [
       "'H'"
      ]
     },
     "execution_count": 13,
     "metadata": {},
     "output_type": "execute_result"
    }
   ],
   "source": [
    "index = 0\n",
    "s [index]"
   ]
  },
  {
   "cell_type": "code",
   "execution_count": 14,
   "id": "e826df94-3c0d-4d97-a6bf-0106d8799d7c",
   "metadata": {},
   "outputs": [],
   "source": [
    "s = 'HELLO WORLD'"
   ]
  },
  {
   "cell_type": "code",
   "execution_count": 20,
   "id": "358aafcb-77f1-465f-ae23-55dce6b2639e",
   "metadata": {},
   "outputs": [
    {
     "data": {
      "text/plain": [
       "'L'"
      ]
     },
     "execution_count": 20,
     "metadata": {},
     "output_type": "execute_result"
    }
   ],
   "source": [
    "index = 2\n",
    "s [index]"
   ]
  },
  {
   "cell_type": "code",
   "execution_count": 21,
   "id": "d2ff4b1f-5d0f-473d-a8e8-e04eeed61234",
   "metadata": {},
   "outputs": [
    {
     "data": {
      "text/plain": [
       "'L'"
      ]
     },
     "execution_count": 21,
     "metadata": {},
     "output_type": "execute_result"
    }
   ],
   "source": [
    "index = 2\n",
    "letter = s[index]\n",
    "letter"
   ]
  },
  {
   "cell_type": "code",
   "execution_count": 22,
   "id": "ee752aab-21c4-449e-8dc5-7b43f3fcff36",
   "metadata": {},
   "outputs": [
    {
     "data": {
      "text/plain": [
       "11"
      ]
     },
     "execution_count": 22,
     "metadata": {},
     "output_type": "execute_result"
    }
   ],
   "source": [
    "s = 'hello world'\n",
    "len (s)"
   ]
  },
  {
   "cell_type": "code",
   "execution_count": 8,
   "id": "dbd86b8d-98f2-4e5b-b6d0-d6a9ad8f0cfd",
   "metadata": {},
   "outputs": [
    {
     "data": {
      "text/plain": [
       "[0, 1, 2, 3, 4, 5, 6, 7, 8, 9, 10]"
      ]
     },
     "execution_count": 8,
     "metadata": {},
     "output_type": "execute_result"
    }
   ],
   "source": [
    "s = 'hello world'\n",
    "list (range (0, len(s)))"
   ]
  },
  {
   "cell_type": "code",
   "execution_count": 24,
   "id": "a141fce2-6b0b-4146-819e-fe62109db55e",
   "metadata": {},
   "outputs": [
    {
     "name": "stdout",
     "output_type": "stream",
     "text": [
      "index = 0 and letter = h\n",
      "index = 1 and letter = e\n",
      "index = 2 and letter = l\n",
      "index = 3 and letter = l\n",
      "index = 4 and letter = o\n",
      "index = 5 and letter =  \n",
      "index = 6 and letter = w\n",
      "index = 7 and letter = o\n",
      "index = 8 and letter = r\n",
      "index = 9 and letter = l\n",
      "index = 10 and letter = d\n"
     ]
    }
   ],
   "source": [
    "for index in range (0, len(s)):\n",
    "    letter = s[index]\n",
    "    print (f'index = {index} and letter = {letter}')"
   ]
  },
  {
   "cell_type": "code",
   "execution_count": 25,
   "id": "bf6dc820-774a-4466-b498-89e0603925cd",
   "metadata": {},
   "outputs": [
    {
     "data": {
      "text/plain": [
       "6"
      ]
     },
     "execution_count": 25,
     "metadata": {},
     "output_type": "execute_result"
    }
   ],
   "source": [
    "s = 'suresh'\n",
    "len (s)"
   ]
  },
  {
   "cell_type": "code",
   "execution_count": 26,
   "id": "ea868ef1-cbae-4213-a511-83dda392add4",
   "metadata": {},
   "outputs": [
    {
     "name": "stdout",
     "output_type": "stream",
     "text": [
      "index = 0 and letter = s\n",
      "index = 1 and letter = u\n",
      "index = 2 and letter = r\n",
      "index = 3 and letter = e\n",
      "index = 4 and letter = s\n",
      "index = 5 and letter = h\n"
     ]
    }
   ],
   "source": [
    "for index in range (0, len (s)):\n",
    "    letter = s[index]\n",
    "    print (f'index = {index} and letter = {letter}')"
   ]
  },
  {
   "cell_type": "code",
   "execution_count": 27,
   "id": "5599aaed-c39d-433d-896e-4a3125705782",
   "metadata": {},
   "outputs": [
    {
     "data": {
      "text/plain": [
       "8"
      ]
     },
     "execution_count": 27,
     "metadata": {},
     "output_type": "execute_result"
    }
   ],
   "source": [
    "s= \"BROADWAY\"\n",
    "len(s)"
   ]
  },
  {
   "cell_type": "code",
   "execution_count": 29,
   "id": "829a414d-2f53-4f36-8b0e-56ff7261552b",
   "metadata": {},
   "outputs": [
    {
     "data": {
      "text/plain": [
       "[0, 1, 2, 3, 4, 5, 6, 7]"
      ]
     },
     "execution_count": 29,
     "metadata": {},
     "output_type": "execute_result"
    }
   ],
   "source": [
    "list (range(0,8))"
   ]
  },
  {
   "cell_type": "code",
   "execution_count": 51,
   "id": "2fb95823-272a-4c18-b1b3-f5d89730d4d9",
   "metadata": {},
   "outputs": [
    {
     "name": "stdout",
     "output_type": "stream",
     "text": [
      "index = 7 and letter = Y\n",
      "index = 6 and letter = A\n",
      "index = 5 and letter = W\n",
      "index = 4 and letter = D\n",
      "index = 3 and letter = A\n",
      "index = 2 and letter = O\n",
      "index = 1 and letter = R\n",
      "index = 0 and letter = B\n"
     ]
    }
   ],
   "source": [
    "s= \"BROADWAY\"\n",
    "for index in range (7, -1, -1):\n",
    "    letter = s[index]\n",
    "    print(f'index = {index} and letter = {letter}')"
   ]
  },
  {
   "cell_type": "code",
   "execution_count": 38,
   "id": "e349278c-24bf-4ae9-b331-52fac25f5fbd",
   "metadata": {},
   "outputs": [
    {
     "name": "stdout",
     "output_type": "stream",
     "text": [
      "10\n",
      "9\n",
      "8\n",
      "7\n",
      "6\n"
     ]
    }
   ],
   "source": [
    "for index in range (10,5,-1):\n",
    "    print (index)"
   ]
  },
  {
   "cell_type": "code",
   "execution_count": 39,
   "id": "152ec0ed-c712-447e-a705-0f9ac5081017",
   "metadata": {},
   "outputs": [
    {
     "name": "stdout",
     "output_type": "stream",
     "text": [
      "5 h\n",
      "4 s\n",
      "3 e\n",
      "2 r\n",
      "1 u\n",
      "0 s\n"
     ]
    }
   ],
   "source": [
    "s = 'suresh'\n",
    "start = len (s) -1\n",
    "stop = -1\n",
    "step = -1\n",
    "for index in range (start , stop, step):\n",
    "    letter = s[index]\n",
    "    print (index, letter)"
   ]
  },
  {
   "cell_type": "code",
   "execution_count": 42,
   "id": "363f59c5-cf9b-4c64-b67c-7f0fa9d53f94",
   "metadata": {},
   "outputs": [
    {
     "name": "stdout",
     "output_type": "stream",
     "text": [
      "the letter = s is constant\n",
      " the letter = u is vowel\n",
      "the letter = r is constant\n",
      " the letter = e is vowel\n",
      "the letter = s is constant\n",
      "the letter = h is constant\n"
     ]
    }
   ],
   "source": [
    "s = 'suresh'\n",
    "for index in range (0 , len (s)):\n",
    "    letter = s[index]\n",
    "    if letter == 'a' or letter == 'e' or letter == 'i' or letter == 'o' or letter == 'u':\n",
    "        print (f' the letter = {letter} is vowel')\n",
    "    else:\n",
    "        print (f'the letter = {letter} is constant')    "
   ]
  },
  {
   "cell_type": "code",
   "execution_count": null,
   "id": "6ff7aa4d-3f68-46e0-9548-3d984dfa1fc3",
   "metadata": {},
   "outputs": [],
   "source": []
  }
 ],
 "metadata": {
  "kernelspec": {
   "display_name": "Python 3 (ipykernel)",
   "language": "python",
   "name": "python3"
  },
  "language_info": {
   "codemirror_mode": {
    "name": "ipython",
    "version": 3
   },
   "file_extension": ".py",
   "mimetype": "text/x-python",
   "name": "python",
   "nbconvert_exporter": "python",
   "pygments_lexer": "ipython3",
   "version": "3.12.1"
  }
 },
 "nbformat": 4,
 "nbformat_minor": 5
}
