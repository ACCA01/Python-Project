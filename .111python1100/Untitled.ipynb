{
 "cells": [
  {
   "cell_type": "code",
   "execution_count": 1,
   "id": "a5e41d93-c9a2-4fb4-be3d-e1d39f11a0e9",
   "metadata": {},
   "outputs": [],
   "source": [
    "a = 5"
   ]
  },
  {
   "cell_type": "code",
   "execution_count": 3,
   "id": "5fda82ba-078b-4249-8b98-d38812e1933b",
   "metadata": {},
   "outputs": [
    {
     "data": {
      "text/plain": [
       "'Ram'"
      ]
     },
     "execution_count": 3,
     "metadata": {},
     "output_type": "execute_result"
    }
   ],
   "source": [
    "name = 'Ram'\n",
    "name"
   ]
  },
  {
   "cell_type": "code",
   "execution_count": 4,
   "id": "61e9b311-79b8-434f-a046-8eca748c9bfd",
   "metadata": {},
   "outputs": [
    {
     "data": {
      "text/plain": [
       "'shayam'"
      ]
     },
     "execution_count": 4,
     "metadata": {},
     "output_type": "execute_result"
    }
   ],
   "source": [
    "name= \"shayam\"\n",
    "name"
   ]
  },
  {
   "cell_type": "code",
   "execution_count": 5,
   "id": "95bdaf9e-d350-48c6-8dc7-dae6eadfb344",
   "metadata": {},
   "outputs": [
    {
     "ename": "SyntaxError",
     "evalue": "invalid syntax (1138499730.py, line 1)",
     "output_type": "error",
     "traceback": [
      "\u001b[1;36m  Cell \u001b[1;32mIn[5], line 1\u001b[1;36m\u001b[0m\n\u001b[1;33m    first name = 'suresh'\u001b[0m\n\u001b[1;37m          ^\u001b[0m\n\u001b[1;31mSyntaxError\u001b[0m\u001b[1;31m:\u001b[0m invalid syntax\n"
     ]
    }
   ],
   "source": [
    "first name = 'suresh' # you cannot use space bar in variable name\n",
    "   # you can use space bar in variable name"
   ]
  },
  {
   "cell_type": "code",
   "execution_count": 7,
   "id": "2ea310e9-09eb-4acc-99fa-7e1b24a28fe4",
   "metadata": {},
   "outputs": [
    {
     "data": {
      "text/plain": [
       "'ram'"
      ]
     },
     "execution_count": 7,
     "metadata": {},
     "output_type": "execute_result"
    }
   ],
   "source": [
    "firstname = \"ram\"\n",
    "firstname"
   ]
  },
  {
   "cell_type": "code",
   "execution_count": 8,
   "id": "31aae82c-93e2-444b-9fa9-9a14768785d2",
   "metadata": {},
   "outputs": [
    {
     "data": {
      "text/plain": [
       "'ram'"
      ]
     },
     "execution_count": 8,
     "metadata": {},
     "output_type": "execute_result"
    }
   ],
   "source": [
    "first_name = 'ram'\n",
    "first_name"
   ]
  },
  {
   "cell_type": "markdown",
   "id": "e1969aad-5b1f-43be-80e1-e1ebe8fd5edb",
   "metadata": {},
   "source": [
    "# you cannot use space bar in variable name\n",
    "   # the variable name and function name should be in snake_case in python\n",
    "   # the classname should be on PascalCase\n",
    "   # you can learn about this on pep-8 convention; code style guide"
   ]
  },
  {
   "cell_type": "markdown",
   "id": "42c81331-8f4c-4468-828b-3e2fd5fbfb83",
   "metadata": {},
   "source": [
    "[PEP 8 — the Style Guide for Python Code](https://pep8.org/) #weblink tanna heading big bracket ra url small braket ma rakhne without any space"
   ]
  },
  {
   "cell_type": "markdown",
   "id": "d2f206c1-9cd1-46a5-9f83-16549ed13268",
   "metadata": {},
   "source": [
    "[Learn Python Programming](https://www.programiz.com/python-programming)"
   ]
  },
  {
   "cell_type": "code",
   "execution_count": 9,
   "id": "6fedc005-c28b-4723-bfdd-9272c9c75e9b",
   "metadata": {},
   "outputs": [],
   "source": [
    "# Keywords cannot be variable names"
   ]
  },
  {
   "cell_type": "code",
   "execution_count": 12,
   "id": "a0f3f2a2-580a-45e7-9be2-439c15564a7b",
   "metadata": {},
   "outputs": [
    {
     "name": "stdout",
     "output_type": "stream",
     "text": [
      "\n",
      "Here is a list of the Python keywords.  Enter any keyword to get more help.\n",
      "\n",
      "False               class               from                or\n",
      "None                continue            global              pass\n",
      "True                def                 if                  raise\n",
      "and                 del                 import              return\n",
      "as                  elif                in                  try\n",
      "assert              else                is                  while\n",
      "async               except              lambda              with\n",
      "await               finally             nonlocal            yield\n",
      "break               for                 not                 \n",
      "\n"
     ]
    }
   ],
   "source": [
    "help('keywords') # reserved words- variable name ma use garna mildaina"
   ]
  },
  {
   "cell_type": "code",
   "execution_count": 13,
   "id": "96986dd9-a9b1-4b81-bc99-eaafb0cd69a6",
   "metadata": {},
   "outputs": [
    {
     "ename": "SyntaxError",
     "evalue": "cannot assign to False (1160946929.py, line 1)",
     "output_type": "error",
     "traceback": [
      "\u001b[1;36m  Cell \u001b[1;32mIn[13], line 1\u001b[1;36m\u001b[0m\n\u001b[1;33m    False = 0\u001b[0m\n\u001b[1;37m    ^\u001b[0m\n\u001b[1;31mSyntaxError\u001b[0m\u001b[1;31m:\u001b[0m cannot assign to False\n"
     ]
    }
   ],
   "source": [
    "False = 0 # keywords word haru green aau6 ; variable name ma use garnu hunna green ma aauda"
   ]
  },
  {
   "cell_type": "code",
   "execution_count": 14,
   "id": "4eb33300-3015-427b-a4a7-1b2ea567e906",
   "metadata": {},
   "outputs": [
    {
     "ename": "SyntaxError",
     "evalue": "assignment to yield expression not possible (2325370735.py, line 1)",
     "output_type": "error",
     "traceback": [
      "\u001b[1;36m  Cell \u001b[1;32mIn[14], line 1\u001b[1;36m\u001b[0m\n\u001b[1;33m    yield = 500\u001b[0m\n\u001b[1;37m    ^\u001b[0m\n\u001b[1;31mSyntaxError\u001b[0m\u001b[1;31m:\u001b[0m assignment to yield expression not possible\n"
     ]
    }
   ],
   "source": [
    "yield = 500"
   ]
  },
  {
   "cell_type": "markdown",
   "id": "1e82ffe5-96a9-4202-b879-ce6520b3940a",
   "metadata": {},
   "source": [
    "# python keywords are case sensative"
   ]
  },
  {
   "cell_type": "code",
   "execution_count": 15,
   "id": "1517061f-34ba-458e-97e9-424dd50c8abc",
   "metadata": {},
   "outputs": [],
   "source": [
    "false = 0 "
   ]
  },
  {
   "cell_type": "code",
   "execution_count": 16,
   "id": "5111212c-833a-46d1-a304-a7aa8be69bc6",
   "metadata": {},
   "outputs": [],
   "source": [
    "# False is keyword & false is not so we can use false as variable name -- thatswhy its called case sensative"
   ]
  },
  {
   "cell_type": "markdown",
   "id": "3f96cd18-394f-43de-b1cf-07382ec6f120",
   "metadata": {},
   "source": [
    "# python is a case sensitive language"
   ]
  },
  {
   "cell_type": "code",
   "execution_count": 17,
   "id": "654b64e4-f41e-4cec-a729-2db63da61120",
   "metadata": {},
   "outputs": [],
   "source": [
    "A = 20\n",
    "a = 33"
   ]
  },
  {
   "cell_type": "code",
   "execution_count": 18,
   "id": "6e44fd9b-eb40-4247-aafd-615be6c047f3",
   "metadata": {},
   "outputs": [
    {
     "name": "stdout",
     "output_type": "stream",
     "text": [
      "20\n"
     ]
    }
   ],
   "source": [
    "print(A)"
   ]
  },
  {
   "cell_type": "code",
   "execution_count": 19,
   "id": "208291f6-4426-4ce1-a662-e0cd12e61502",
   "metadata": {},
   "outputs": [
    {
     "name": "stdout",
     "output_type": "stream",
     "text": [
      "33\n"
     ]
    }
   ],
   "source": [
    "print(a)"
   ]
  },
  {
   "cell_type": "code",
   "execution_count": 20,
   "id": "f959073d-9bbb-4bfb-9d7f-5ae4c0ed75c1",
   "metadata": {},
   "outputs": [
    {
     "name": "stdout",
     "output_type": "stream",
     "text": [
      "53\n"
     ]
    }
   ],
   "source": [
    "print(a+A)"
   ]
  },
  {
   "cell_type": "code",
   "execution_count": 22,
   "id": "792d4e78-44c3-4ed0-a095-dd8a0b9eefc7",
   "metadata": {},
   "outputs": [
    {
     "name": "stdout",
     "output_type": "stream",
     "text": [
      "10\n"
     ]
    }
   ],
   "source": [
    "a = 3\n",
    "a = 10\n",
    "print(a) # latest value lin6"
   ]
  },
  {
   "cell_type": "markdown",
   "id": "c555b22e-a265-4bff-b31b-cb7cd572cb34",
   "metadata": {},
   "source": [
    "you cannot use special characters in variable name"
   ]
  },
  {
   "cell_type": "code",
   "execution_count": 23,
   "id": "a6f9bb4e-d61e-4b9d-b740-168c9c72d1cb",
   "metadata": {},
   "outputs": [
    {
     "ename": "SyntaxError",
     "evalue": "invalid syntax. Maybe you meant '==' or ':=' instead of '='? (3071248096.py, line 1)",
     "output_type": "error",
     "traceback": [
      "\u001b[1;36m  Cell \u001b[1;32mIn[23], line 1\u001b[1;36m\u001b[0m\n\u001b[1;33m    @name = \"ram\"\u001b[0m\n\u001b[1;37m     ^\u001b[0m\n\u001b[1;31mSyntaxError\u001b[0m\u001b[1;31m:\u001b[0m invalid syntax. Maybe you meant '==' or ':=' instead of '='?\n"
     ]
    }
   ],
   "source": [
    "@name = \"ram\""
   ]
  },
  {
   "cell_type": "code",
   "execution_count": 24,
   "id": "3c3457b0-32f7-40e2-865b-da5e27986a21",
   "metadata": {},
   "outputs": [
    {
     "ename": "SyntaxError",
     "evalue": "cannot assign to expression here. Maybe you meant '==' instead of '='? (2763393296.py, line 1)",
     "output_type": "error",
     "traceback": [
      "\u001b[1;36m  Cell \u001b[1;32mIn[24], line 1\u001b[1;36m\u001b[0m\n\u001b[1;33m    first@name = 'suresh'\u001b[0m\n\u001b[1;37m    ^\u001b[0m\n\u001b[1;31mSyntaxError\u001b[0m\u001b[1;31m:\u001b[0m cannot assign to expression here. Maybe you meant '==' instead of '='?\n"
     ]
    }
   ],
   "source": [
    "first@name = 'suresh'"
   ]
  },
  {
   "cell_type": "code",
   "execution_count": 25,
   "id": "6fef7c79-2ddd-432d-a91a-41b36e34c9e8",
   "metadata": {},
   "outputs": [
    {
     "ename": "SyntaxError",
     "evalue": "cannot assign to expression here. Maybe you meant '==' instead of '='? (2256050318.py, line 1)",
     "output_type": "error",
     "traceback": [
      "\u001b[1;36m  Cell \u001b[1;32mIn[25], line 1\u001b[1;36m\u001b[0m\n\u001b[1;33m    first-name= 'suresh'\u001b[0m\n\u001b[1;37m    ^\u001b[0m\n\u001b[1;31mSyntaxError\u001b[0m\u001b[1;31m:\u001b[0m cannot assign to expression here. Maybe you meant '==' instead of '='?\n"
     ]
    }
   ],
   "source": [
    "first-name= 'suresh'"
   ]
  },
  {
   "cell_type": "code",
   "execution_count": 26,
   "id": "254fdf44-2bd6-418d-873e-7d57437a254f",
   "metadata": {},
   "outputs": [],
   "source": [
    "first_name = 'suresh'"
   ]
  },
  {
   "cell_type": "markdown",
   "id": "47d820ab-f6a7-4856-be5a-f32620222e17",
   "metadata": {},
   "source": [
    "# numbers cannot be variable names. also they cannot appear at first of variable name. they can appear after a character in variable name"
   ]
  },
  {
   "cell_type": "code",
   "execution_count": 28,
   "id": "059b9bee-5c2a-40ef-b4fa-5af9c0731cf1",
   "metadata": {},
   "outputs": [
    {
     "ename": "SyntaxError",
     "evalue": "invalid decimal literal (3359642292.py, line 1)",
     "output_type": "error",
     "traceback": [
      "\u001b[1;36m  Cell \u001b[1;32mIn[28], line 1\u001b[1;36m\u001b[0m\n\u001b[1;33m    1name = 'test'\u001b[0m\n\u001b[1;37m    ^\u001b[0m\n\u001b[1;31mSyntaxError\u001b[0m\u001b[1;31m:\u001b[0m invalid decimal literal\n"
     ]
    }
   ],
   "source": [
    "1name = 'test' "
   ]
  },
  {
   "cell_type": "code",
   "execution_count": 29,
   "id": "c6786417-c76e-467a-ab24-a8ff443a9040",
   "metadata": {},
   "outputs": [],
   "source": [
    "name1 = 'test'"
   ]
  },
  {
   "cell_type": "code",
   "execution_count": 30,
   "id": "185f3e7b-a9de-4d43-8978-36b5f3297852",
   "metadata": {},
   "outputs": [
    {
     "ename": "SyntaxError",
     "evalue": "cannot assign to literal here. Maybe you meant '==' instead of '='? (3955223923.py, line 1)",
     "output_type": "error",
     "traceback": [
      "\u001b[1;36m  Cell \u001b[1;32mIn[30], line 1\u001b[1;36m\u001b[0m\n\u001b[1;33m    20 = a\u001b[0m\n\u001b[1;37m    ^\u001b[0m\n\u001b[1;31mSyntaxError\u001b[0m\u001b[1;31m:\u001b[0m cannot assign to literal here. Maybe you meant '==' instead of '='?\n"
     ]
    }
   ],
   "source": [
    "20 = a"
   ]
  },
  {
   "cell_type": "code",
   "execution_count": null,
   "id": "e979fabd-c7aa-42bd-83e4-c678a0280251",
   "metadata": {},
   "outputs": [],
   "source": []
  }
 ],
 "metadata": {
  "kernelspec": {
   "display_name": "Python 3 (ipykernel)",
   "language": "python",
   "name": "python3"
  },
  "language_info": {
   "codemirror_mode": {
    "name": "ipython",
    "version": 3
   },
   "file_extension": ".py",
   "mimetype": "text/x-python",
   "name": "python",
   "nbconvert_exporter": "python",
   "pygments_lexer": "ipython3",
   "version": "3.12.1"
  }
 },
 "nbformat": 4,
 "nbformat_minor": 5
}
