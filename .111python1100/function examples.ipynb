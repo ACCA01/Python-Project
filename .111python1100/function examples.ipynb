{
 "cells": [
  {
   "cell_type": "code",
   "execution_count": 1,
   "id": "05939780-7c63-43c0-893a-fcc1e082c50e",
   "metadata": {},
   "outputs": [],
   "source": [
    "import math"
   ]
  },
  {
   "cell_type": "code",
   "execution_count": 4,
   "id": "0ddf2cd4-7978-4f3a-b51b-9bc160311bce",
   "metadata": {},
   "outputs": [
    {
     "data": {
      "text/plain": [
       "5"
      ]
     },
     "execution_count": 4,
     "metadata": {},
     "output_type": "execute_result"
    }
   ],
   "source": [
    "math.gcd(5, 35)"
   ]
  },
  {
   "cell_type": "code",
   "execution_count": 5,
   "id": "8049e7ba-c629-43ad-b5fa-65101ffcb145",
   "metadata": {},
   "outputs": [
    {
     "data": {
      "text/plain": [
       "35"
      ]
     },
     "execution_count": 5,
     "metadata": {},
     "output_type": "execute_result"
    }
   ],
   "source": [
    "math.lcm(5, 35)"
   ]
  },
  {
   "cell_type": "code",
   "execution_count": 7,
   "id": "e5600aa3-c7f7-4969-8524-5cd7b3d7fc0c",
   "metadata": {},
   "outputs": [],
   "source": [
    "def find_gcd_lcm(a, b):\n",
    "    gcd = math.gcd(a, b)\n",
    "    lcm = math.lcm(a, b)\n",
    "    return gcd, lcm"
   ]
  },
  {
   "cell_type": "code",
   "execution_count": 8,
   "id": "7868b8a0-5500-4d09-a188-17ec0cbb455c",
   "metadata": {},
   "outputs": [],
   "source": [
    "gcd, lcm = find_gcd_lcm(a= 5, b =35)"
   ]
  },
  {
   "cell_type": "code",
   "execution_count": 11,
   "id": "8c188a3a-d003-434a-b346-f281da6179f3",
   "metadata": {},
   "outputs": [
    {
     "data": {
      "text/plain": [
       "35"
      ]
     },
     "execution_count": 11,
     "metadata": {},
     "output_type": "execute_result"
    }
   ],
   "source": [
    "lcm"
   ]
  },
  {
   "cell_type": "code",
   "execution_count": 12,
   "id": "126d0f68-e498-4404-af6d-b0ab284e775d",
   "metadata": {},
   "outputs": [
    {
     "data": {
      "text/plain": [
       "5"
      ]
     },
     "execution_count": 12,
     "metadata": {},
     "output_type": "execute_result"
    }
   ],
   "source": [
    "gcd"
   ]
  },
  {
   "cell_type": "markdown",
   "id": "c1cdee7e-de52-4db4-9b49-652acc8c6999",
   "metadata": {},
   "source": [
    "# find factorial of a given number\n",
    "- 0! = 1\n",
    "- 1! = 1 * 0! = 1\n",
    "- 2! = 2 * 1! = 2\n",
    "- 3! = 3 * 2! = 6\n",
    "- 4! = 4 * 3! = 24\n",
    "- 5! = 5 * 4! = 120\n",
    "    "
   ]
  },
  {
   "cell_type": "code",
   "execution_count": 15,
   "id": "3e3cfa01-4dea-4323-b7f0-9506e99c0560",
   "metadata": {},
   "outputs": [
    {
     "name": "stdout",
     "output_type": "stream",
     "text": [
      "120\n"
     ]
    }
   ],
   "source": [
    "num = 5\n",
    "fact = 1\n",
    "for index in range(1, num +1):\n",
    "    fact = fact * index\n",
    "print(fact)"
   ]
  },
  {
   "cell_type": "code",
   "execution_count": 16,
   "id": "3a80cfbb-86ed-4771-a09b-dce8df0be5ce",
   "metadata": {},
   "outputs": [],
   "source": [
    "def factorial (num):\n",
    "    fact = 1\n",
    "    for index in range(1, num +1):\n",
    "        fact = fact * index\n",
    "    return fact"
   ]
  },
  {
   "cell_type": "code",
   "execution_count": 17,
   "id": "665ca3ce-2316-4bf0-a738-982a7d7d6098",
   "metadata": {},
   "outputs": [
    {
     "data": {
      "text/plain": [
       "24"
      ]
     },
     "execution_count": 17,
     "metadata": {},
     "output_type": "execute_result"
    }
   ],
   "source": [
    "factorial (num = 4)"
   ]
  },
  {
   "cell_type": "markdown",
   "id": "db0c11d9-c920-46d7-a3a2-a1ec04a4650a",
   "metadata": {},
   "source": [
    "# Check prime"
   ]
  },
  {
   "cell_type": "code",
   "execution_count": 21,
   "id": "2d404242-63d5-487a-9bde-27d877dbd29b",
   "metadata": {},
   "outputs": [
    {
     "data": {
      "text/plain": [
       "1"
      ]
     },
     "execution_count": 21,
     "metadata": {},
     "output_type": "execute_result"
    }
   ],
   "source": [
    "num = 5\n",
    "index = 4 # any between 2 to 5 i.e. 2,3,4\n",
    "num % 4"
   ]
  },
  {
   "cell_type": "code",
   "execution_count": 23,
   "id": "0a6dbce2-2a59-4ec5-944d-264f579b636c",
   "metadata": {},
   "outputs": [
    {
     "name": "stdout",
     "output_type": "stream",
     "text": [
      "5 is not divisible by 2\n",
      "5 is not divisible by 3\n",
      "5 is not divisible by 4\n"
     ]
    }
   ],
   "source": [
    "for index in range (2,num):\n",
    "    if num % index == 0:\n",
    "        print(f'{num} is divisible by {index}')\n",
    "    else:\n",
    "        print(f'{num} is not divisible by {index}')"
   ]
  },
  {
   "cell_type": "code",
   "execution_count": 26,
   "id": "4a39ef06-8ff6-4514-b81f-509d846fe5d9",
   "metadata": {},
   "outputs": [],
   "source": [
    "def is_prime(num):\n",
    "    for index in range(2,num):\n",
    "        if num % index == 0:\n",
    "            return False\n",
    "        return True"
   ]
  },
  {
   "cell_type": "code",
   "execution_count": 27,
   "id": "4bb6a744-0a17-4e67-8d01-a7170a002fd3",
   "metadata": {},
   "outputs": [
    {
     "data": {
      "text/plain": [
       "True"
      ]
     },
     "execution_count": 27,
     "metadata": {},
     "output_type": "execute_result"
    }
   ],
   "source": [
    "is_prime(5)"
   ]
  },
  {
   "cell_type": "code",
   "execution_count": 28,
   "id": "a3885182-3830-440e-8455-517e5e15c8ab",
   "metadata": {},
   "outputs": [
    {
     "data": {
      "text/plain": [
       "[[2, None],\n",
       " [3, True],\n",
       " [4, False],\n",
       " [5, True],\n",
       " [6, False],\n",
       " [7, True],\n",
       " [8, False],\n",
       " [9, True],\n",
       " [10, False],\n",
       " [11, True],\n",
       " [12, False],\n",
       " [13, True],\n",
       " [14, False]]"
      ]
     },
     "execution_count": 28,
     "metadata": {},
     "output_type": "execute_result"
    }
   ],
   "source": [
    "[[num, is_prime (num)] for num in range (2,15)]"
   ]
  },
  {
   "cell_type": "code",
   "execution_count": null,
   "id": "7dcae955-8f91-49be-975a-759543427456",
   "metadata": {},
   "outputs": [],
   "source": []
  }
 ],
 "metadata": {
  "kernelspec": {
   "display_name": "Python 3 (ipykernel)",
   "language": "python",
   "name": "python3"
  },
  "language_info": {
   "codemirror_mode": {
    "name": "ipython",
    "version": 3
   },
   "file_extension": ".py",
   "mimetype": "text/x-python",
   "name": "python",
   "nbconvert_exporter": "python",
   "pygments_lexer": "ipython3",
   "version": "3.12.1"
  }
 },
 "nbformat": 4,
 "nbformat_minor": 5
}
