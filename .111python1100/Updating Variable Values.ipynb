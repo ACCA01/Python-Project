{
 "cells": [
  {
   "cell_type": "code",
   "execution_count": 1,
   "id": "7566f908-ef14-4983-8e20-2cbbcc4197fb",
   "metadata": {},
   "outputs": [
    {
     "name": "stdout",
     "output_type": "stream",
     "text": [
      "Horlicks\n"
     ]
    }
   ],
   "source": [
    "batta = 'Horlicks'\n",
    "print(batta)"
   ]
  },
  {
   "cell_type": "code",
   "execution_count": 2,
   "id": "1b5381c9-8496-4a0b-9011-91eac5900f32",
   "metadata": {},
   "outputs": [
    {
     "name": "stdout",
     "output_type": "stream",
     "text": [
      "gheu\n"
     ]
    }
   ],
   "source": [
    "batta = 'gheu'\n",
    "print(batta)"
   ]
  },
  {
   "cell_type": "code",
   "execution_count": 4,
   "id": "767c3c0f-76ee-4d44-a262-e072a5960bd0",
   "metadata": {},
   "outputs": [
    {
     "name": "stdout",
     "output_type": "stream",
     "text": [
      "30\n"
     ]
    }
   ],
   "source": [
    "weight = 25\n",
    "weight = weight + 5\n",
    "print(weight)"
   ]
  },
  {
   "cell_type": "markdown",
   "id": "4be4c915-d740-48c5-973c-6c755486ae76",
   "metadata": {},
   "source": [
    "# Assigning multiple values to multiple variable"
   ]
  },
  {
   "cell_type": "code",
   "execution_count": 5,
   "id": "ef8bcde3-e7f1-4a41-9ab7-89bbd6d7d7a1",
   "metadata": {},
   "outputs": [],
   "source": [
    "a = 5 # intreger\n",
    "b = 0.3 # float\n",
    "c = 9 + 0.7j # complex"
   ]
  },
  {
   "cell_type": "code",
   "execution_count": 6,
   "id": "1e85a208-3a7d-4f22-a9dd-14db6809641f",
   "metadata": {},
   "outputs": [],
   "source": [
    "a, b, c = 5, 0.3, 9 + 0.7j"
   ]
  },
  {
   "cell_type": "code",
   "execution_count": 7,
   "id": "15a06f7a-e1c5-4c09-ab50-4af2d5677adb",
   "metadata": {},
   "outputs": [
    {
     "data": {
      "text/plain": [
       "5"
      ]
     },
     "execution_count": 7,
     "metadata": {},
     "output_type": "execute_result"
    }
   ],
   "source": [
    "a"
   ]
  },
  {
   "cell_type": "code",
   "execution_count": 8,
   "id": "742073d0-faac-4b61-b8ec-4b268ddd025b",
   "metadata": {},
   "outputs": [
    {
     "data": {
      "text/plain": [
       "0.3"
      ]
     },
     "execution_count": 8,
     "metadata": {},
     "output_type": "execute_result"
    }
   ],
   "source": [
    "b"
   ]
  },
  {
   "cell_type": "code",
   "execution_count": 9,
   "id": "45668013-c9dd-420a-914b-686af695ec94",
   "metadata": {},
   "outputs": [
    {
     "data": {
      "text/plain": [
       "(9+0.7j)"
      ]
     },
     "execution_count": 9,
     "metadata": {},
     "output_type": "execute_result"
    }
   ],
   "source": [
    "c"
   ]
  },
  {
   "cell_type": "markdown",
   "id": "f5cedeac-08de-4d25-bd27-46d390f3b0cb",
   "metadata": {},
   "source": [
    "# swap two numbers"
   ]
  },
  {
   "cell_type": "code",
   "execution_count": 10,
   "id": "1bb509f3-22e7-40f5-9392-259a3d6851b6",
   "metadata": {},
   "outputs": [],
   "source": [
    "a = 0.3\n",
    "b = 0.65"
   ]
  },
  {
   "cell_type": "code",
   "execution_count": 11,
   "id": "86f4f2bf-488e-42b6-bc61-1067ab0fbcb1",
   "metadata": {},
   "outputs": [],
   "source": [
    "a, b = b, a"
   ]
  },
  {
   "cell_type": "code",
   "execution_count": 12,
   "id": "5e1483a0-796f-446b-9bcf-9c3d94546d17",
   "metadata": {},
   "outputs": [
    {
     "data": {
      "text/plain": [
       "0.65"
      ]
     },
     "execution_count": 12,
     "metadata": {},
     "output_type": "execute_result"
    }
   ],
   "source": [
    "a"
   ]
  },
  {
   "cell_type": "code",
   "execution_count": 13,
   "id": "4bccd604-4d69-49ce-bfe7-2f8571062ebb",
   "metadata": {},
   "outputs": [
    {
     "data": {
      "text/plain": [
       "0.3"
      ]
     },
     "execution_count": 13,
     "metadata": {},
     "output_type": "execute_result"
    }
   ],
   "source": [
    "b"
   ]
  },
  {
   "cell_type": "code",
   "execution_count": 14,
   "id": "e3e1ef30-68f2-462c-9a59-5bbd6bf85451",
   "metadata": {},
   "outputs": [],
   "source": [
    "a = 0.3\n",
    "b = 0.65"
   ]
  },
  {
   "cell_type": "code",
   "execution_count": 17,
   "id": "3d2d0cc3-0a8d-4a15-a88c-c8c91af2cc91",
   "metadata": {},
   "outputs": [],
   "source": [
    "a = b"
   ]
  },
  {
   "cell_type": "code",
   "execution_count": 21,
   "id": "d1414891-0041-4642-aa29-caf0009fab91",
   "metadata": {},
   "outputs": [
    {
     "data": {
      "text/plain": [
       "0.3"
      ]
     },
     "execution_count": 21,
     "metadata": {},
     "output_type": "execute_result"
    }
   ],
   "source": [
    "b"
   ]
  },
  {
   "cell_type": "code",
   "execution_count": 22,
   "id": "e3b258af-dc0e-4945-a8b5-07180e811043",
   "metadata": {},
   "outputs": [
    {
     "data": {
      "text/plain": [
       "0.3"
      ]
     },
     "execution_count": 22,
     "metadata": {},
     "output_type": "execute_result"
    }
   ],
   "source": [
    "b"
   ]
  },
  {
   "cell_type": "code",
   "execution_count": 25,
   "id": "8ab41322-fd81-4c0e-ae24-fd49815fec96",
   "metadata": {},
   "outputs": [],
   "source": [
    "a = 0.3\n",
    "b = 0.65"
   ]
  },
  {
   "cell_type": "code",
   "execution_count": 26,
   "id": "513da14c-f3be-4c0b-8f53-755eb07b8877",
   "metadata": {},
   "outputs": [],
   "source": [
    "temp = a\n",
    "a = b\n",
    "b = temp"
   ]
  },
  {
   "cell_type": "code",
   "execution_count": 27,
   "id": "4d5d2af6-7cd8-44bd-b38b-d06ddee805fd",
   "metadata": {},
   "outputs": [
    {
     "data": {
      "text/plain": [
       "0.65"
      ]
     },
     "execution_count": 27,
     "metadata": {},
     "output_type": "execute_result"
    }
   ],
   "source": [
    "a"
   ]
  },
  {
   "cell_type": "code",
   "execution_count": 28,
   "id": "98dba2e5-449b-4166-bfe2-94a781a9a2eb",
   "metadata": {},
   "outputs": [
    {
     "data": {
      "text/plain": [
       "0.3"
      ]
     },
     "execution_count": 28,
     "metadata": {},
     "output_type": "execute_result"
    }
   ],
   "source": [
    "b"
   ]
  },
  {
   "cell_type": "markdown",
   "id": "70a16885-7404-4265-80d3-6f95c857654c",
   "metadata": {},
   "source": [
    "# f- string"
   ]
  },
  {
   "cell_type": "code",
   "execution_count": 29,
   "id": "720cdc45-43c3-42a6-a7f0-e413fda114a8",
   "metadata": {},
   "outputs": [
    {
     "name": "stdout",
     "output_type": "stream",
     "text": [
      "I study python at broadway\n"
     ]
    }
   ],
   "source": [
    "subject = 'python'\n",
    "institute = 'broadway'\n",
    "print(\"I study python at broadway\")"
   ]
  },
  {
   "cell_type": "code",
   "execution_count": 31,
   "id": "088d2508-1540-427a-a891-414027fe022d",
   "metadata": {},
   "outputs": [
    {
     "name": "stdout",
     "output_type": "stream",
     "text": [
      "I study python at broadway\n"
     ]
    }
   ],
   "source": [
    "subject = 'python'\n",
    "institute = 'broadway'\n",
    "print(f\"I study {subject} at {institute}\")"
   ]
  },
  {
   "cell_type": "code",
   "execution_count": 34,
   "id": "79d76358-70fe-4042-beb3-08e0589badf2",
   "metadata": {},
   "outputs": [
    {
     "name": "stdout",
     "output_type": "stream",
     "text": [
      "my name is suresh and I live at kapan\n"
     ]
    }
   ],
   "source": [
    "Name = 'suresh'\n",
    "location = 'kapan'\n",
    "print(f'my name is {Name} and I live at {location}')"
   ]
  },
  {
   "cell_type": "code",
   "execution_count": null,
   "id": "81999a3f-21f3-4e0e-8000-d8ba5301af5a",
   "metadata": {},
   "outputs": [],
   "source": []
  }
 ],
 "metadata": {
  "kernelspec": {
   "display_name": "Python 3 (ipykernel)",
   "language": "python",
   "name": "python3"
  },
  "language_info": {
   "codemirror_mode": {
    "name": "ipython",
    "version": 3
   },
   "file_extension": ".py",
   "mimetype": "text/x-python",
   "name": "python",
   "nbconvert_exporter": "python",
   "pygments_lexer": "ipython3",
   "version": "3.12.1"
  }
 },
 "nbformat": 4,
 "nbformat_minor": 5
}
