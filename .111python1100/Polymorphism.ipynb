{
 "cells": [
  {
   "cell_type": "code",
   "execution_count": 1,
   "id": "21b1d8d5-908f-4b4e-a396-366276262fa8",
   "metadata": {},
   "outputs": [
    {
     "data": {
      "text/plain": [
       "4"
      ]
     },
     "execution_count": 1,
     "metadata": {},
     "output_type": "execute_result"
    }
   ],
   "source": [
    "2 + 2"
   ]
  },
  {
   "cell_type": "code",
   "execution_count": 2,
   "id": "758d6912-4794-420d-a84f-925da6d11be3",
   "metadata": {},
   "outputs": [
    {
     "data": {
      "text/plain": [
       "'RadheRadhe'"
      ]
     },
     "execution_count": 2,
     "metadata": {},
     "output_type": "execute_result"
    }
   ],
   "source": [
    "'Radhe' + 'Radhe'"
   ]
  },
  {
   "cell_type": "code",
   "execution_count": 3,
   "id": "727bed32-e5fd-4275-a1eb-cb1ff05b5d4d",
   "metadata": {},
   "outputs": [
    {
     "data": {
      "text/plain": [
       "5"
      ]
     },
     "execution_count": 3,
     "metadata": {},
     "output_type": "execute_result"
    }
   ],
   "source": [
    "len('hello')"
   ]
  },
  {
   "cell_type": "code",
   "execution_count": 6,
   "id": "10b89ac7-3a83-4016-b0cf-409ab82e6ce2",
   "metadata": {},
   "outputs": [
    {
     "data": {
      "text/plain": [
       "2"
      ]
     },
     "execution_count": 6,
     "metadata": {},
     "output_type": "execute_result"
    }
   ],
   "source": [
    "len([5, 2])"
   ]
  },
  {
   "cell_type": "code",
   "execution_count": 12,
   "id": "99728037-da63-4dd0-925a-eaf58f9edff0",
   "metadata": {},
   "outputs": [],
   "source": [
    "# operator overloading is an example of polymorphism and donders"
   ]
  },
  {
   "cell_type": "code",
   "execution_count": 8,
   "id": "f609614c-7663-4db2-8dda-630cc45657bd",
   "metadata": {},
   "outputs": [],
   "source": [
    "class Point:\n",
    "    def __init__(self, p):\n",
    "        self.p = p"
   ]
  },
  {
   "cell_type": "code",
   "execution_count": 9,
   "id": "1e2c978a-695f-426c-83dd-3efeb4547eff",
   "metadata": {},
   "outputs": [],
   "source": [
    "p1 = Point (p=5)\n",
    "p2 = Point (p=9)"
   ]
  },
  {
   "cell_type": "code",
   "execution_count": 10,
   "id": "4f850427-9f40-43a5-8adb-07e893482970",
   "metadata": {},
   "outputs": [
    {
     "data": {
      "text/plain": [
       "(__main__.Point, __main__.Point)"
      ]
     },
     "execution_count": 10,
     "metadata": {},
     "output_type": "execute_result"
    }
   ],
   "source": [
    "type(p1), type(p2)"
   ]
  },
  {
   "cell_type": "code",
   "execution_count": 11,
   "id": "eee3a4fc-1d48-4f35-b1ac-0afa98203cfd",
   "metadata": {},
   "outputs": [
    {
     "ename": "TypeError",
     "evalue": "unsupported operand type(s) for +: 'Point' and 'Point'",
     "output_type": "error",
     "traceback": [
      "\u001b[1;31m---------------------------------------------------------------------------\u001b[0m",
      "\u001b[1;31mTypeError\u001b[0m                                 Traceback (most recent call last)",
      "Cell \u001b[1;32mIn[11], line 1\u001b[0m\n\u001b[1;32m----> 1\u001b[0m \u001b[43mp1\u001b[49m\u001b[43m \u001b[49m\u001b[38;5;241;43m+\u001b[39;49m\u001b[43m \u001b[49m\u001b[43mp2\u001b[49m \u001b[38;5;66;03m# P1 and P2 are user defined class ko object ho. yo object ma \"+\" ko kaam k ho bhanera define gareko chaina\u001b[39;00m\n",
      "\u001b[1;31mTypeError\u001b[0m: unsupported operand type(s) for +: 'Point' and 'Point'"
     ]
    }
   ],
   "source": [
    "p1 + p2 # P1 and P2 are user defined class ko object ho. yo object ma \"+\" ko kaam k ho bhanera define gareko chaina"
   ]
  },
  {
   "cell_type": "code",
   "execution_count": 14,
   "id": "1ee44d09-4d7d-4d57-8ae2-2ebb5d815020",
   "metadata": {},
   "outputs": [],
   "source": [
    "class Point:\n",
    "    def __init__(self, p):\n",
    "        self.p = p\n",
    "        \n",
    "    def __add__(self, other_obj):\n",
    "        return self.p + other_obj.p            "
   ]
  },
  {
   "cell_type": "code",
   "execution_count": 15,
   "id": "90355835-ed89-4a6e-9137-b4478267efcb",
   "metadata": {},
   "outputs": [
    {
     "data": {
      "text/plain": [
       "14"
      ]
     },
     "execution_count": 15,
     "metadata": {},
     "output_type": "execute_result"
    }
   ],
   "source": [
    "p1 = Point(p=5)\n",
    "p2 = Point(p=9)\n",
    "p1+p2"
   ]
  },
  {
   "cell_type": "code",
   "execution_count": 23,
   "id": "6fec2c80-9c9d-47ff-a209-35e1f02eae16",
   "metadata": {},
   "outputs": [],
   "source": [
    "class Point:\n",
    "    def __init__(self, p):\n",
    "        self.p = p\n",
    "        \n",
    "    def __add__(self, other_obj):\n",
    "        return self.p + other_obj.p  \n",
    "\n",
    "    def __lt__(self, other_obj):\n",
    "        return self.p < other_obj.p\n",
    "\n",
    "    def __gt__(self, other_obj):\n",
    "        return self.p > other_obj.p\n",
    "\n",
    "    def __str__(self):\n",
    "        return(f'point= {self.p}')"
   ]
  },
  {
   "cell_type": "code",
   "execution_count": 24,
   "id": "d1285351-c0c9-4638-a660-0ce7c72e7252",
   "metadata": {},
   "outputs": [
    {
     "data": {
      "text/plain": [
       "True"
      ]
     },
     "execution_count": 24,
     "metadata": {},
     "output_type": "execute_result"
    }
   ],
   "source": [
    "p1 = Point(p=5)\n",
    "p2 = Point(p=9)\n",
    "p1<p2"
   ]
  },
  {
   "cell_type": "code",
   "execution_count": 25,
   "id": "9360e2ca-1da2-4c65-b1cd-168b8e3eac1a",
   "metadata": {},
   "outputs": [
    {
     "data": {
      "text/plain": [
       "False"
      ]
     },
     "execution_count": 25,
     "metadata": {},
     "output_type": "execute_result"
    }
   ],
   "source": [
    "p1>p2"
   ]
  },
  {
   "cell_type": "code",
   "execution_count": 26,
   "id": "bc46ee66-2443-4ef3-be9e-276c4e427da7",
   "metadata": {},
   "outputs": [
    {
     "data": {
      "text/plain": [
       "14"
      ]
     },
     "execution_count": 26,
     "metadata": {},
     "output_type": "execute_result"
    }
   ],
   "source": [
    "p1+p2"
   ]
  },
  {
   "cell_type": "code",
   "execution_count": 27,
   "id": "2b4e5688-eb9b-4c06-a712-bfc06642c393",
   "metadata": {},
   "outputs": [
    {
     "name": "stdout",
     "output_type": "stream",
     "text": [
      "point= 5\n"
     ]
    }
   ],
   "source": [
    "print(p1)"
   ]
  },
  {
   "cell_type": "code",
   "execution_count": null,
   "id": "fb21cbaa-6bc3-4e45-b085-d4300eab4ec4",
   "metadata": {},
   "outputs": [],
   "source": []
  }
 ],
 "metadata": {
  "kernelspec": {
   "display_name": "Python 3 (ipykernel)",
   "language": "python",
   "name": "python3"
  },
  "language_info": {
   "codemirror_mode": {
    "name": "ipython",
    "version": 3
   },
   "file_extension": ".py",
   "mimetype": "text/x-python",
   "name": "python",
   "nbconvert_exporter": "python",
   "pygments_lexer": "ipython3",
   "version": "3.12.1"
  }
 },
 "nbformat": 4,
 "nbformat_minor": 5
}
