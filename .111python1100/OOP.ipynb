{
 "cells": [
  {
   "cell_type": "markdown",
   "id": "3f9c51db-9d20-492a-9124-67daef9603c0",
   "metadata": {},
   "source": [
    "# OOP (Object Oriented Programming)"
   ]
  },
  {
   "cell_type": "markdown",
   "id": "3f741edb-32d9-43a4-b019-d944e6043597",
   "metadata": {},
   "source": [
    "# features of OOP :\n",
    "- object\n",
    "- class\n",
    "- inheritance\n",
    "- polymorphism\n",
    "- abstraction\n",
    "- encapsulation"
   ]
  },
  {
   "cell_type": "code",
   "execution_count": 4,
   "id": "845ad7e7-1dcc-4522-b2d4-20801bae18c6",
   "metadata": {},
   "outputs": [],
   "source": [
    "# Creating an empty class\n",
    "class Mammal:\n",
    "    pass"
   ]
  },
  {
   "cell_type": "code",
   "execution_count": 5,
   "id": "6a3cd851-6b17-4d74-bf98-4f0a6c14e921",
   "metadata": {},
   "outputs": [],
   "source": [
    "# Creating object using class:"
   ]
  },
  {
   "cell_type": "code",
   "execution_count": 7,
   "id": "72a034bd-bdaa-4b9b-bc90-629bf16fef26",
   "metadata": {},
   "outputs": [],
   "source": [
    "human = Mammal() # creates an object human from mammal class"
   ]
  },
  {
   "cell_type": "code",
   "execution_count": 9,
   "id": "1396e65b-495a-4aaa-b4e9-73b32396bf62",
   "metadata": {},
   "outputs": [
    {
     "name": "stdout",
     "output_type": "stream",
     "text": [
      "<class '__main__.Mammal'>\n"
     ]
    }
   ],
   "source": [
    "print(type(human))"
   ]
  },
  {
   "cell_type": "code",
   "execution_count": 11,
   "id": "5c4671b3-a78e-4603-a56a-dd292122ec57",
   "metadata": {},
   "outputs": [
    {
     "name": "stdout",
     "output_type": "stream",
     "text": [
      "<class '__main__.Mammal'>\n"
     ]
    }
   ],
   "source": [
    "cow = Mammal() # creates an object cow from mammal class\n",
    "print(type(cow))"
   ]
  },
  {
   "cell_type": "code",
   "execution_count": 13,
   "id": "7b3902e5-6406-4dfe-918c-8a082640c2be",
   "metadata": {},
   "outputs": [],
   "source": [
    "# class is a blueprint to create an object."
   ]
  },
  {
   "cell_type": "markdown",
   "id": "43960b50-eb1c-4206-b4c4-4d9608db4198",
   "metadata": {},
   "source": [
    "# objects are real world entity\n",
    "# Object is an instance of a class"
   ]
  },
  {
   "cell_type": "code",
   "execution_count": 2,
   "id": "cc75c495-1029-4eae-9636-1e7331e2e8a7",
   "metadata": {},
   "outputs": [],
   "source": [
    "class Person:\n",
    "    pass"
   ]
  },
  {
   "cell_type": "code",
   "execution_count": 3,
   "id": "1a569126-5996-4ecc-a7d1-36c50e35b757",
   "metadata": {},
   "outputs": [
    {
     "name": "stdout",
     "output_type": "stream",
     "text": [
      "<class '__main__.Person'> <class '__main__.Person'>\n"
     ]
    }
   ],
   "source": [
    "p1 = Person()\n",
    "p2 = Person()\n",
    "print(type(p1),type(p2))"
   ]
  },
  {
   "cell_type": "code",
   "execution_count": 5,
   "id": "91699478-9b95-4c17-880c-2735c444cf1b",
   "metadata": {},
   "outputs": [],
   "source": [
    "class Person:\n",
    "    pass"
   ]
  },
  {
   "cell_type": "code",
   "execution_count": 6,
   "id": "7790e397-c52a-4e46-b11f-aed645ac4b17",
   "metadata": {},
   "outputs": [
    {
     "name": "stdout",
     "output_type": "stream",
     "text": [
      "<class '__main__.Person'> <class '__main__.Person'>\n"
     ]
    }
   ],
   "source": [
    "if __name__ == \"__main__\":\n",
    "    p1 = Person()\n",
    "    p2 = Person()\n",
    "    print(type(p1), type(p2))"
   ]
  },
  {
   "cell_type": "code",
   "execution_count": 8,
   "id": "f7a7f958-47d1-4e40-8a9f-8435e41c050c",
   "metadata": {},
   "outputs": [],
   "source": [
    "# double underscore ( at beginning and last) __ are donders in python"
   ]
  },
  {
   "cell_type": "markdown",
   "id": "8c5942e4-c281-4460-a5c5-1047183abf2c",
   "metadata": {},
   "source": [
    "# Class attribute Vs Object attribute"
   ]
  },
  {
   "cell_type": "markdown",
   "id": "44b68d40-3329-493e-8256-6b8ab98909ff",
   "metadata": {},
   "source": [
    "# Class Attribute:"
   ]
  },
  {
   "cell_type": "code",
   "execution_count": 9,
   "id": "e783e1a4-a94f-4e5d-9655-3e0a940eedcb",
   "metadata": {},
   "outputs": [],
   "source": [
    "class Mammal:\n",
    "    has_hair = True # Class attribute"
   ]
  },
  {
   "cell_type": "code",
   "execution_count": 11,
   "id": "c707785c-8f26-44db-8951-865072d0fd8c",
   "metadata": {},
   "outputs": [],
   "source": [
    "human = Mammal()\n",
    "cow = Mammal()"
   ]
  },
  {
   "cell_type": "code",
   "execution_count": 12,
   "id": "c6f83500-416f-445b-9e60-577a11e4dd32",
   "metadata": {},
   "outputs": [
    {
     "data": {
      "text/plain": [
       "True"
      ]
     },
     "execution_count": 12,
     "metadata": {},
     "output_type": "execute_result"
    }
   ],
   "source": [
    "human.has_hair"
   ]
  },
  {
   "cell_type": "code",
   "execution_count": 13,
   "id": "953eb7b8-85ed-4b29-93ec-b2d0a862d28e",
   "metadata": {},
   "outputs": [
    {
     "data": {
      "text/plain": [
       "True"
      ]
     },
     "execution_count": 13,
     "metadata": {},
     "output_type": "execute_result"
    }
   ],
   "source": [
    "cow.has_hair"
   ]
  },
  {
   "cell_type": "code",
   "execution_count": 14,
   "id": "e7a291eb-3332-4168-a8f5-fc9ad6be9a02",
   "metadata": {},
   "outputs": [],
   "source": [
    "# class attribute is same for all the objects"
   ]
  },
  {
   "cell_type": "markdown",
   "id": "b6eb362a-2a37-4e0d-b341-1611dda24ff4",
   "metadata": {},
   "source": [
    "# Object Attribute:"
   ]
  },
  {
   "cell_type": "code",
   "execution_count": 18,
   "id": "1baa5500-952b-47f8-ad2f-146319531299",
   "metadata": {},
   "outputs": [],
   "source": [
    "class Mammal:\n",
    "    def __init__(self, no_of_legs):  # __init__ initializrs object attribute\n",
    "        self.no_of_legs = no_of_legs"
   ]
  },
  {
   "cell_type": "code",
   "execution_count": 19,
   "id": "474fb6b6-754d-433d-95e3-b549e4ae6e32",
   "metadata": {},
   "outputs": [
    {
     "ename": "TypeError",
     "evalue": "Mammal.__init__() missing 1 required positional argument: 'no_of_legs'",
     "output_type": "error",
     "traceback": [
      "\u001b[1;31m---------------------------------------------------------------------------\u001b[0m",
      "\u001b[1;31mTypeError\u001b[0m                                 Traceback (most recent call last)",
      "Cell \u001b[1;32mIn[19], line 1\u001b[0m\n\u001b[1;32m----> 1\u001b[0m human \u001b[38;5;241m=\u001b[39m \u001b[43mMammal\u001b[49m\u001b[43m(\u001b[49m\u001b[43m)\u001b[49m\n",
      "\u001b[1;31mTypeError\u001b[0m: Mammal.__init__() missing 1 required positional argument: 'no_of_legs'"
     ]
    }
   ],
   "source": [
    "human = Mammal()"
   ]
  },
  {
   "cell_type": "code",
   "execution_count": 20,
   "id": "538bc9fb-90c7-4b48-a478-1cadf12de710",
   "metadata": {},
   "outputs": [],
   "source": [
    "human = Mammal(no_of_legs = 2)"
   ]
  },
  {
   "cell_type": "code",
   "execution_count": 21,
   "id": "44e55fd9-e04f-413b-b3f9-ac46715125e2",
   "metadata": {},
   "outputs": [
    {
     "data": {
      "text/plain": [
       "2"
      ]
     },
     "execution_count": 21,
     "metadata": {},
     "output_type": "execute_result"
    }
   ],
   "source": [
    "human.no_of_legs"
   ]
  },
  {
   "cell_type": "code",
   "execution_count": 22,
   "id": "078aa357-1830-4b72-870a-f498a6b8d5dd",
   "metadata": {},
   "outputs": [],
   "source": [
    "dog = Mammal(no_of_legs= 4)"
   ]
  },
  {
   "cell_type": "code",
   "execution_count": 23,
   "id": "29cf037d-9ebf-42fe-ab69-ef834b78debe",
   "metadata": {},
   "outputs": [
    {
     "data": {
      "text/plain": [
       "4"
      ]
     },
     "execution_count": 23,
     "metadata": {},
     "output_type": "execute_result"
    }
   ],
   "source": [
    "dog.no_of_legs"
   ]
  },
  {
   "cell_type": "code",
   "execution_count": 32,
   "id": "bc674d6f-d941-42bd-bbaf-e6ef3cf98e19",
   "metadata": {},
   "outputs": [],
   "source": [
    "class person:\n",
    "    def __init__(self):\n",
    "        print(type(self)) # self is an object of a person"
   ]
  },
  {
   "cell_type": "code",
   "execution_count": 33,
   "id": "90272926-c6d6-4505-90dc-1aea00560ebb",
   "metadata": {},
   "outputs": [
    {
     "name": "stdout",
     "output_type": "stream",
     "text": [
      "<class '__main__.Person'>\n"
     ]
    }
   ],
   "source": [
    "p1 = Person()\n",
    "print(type(p1))"
   ]
  },
  {
   "cell_type": "markdown",
   "id": "409b3afb-b1cd-4e3f-b364-649e5849f8f6",
   "metadata": {},
   "source": [
    "# Constructor:"
   ]
  },
  {
   "cell_type": "code",
   "execution_count": 36,
   "id": "0f8f2c14-3686-49eb-855a-9e0a4fa8dbfa",
   "metadata": {},
   "outputs": [],
   "source": [
    "# Constructor is used to create an object\n",
    "# __init__ is not an constructor in python becasue self is pased as an arhgument.\n",
    "# object is created by __new__() in python. __new__ is a consttuctor\n",
    "# __init__ is a object attribute initializer\n",
    "# __init__ can only return none"
   ]
  },
  {
   "cell_type": "code",
   "execution_count": 38,
   "id": "d2a82793-7a01-479e-b2bc-1bc8c3f1c1b0",
   "metadata": {},
   "outputs": [],
   "source": [
    "class Person:\n",
    "    def __init__(self):\n",
    "        return 5"
   ]
  },
  {
   "cell_type": "code",
   "execution_count": 39,
   "id": "ce461d95-a640-45ba-9a01-0f90c8cb21f4",
   "metadata": {},
   "outputs": [
    {
     "ename": "TypeError",
     "evalue": "__init__() should return None, not 'int'",
     "output_type": "error",
     "traceback": [
      "\u001b[1;31m---------------------------------------------------------------------------\u001b[0m",
      "\u001b[1;31mTypeError\u001b[0m                                 Traceback (most recent call last)",
      "Cell \u001b[1;32mIn[39], line 1\u001b[0m\n\u001b[1;32m----> 1\u001b[0m p1 \u001b[38;5;241m=\u001b[39m \u001b[43mPerson\u001b[49m\u001b[43m(\u001b[49m\u001b[43m)\u001b[49m\n",
      "\u001b[1;31mTypeError\u001b[0m: __init__() should return None, not 'int'"
     ]
    }
   ],
   "source": [
    "p1 = Person()"
   ]
  },
  {
   "cell_type": "code",
   "execution_count": 44,
   "id": "368ebc20-ab11-4ac0-b5de-36914210825a",
   "metadata": {},
   "outputs": [],
   "source": [
    "class Rectangle:\n",
    "    def __init__(self, l, b):\n",
    "        self.l = l\n",
    "        self.b = b\n",
    "        \n",
    "    def area(self):\n",
    "        return self.l * self.b\n",
    "\n",
    "    def perimeter(self):\n",
    "        return 2 * (self.l + self.b)"
   ]
  },
  {
   "cell_type": "code",
   "execution_count": 46,
   "id": "d2178e38-aa8b-4266-9151-958928f0c742",
   "metadata": {},
   "outputs": [
    {
     "data": {
      "text/plain": [
       "6"
      ]
     },
     "execution_count": 46,
     "metadata": {},
     "output_type": "execute_result"
    }
   ],
   "source": [
    "r1 = Rectangle (l = 2, b = 3)\n",
    "r1.area()"
   ]
  },
  {
   "cell_type": "code",
   "execution_count": 48,
   "id": "40d9da57-0c54-45e1-b33d-5de12f1f41ab",
   "metadata": {},
   "outputs": [
    {
     "data": {
      "text/plain": [
       "45"
      ]
     },
     "execution_count": 48,
     "metadata": {},
     "output_type": "execute_result"
    }
   ],
   "source": [
    "r2 = Rectangle (l = 5, b = 9)\n",
    "r2.area()"
   ]
  },
  {
   "cell_type": "code",
   "execution_count": 49,
   "id": "b421e5b4-aaa3-4646-8071-f0d9a7816006",
   "metadata": {},
   "outputs": [
    {
     "data": {
      "text/plain": [
       "28"
      ]
     },
     "execution_count": 49,
     "metadata": {},
     "output_type": "execute_result"
    }
   ],
   "source": [
    "r2.perimeter()"
   ]
  },
  {
   "cell_type": "code",
   "execution_count": 50,
   "id": "1fe2a5b2-57d6-41be-a96b-f4ce104131c2",
   "metadata": {},
   "outputs": [
    {
     "data": {
      "text/plain": [
       "10"
      ]
     },
     "execution_count": 50,
     "metadata": {},
     "output_type": "execute_result"
    }
   ],
   "source": [
    "r1.perimeter()"
   ]
  },
  {
   "cell_type": "code",
   "execution_count": 51,
   "id": "e7a91195-a8de-42f8-b1a5-0414bd66476d",
   "metadata": {},
   "outputs": [],
   "source": [
    "# Area of Circle"
   ]
  },
  {
   "cell_type": "code",
   "execution_count": 55,
   "id": "3b3d86c9-6b2e-4c42-af08-38f3c1bf6c56",
   "metadata": {},
   "outputs": [],
   "source": [
    "import math\n",
    "class Circle:\n",
    "    def __init__(self,r):\n",
    "        self.r = r\n",
    "        \n",
    "    def area(self):\n",
    "        return math.pi* self.r**2"
   ]
  },
  {
   "cell_type": "code",
   "execution_count": 57,
   "id": "497216fe-e877-49a8-8e1c-28d90551075e",
   "metadata": {},
   "outputs": [],
   "source": [
    "c1 = Circle(r= 5)"
   ]
  },
  {
   "cell_type": "code",
   "execution_count": 64,
   "id": "5eb62232-d82f-4fa1-a7d8-28f9dffb8bf6",
   "metadata": {},
   "outputs": [
    {
     "data": {
      "text/plain": [
       "78.54"
      ]
     },
     "execution_count": 64,
     "metadata": {},
     "output_type": "execute_result"
    }
   ],
   "source": [
    "round(c1.area(),2)"
   ]
  },
  {
   "cell_type": "code",
   "execution_count": null,
   "id": "11241977-4463-4831-afc8-32f1a18ff74e",
   "metadata": {},
   "outputs": [],
   "source": []
  }
 ],
 "metadata": {
  "kernelspec": {
   "display_name": "Python 3 (ipykernel)",
   "language": "python",
   "name": "python3"
  },
  "language_info": {
   "codemirror_mode": {
    "name": "ipython",
    "version": 3
   },
   "file_extension": ".py",
   "mimetype": "text/x-python",
   "name": "python",
   "nbconvert_exporter": "python",
   "pygments_lexer": "ipython3",
   "version": "3.12.1"
  }
 },
 "nbformat": 4,
 "nbformat_minor": 5
}
