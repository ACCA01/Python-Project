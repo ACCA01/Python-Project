{
 "cells": [
  {
   "cell_type": "markdown",
   "metadata": {
    "id": "WLF5V2HMIltD"
   },
   "source": [
    "# we open the file\n",
    "\n",
    "```python\n",
    "open(filename, mode)\n",
    "```\n",
    "\n",
    "mode:\n",
    "* read: `r`\n",
    "* write: `w`\n",
    "* append: `a`\n",
    "* create: `x`"
   ]
  },
  {
   "cell_type": "code",
   "execution_count": null,
   "metadata": {
    "colab": {
     "base_uri": "https://localhost:8080/",
     "height": 177
    },
    "executionInfo": {
     "elapsed": 6,
     "status": "error",
     "timestamp": 1706681507253,
     "user": {
      "displayName": "Kshitiz Regmi",
      "userId": "14206467826921940229"
     },
     "user_tz": -345
    },
    "id": "eFpbuSYGIq0K",
    "outputId": "d3637e7c-44eb-48a3-8d41-6df713d06a2b"
   },
   "outputs": [
    {
     "ename": "FileNotFoundError",
     "evalue": "[Errno 2] No such file or directory: 'student.txt'",
     "output_type": "error",
     "traceback": [
      "\u001b[0;31m---------------------------------------------------------------------------\u001b[0m",
      "\u001b[0;31mFileNotFoundError\u001b[0m                         Traceback (most recent call last)",
      "\u001b[0;32m<ipython-input-1-6f3126c635ed>\u001b[0m in \u001b[0;36m<cell line: 1>\u001b[0;34m()\u001b[0m\n\u001b[0;32m----> 1\u001b[0;31m \u001b[0mfile\u001b[0m \u001b[0;34m=\u001b[0m \u001b[0mopen\u001b[0m\u001b[0;34m(\u001b[0m\u001b[0;34m'student.txt'\u001b[0m\u001b[0;34m,\u001b[0m \u001b[0;34m'r'\u001b[0m\u001b[0;34m)\u001b[0m\u001b[0;34m\u001b[0m\u001b[0;34m\u001b[0m\u001b[0m\n\u001b[0m",
      "\u001b[0;31mFileNotFoundError\u001b[0m: [Errno 2] No such file or directory: 'student.txt'"
     ]
    }
   ],
   "source": [
    "file = open('student.txt', 'r')"
   ]
  },
  {
   "cell_type": "code",
   "execution_count": null,
   "metadata": {
    "id": "9sAFWG0_N0ES"
   },
   "outputs": [],
   "source": [
    "try:\n",
    "    file = open('student.txt', 'r')\n",
    "except:\n",
    "    pass"
   ]
  },
  {
   "cell_type": "code",
   "execution_count": null,
   "metadata": {
    "colab": {
     "base_uri": "https://localhost:8080/"
    },
    "executionInfo": {
     "elapsed": 4,
     "status": "ok",
     "timestamp": 1706681577698,
     "user": {
      "displayName": "Kshitiz Regmi",
      "userId": "14206467826921940229"
     },
     "user_tz": -345
    },
    "id": "L7Cu9fp2JPQO",
    "outputId": "a4ca817a-40c2-40a2-c68c-9b790d6caca0"
   },
   "outputs": [
    {
     "name": "stdout",
     "output_type": "stream",
     "text": [
      "[Errno 2] No such file or directory: 'student.txt'\n"
     ]
    }
   ],
   "source": [
    "try:\n",
    "    file = open('student.txt', 'r')\n",
    "except FileNotFoundError as e:\n",
    "    print(e)"
   ]
  },
  {
   "cell_type": "code",
   "execution_count": 1,
   "metadata": {
    "executionInfo": {
     "elapsed": 5,
     "status": "ok",
     "timestamp": 1706766675757,
     "user": {
      "displayName": "Kshitiz Regmi",
      "userId": "14206467826921940229"
     },
     "user_tz": -345
    },
    "id": "2jbndtK3Jivu"
   },
   "outputs": [],
   "source": [
    "!touch name.txt"
   ]
  },
  {
   "cell_type": "markdown",
   "metadata": {
    "id": "4oJ4DA1cLrXP"
   },
   "source": [
    "# Read"
   ]
  },
  {
   "cell_type": "code",
   "execution_count": null,
   "metadata": {
    "colab": {
     "base_uri": "https://localhost:8080/"
    },
    "executionInfo": {
     "elapsed": 5,
     "status": "ok",
     "timestamp": 1706682407469,
     "user": {
      "displayName": "Kshitiz Regmi",
      "userId": "14206467826921940229"
     },
     "user_tz": -345
    },
    "id": "dE80d9qyKQ21",
    "outputId": "08fb2154-f0db-4371-8bfa-6c5f88d3551c"
   },
   "outputs": [
    {
     "name": "stdout",
     "output_type": "stream",
     "text": [
      "Abhinay\n",
      "Roji\n",
      "Rijul\n",
      "Yunish\n",
      "Naresh\n"
     ]
    }
   ],
   "source": [
    "file = open(\"name.txt\", 'r')\n",
    "text = file.read()\n",
    "file.close()\n",
    "print(text)"
   ]
  },
  {
   "cell_type": "code",
   "execution_count": 2,
   "metadata": {
    "colab": {
     "base_uri": "https://localhost:8080/"
    },
    "executionInfo": {
     "elapsed": 5,
     "status": "ok",
     "timestamp": 1706766808547,
     "user": {
      "displayName": "Kshitiz Regmi",
      "userId": "14206467826921940229"
     },
     "user_tz": -345
    },
    "id": "4h3Bjb7cMBbq",
    "outputId": "5cdcfc01-62e8-4056-8555-3f02446a4d7c"
   },
   "outputs": [
    {
     "name": "stdout",
     "output_type": "stream",
     "text": [
      "hello \n",
      "world\n"
     ]
    }
   ],
   "source": [
    "with open('name.txt', 'r') as file:\n",
    "    text = file.read()\n",
    "\n",
    "print(text)"
   ]
  },
  {
   "cell_type": "code",
   "execution_count": null,
   "metadata": {
    "colab": {
     "base_uri": "https://localhost:8080/"
    },
    "executionInfo": {
     "elapsed": 5,
     "status": "ok",
     "timestamp": 1706682663426,
     "user": {
      "displayName": "Kshitiz Regmi",
      "userId": "14206467826921940229"
     },
     "user_tz": -345
    },
    "id": "KIKHzSVANJa4",
    "outputId": "33c687e6-f5e9-4c17-eff5-b898bfca3486"
   },
   "outputs": [
    {
     "name": "stdout",
     "output_type": "stream",
     "text": [
      "['Abhinay\\n', 'Roji\\n', 'Rijul\\n', 'Yunish\\n', 'Naresh']\n"
     ]
    }
   ],
   "source": [
    "with open('name.txt', 'r') as file:\n",
    "    text = file.readlines()\n",
    "\n",
    "print(text)"
   ]
  },
  {
   "cell_type": "code",
   "execution_count": null,
   "metadata": {
    "colab": {
     "base_uri": "https://localhost:8080/"
    },
    "executionInfo": {
     "elapsed": 3,
     "status": "ok",
     "timestamp": 1706682704236,
     "user": {
      "displayName": "Kshitiz Regmi",
      "userId": "14206467826921940229"
     },
     "user_tz": -345
    },
    "id": "bqWGXSnKNrv1",
    "outputId": "56ba84cf-3814-496d-b289-3d91aa80ad9b"
   },
   "outputs": [
    {
     "name": "stdout",
     "output_type": "stream",
     "text": [
      "Abhinay\n",
      "\n"
     ]
    }
   ],
   "source": [
    "with open('name.txt', 'r') as file:\n",
    "    text = file.readline()\n",
    "\n",
    "print(text)"
   ]
  },
  {
   "cell_type": "code",
   "execution_count": null,
   "metadata": {
    "id": "Rmp59WxsOZd0"
   },
   "outputs": [],
   "source": []
  },
  {
   "cell_type": "markdown",
   "metadata": {
    "id": "kWtAff8-OZ8P"
   },
   "source": [
    "# write: \"w\"\n",
    "\n",
    "* write mode creates a file if it doesnot exist if it exist it creates a new one and old data is lost"
   ]
  },
  {
   "cell_type": "code",
   "execution_count": null,
   "metadata": {
    "id": "JEzHLJQGN1no"
   },
   "outputs": [],
   "source": [
    "with open(\"python1100.txt\", 'w') as file:\n",
    "    file.write(\"Yo python 1000 ko file ho.\")"
   ]
  },
  {
   "cell_type": "code",
   "execution_count": null,
   "metadata": {
    "colab": {
     "base_uri": "https://localhost:8080/"
    },
    "executionInfo": {
     "elapsed": 4,
     "status": "ok",
     "timestamp": 1706683120844,
     "user": {
      "displayName": "Kshitiz Regmi",
      "userId": "14206467826921940229"
     },
     "user_tz": -345
    },
    "id": "4RGqmuBjPRut",
    "outputId": "f7579212-2d28-4875-9e31-7140e4d755c4"
   },
   "outputs": [
    {
     "data": {
      "text/plain": [
       "True"
      ]
     },
     "execution_count": 13,
     "metadata": {},
     "output_type": "execute_result"
    }
   ],
   "source": [
    "import os\n",
    "os.path.exists('python1100.txt')"
   ]
  },
  {
   "cell_type": "code",
   "execution_count": null,
   "metadata": {
    "colab": {
     "base_uri": "https://localhost:8080/"
    },
    "executionInfo": {
     "elapsed": 6,
     "status": "ok",
     "timestamp": 1706683207286,
     "user": {
      "displayName": "Kshitiz Regmi",
      "userId": "14206467826921940229"
     },
     "user_tz": -345
    },
    "id": "AVeu4tovPbf9",
    "outputId": "d2f53648-c8c7-46b1-fa03-a685e07fc34b"
   },
   "outputs": [
    {
     "name": "stdout",
     "output_type": "stream",
     "text": [
      "Yo python 1000 ko file ho.\n"
     ]
    }
   ],
   "source": [
    "with open('python1100.txt', 'r') as file:\n",
    "    print(file.read())"
   ]
  },
  {
   "cell_type": "markdown",
   "metadata": {
    "id": "atsE-D3pP8yR"
   },
   "source": [
    "# File already exist open in write mode"
   ]
  },
  {
   "cell_type": "code",
   "execution_count": null,
   "metadata": {
    "id": "jc2VIHulPwa1"
   },
   "outputs": [],
   "source": [
    "with open(\"python1100.txt\", 'w') as file:\n",
    "    file.write(\"File already exist garthiyo tesma kei data thiyo aba lost vayo\")"
   ]
  },
  {
   "cell_type": "code",
   "execution_count": null,
   "metadata": {
    "colab": {
     "base_uri": "https://localhost:8080/"
    },
    "executionInfo": {
     "elapsed": 4,
     "status": "ok",
     "timestamp": 1706683301061,
     "user": {
      "displayName": "Kshitiz Regmi",
      "userId": "14206467826921940229"
     },
     "user_tz": -345
    },
    "id": "_O3a_-mGQGvd",
    "outputId": "f4f419f1-0140-4953-df46-7882e87fab4c"
   },
   "outputs": [
    {
     "name": "stdout",
     "output_type": "stream",
     "text": [
      "File already exist garthiyo tesma kei data thiyo aba lost vayo\n"
     ]
    }
   ],
   "source": [
    "with open('python1100.txt', 'r') as file:\n",
    "    print(file.read())"
   ]
  },
  {
   "cell_type": "markdown",
   "metadata": {
    "id": "ZDzYyCeWQkWh"
   },
   "source": [
    "# create"
   ]
  },
  {
   "cell_type": "code",
   "execution_count": null,
   "metadata": {
    "id": "ZmaVy3qEQHgS"
   },
   "outputs": [],
   "source": [
    "file = open('newfile.txt', 'x')\n",
    "file.close()"
   ]
  },
  {
   "cell_type": "markdown",
   "metadata": {
    "id": "npv53zG2PNUr"
   },
   "source": [
    "# append mode"
   ]
  },
  {
   "cell_type": "code",
   "execution_count": 3,
   "metadata": {
    "executionInfo": {
     "elapsed": 3,
     "status": "ok",
     "timestamp": 1706767066174,
     "user": {
      "displayName": "Kshitiz Regmi",
      "userId": "14206467826921940229"
     },
     "user_tz": -345
    },
    "id": "wBEn2gnvQp_K"
   },
   "outputs": [],
   "source": [
    "with open('lang.txt', 'a') as file:\n",
    "    file.write(\"python\")"
   ]
  },
  {
   "cell_type": "code",
   "execution_count": 4,
   "metadata": {
    "colab": {
     "base_uri": "https://localhost:8080/"
    },
    "executionInfo": {
     "elapsed": 9,
     "status": "ok",
     "timestamp": 1706767148169,
     "user": {
      "displayName": "Kshitiz Regmi",
      "userId": "14206467826921940229"
     },
     "user_tz": -345
    },
    "id": "4ayYrAdkPp38",
    "outputId": "20ca55ae-f5d2-42a7-a8a4-7fe3306c24b4"
   },
   "outputs": [
    {
     "name": "stdout",
     "output_type": "stream",
     "text": [
      "python\n"
     ]
    }
   ],
   "source": [
    "with open(\"lang.txt\", \"r\") as file:\n",
    "    print(file.read())"
   ]
  },
  {
   "cell_type": "code",
   "execution_count": null,
   "metadata": {
    "id": "QuVxs3jcP9_x"
   },
   "outputs": [],
   "source": [
    "# lang.txt exist garxa aba esma write garna khojyo vane append mode ma data loss hudiana"
   ]
  },
  {
   "cell_type": "code",
   "execution_count": 5,
   "metadata": {
    "executionInfo": {
     "elapsed": 614,
     "status": "ok",
     "timestamp": 1706767226566,
     "user": {
      "displayName": "Kshitiz Regmi",
      "userId": "14206467826921940229"
     },
     "user_tz": -345
    },
    "id": "7Is45AyqQM_c"
   },
   "outputs": [],
   "source": [
    "with open('lang.txt', 'a') as file:\n",
    "    file.write(\"Javascript\")"
   ]
  },
  {
   "cell_type": "code",
   "execution_count": 6,
   "metadata": {
    "colab": {
     "base_uri": "https://localhost:8080/"
    },
    "executionInfo": {
     "elapsed": 581,
     "status": "ok",
     "timestamp": 1706767233895,
     "user": {
      "displayName": "Kshitiz Regmi",
      "userId": "14206467826921940229"
     },
     "user_tz": -345
    },
    "id": "J_YzBHXhQQ80",
    "outputId": "ea1f496a-4371-4d08-818f-b7d2f21841bc"
   },
   "outputs": [
    {
     "name": "stdout",
     "output_type": "stream",
     "text": [
      "pythonJavascript\n"
     ]
    }
   ],
   "source": [
    "with open(\"lang.txt\", \"r\") as file:\n",
    "    print(file.read())"
   ]
  },
  {
   "cell_type": "markdown",
   "metadata": {
    "id": "1fjWXvv9QS05"
   },
   "source": [
    "# CSV (Common Seperated Value)"
   ]
  },
  {
   "cell_type": "code",
   "execution_count": 12,
   "metadata": {},
   "outputs": [],
   "source": [
    "header = ['roll_no', 'name']\n",
    "import csv\n",
    "\n",
    "with open ('student.csv', 'w') as file:\n",
    "    writer = csv.DictWriter(file, header)\n",
    "    writer.writeheader()\n",
    "\n",
    "    writer.writerow({'roll_no': 1, 'name': 'Khistiz'})\n",
    "    writer.writerow({'roll_no': 2, 'name': 'Sita'})"
   ]
  },
  {
   "cell_type": "code",
   "execution_count": 13,
   "metadata": {},
   "outputs": [
    {
     "name": "stdout",
     "output_type": "stream",
     "text": [
      "1 Khistiz\n",
      "2 Sita\n"
     ]
    }
   ],
   "source": [
    "import csv\n",
    "\n",
    "with open ('student.csv') as file:\n",
    "    reader = csv.DictReader(file)\n",
    "    for row in reader:\n",
    "        print(row['roll_no'], row['name'])"
   ]
  },
  {
   "cell_type": "code",
   "execution_count": null,
   "metadata": {},
   "outputs": [],
   "source": []
  }
 ],
 "metadata": {
  "colab": {
   "authorship_tag": "ABX9TyOtMEI4ifiQTHCYtJTOwiDP",
   "provenance": []
  },
  "kernelspec": {
   "display_name": "Python 3 (ipykernel)",
   "language": "python",
   "name": "python3"
  },
  "language_info": {
   "codemirror_mode": {
    "name": "ipython",
    "version": 3
   },
   "file_extension": ".py",
   "mimetype": "text/x-python",
   "name": "python",
   "nbconvert_exporter": "python",
   "pygments_lexer": "ipython3",
   "version": "3.12.1"
  }
 },
 "nbformat": 4,
 "nbformat_minor": 4
}
