{
 "cells": [
  {
   "cell_type": "markdown",
   "id": "62e9c7b3-dc02-401f-91da-431ac6c041f8",
   "metadata": {},
   "source": [
    "# syntax\n",
    "\n",
    "```python\n",
    "for index in range(start, stop, step):\n",
    "    # body of for loop\n",
    "```\n",
    "\n",
    "```python\n",
    "for item in iterables:\n",
    "    # body of for loop\n",
    "```"
   ]
  },
  {
   "cell_type": "code",
   "execution_count": 2,
   "id": "bf18d6f2-86b6-40a1-bbe3-be25f53f8df3",
   "metadata": {},
   "outputs": [
    {
     "name": "stdout",
     "output_type": "stream",
     "text": [
      "0\n",
      "1\n",
      "2\n",
      "3\n",
      "4\n"
     ]
    }
   ],
   "source": [
    "for index in range(0, 5, 1):\n",
    "    print(index)"
   ]
  },
  {
   "cell_type": "code",
   "execution_count": 3,
   "id": "1eb0132f-27f5-46fb-9463-9b95cbe75a72",
   "metadata": {},
   "outputs": [
    {
     "name": "stdout",
     "output_type": "stream",
     "text": [
      "0\n",
      "1\n",
      "2\n",
      "3\n",
      "4\n"
     ]
    }
   ],
   "source": [
    "for item in range(0, 5, 1):\n",
    "    print(item)"
   ]
  },
  {
   "cell_type": "code",
   "execution_count": 4,
   "id": "d7b7470c-5f20-4c6d-840c-b2d36b35491f",
   "metadata": {},
   "outputs": [
    {
     "name": "stdout",
     "output_type": "stream",
     "text": [
      "0\n",
      "1\n",
      "2\n",
      "3\n",
      "4\n"
     ]
    }
   ],
   "source": [
    "s= 'hello'\n",
    "for index in range (len(s)):\n",
    "    print(index)"
   ]
  },
  {
   "cell_type": "code",
   "execution_count": 7,
   "id": "34957aa7-92e2-419a-961b-71e2535502b8",
   "metadata": {},
   "outputs": [
    {
     "data": {
      "text/plain": [
       "'e'"
      ]
     },
     "execution_count": 7,
     "metadata": {},
     "output_type": "execute_result"
    }
   ],
   "source": [
    "s= 'hello'\n",
    "index = 1\n",
    "letter = s[index]\n",
    "letter"
   ]
  },
  {
   "cell_type": "code",
   "execution_count": 8,
   "id": "be4a6214-eb03-475e-98ee-262f8de3f757",
   "metadata": {},
   "outputs": [
    {
     "name": "stdout",
     "output_type": "stream",
     "text": [
      "index = 0 and letter = h\n",
      "index = 1 and letter = e\n",
      "index = 2 and letter = l\n",
      "index = 3 and letter = l\n",
      "index = 4 and letter = o\n"
     ]
    }
   ],
   "source": [
    "s = 'hello'\n",
    "for index in range (len(s)):\n",
    "    letter = s[index]\n",
    "    print (f'index = {index} and letter = {letter}')"
   ]
  },
  {
   "cell_type": "code",
   "execution_count": 9,
   "id": "068fe510-eb3f-49f6-9c27-558905c609da",
   "metadata": {},
   "outputs": [
    {
     "name": "stdout",
     "output_type": "stream",
     "text": [
      "h\n",
      "e\n",
      "l\n",
      "l\n",
      "o\n"
     ]
    }
   ],
   "source": [
    "for item in 'hello':\n",
    "    print(item)"
   ]
  },
  {
   "cell_type": "code",
   "execution_count": 10,
   "id": "79c3e209-7d52-4b74-a1ec-30d7a8cb8b85",
   "metadata": {},
   "outputs": [
    {
     "name": "stdout",
     "output_type": "stream",
     "text": [
      "h\n",
      "e\n",
      "l\n",
      "l\n",
      "o\n"
     ]
    }
   ],
   "source": [
    "s= 'hello'\n",
    "for letter in s:\n",
    "    print (letter)"
   ]
  },
  {
   "cell_type": "code",
   "execution_count": 14,
   "id": "18f51c3b-0b85-4274-aea4-be1213cf0788",
   "metadata": {},
   "outputs": [
    {
     "name": "stdout",
     "output_type": "stream",
     "text": [
      "index = 0 and letter = s\n",
      "index = 1 and letter = u\n",
      "index = 2 and letter = r\n",
      "index = 3 and letter = e\n",
      "index = 4 and letter = s\n",
      "index = 5 and letter = h\n"
     ]
    }
   ],
   "source": [
    "name = 'suresh'\n",
    "for index in range (len(name)):\n",
    "    letter = name[index]\n",
    "    print(f'index = {index} and letter = {letter}')"
   ]
  },
  {
   "cell_type": "code",
   "execution_count": 15,
   "id": "11df859a-1281-49b1-b54d-931b1e2e6dac",
   "metadata": {},
   "outputs": [],
   "source": [
    "car = ['audi' , 'toyota' , 'bmw']"
   ]
  },
  {
   "cell_type": "code",
   "execution_count": 17,
   "id": "a37749dc-66ad-4990-b980-0fc7115e7ab0",
   "metadata": {},
   "outputs": [
    {
     "data": {
      "text/plain": [
       "'toyota'"
      ]
     },
     "execution_count": 17,
     "metadata": {},
     "output_type": "execute_result"
    }
   ],
   "source": [
    "index = 1\n",
    "item = car [index]\n",
    "item"
   ]
  },
  {
   "cell_type": "code",
   "execution_count": 18,
   "id": "2bbcf751-1ab3-4bab-b30e-a843e681761d",
   "metadata": {},
   "outputs": [
    {
     "name": "stdout",
     "output_type": "stream",
     "text": [
      "audi\n",
      "toyota\n",
      "bmw\n"
     ]
    }
   ],
   "source": [
    "for index in range (len(car)):\n",
    "    item = car[index]\n",
    "    print(item)"
   ]
  },
  {
   "cell_type": "code",
   "execution_count": 20,
   "id": "8f0ea356-29a1-48c2-8b0e-1a4974751854",
   "metadata": {},
   "outputs": [
    {
     "name": "stdout",
     "output_type": "stream",
     "text": [
      "audi\n",
      "toyota\n",
      "bmw\n"
     ]
    }
   ],
   "source": [
    "car = ['audi' , 'toyota' , 'bmw']\n",
    "for items in car:\n",
    "    print(items)"
   ]
  },
  {
   "cell_type": "code",
   "execution_count": null,
   "id": "65a81a98-8bb9-423e-b66d-ca0ecccd629f",
   "metadata": {},
   "outputs": [],
   "source": []
  }
 ],
 "metadata": {
  "kernelspec": {
   "display_name": "Python 3 (ipykernel)",
   "language": "python",
   "name": "python3"
  },
  "language_info": {
   "codemirror_mode": {
    "name": "ipython",
    "version": 3
   },
   "file_extension": ".py",
   "mimetype": "text/x-python",
   "name": "python",
   "nbconvert_exporter": "python",
   "pygments_lexer": "ipython3",
   "version": "3.12.1"
  }
 },
 "nbformat": 4,
 "nbformat_minor": 5
}
