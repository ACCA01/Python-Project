{
 "cells": [
  {
   "cell_type": "code",
   "execution_count": 3,
   "id": "addcd73c-509e-42b0-9ffd-3d7b4da4225f",
   "metadata": {},
   "outputs": [],
   "source": [
    "with open('lang.txt', 'a') as file:\n",
    "    file.write('python')"
   ]
  },
  {
   "cell_type": "code",
   "execution_count": 4,
   "id": "b8fba098-609d-4ab2-aea9-7ba5800ac458",
   "metadata": {},
   "outputs": [
    {
     "name": "stdout",
     "output_type": "stream",
     "text": [
      "pythonjavascriptpython\n"
     ]
    }
   ],
   "source": [
    "with open('lang.txt', 'r') as file:\n",
    "    print(file.read())"
   ]
  },
  {
   "cell_type": "code",
   "execution_count": 5,
   "id": "a7555804-6095-4f9b-9419-f501ed89f3dd",
   "metadata": {},
   "outputs": [],
   "source": [
    "# lang.txt exist gar6 aba esma write garna khojyo bhane append mode ma data loss hudaina"
   ]
  },
  {
   "cell_type": "code",
   "execution_count": 6,
   "id": "854c89db-3eb7-4ee1-abfc-a4b33f50f1d3",
   "metadata": {},
   "outputs": [],
   "source": [
    "with open('lang.txt', 'a') as file:\n",
    "    file.write('javascript')"
   ]
  },
  {
   "cell_type": "code",
   "execution_count": 7,
   "id": "1118b4b9-6be7-441d-b013-36f98dd77954",
   "metadata": {},
   "outputs": [
    {
     "name": "stdout",
     "output_type": "stream",
     "text": [
      "pythonjavascriptpythonjavascript\n"
     ]
    }
   ],
   "source": [
    "with open('lang.txt', 'r') as file:\n",
    "    print(file.read())"
   ]
  },
  {
   "cell_type": "code",
   "execution_count": 8,
   "id": "7dd9055d-1bf0-4b5d-8880-3506209c2ade",
   "metadata": {},
   "outputs": [],
   "source": [
    "with open('lang.text', 'a') as file:\n",
    "    file.write('I love Nepal')"
   ]
  },
  {
   "cell_type": "code",
   "execution_count": 15,
   "id": "98205eb0-5113-4e5d-b3ba-6ccca2cd53e0",
   "metadata": {},
   "outputs": [],
   "source": [
    "with open('Nepal.txt', 'a') as file:\n",
    "    file.write('i am at nepal')"
   ]
  },
  {
   "cell_type": "code",
   "execution_count": null,
   "id": "f0ca5d5c-06a0-439e-aee9-5d688ff883e9",
   "metadata": {},
   "outputs": [],
   "source": []
  }
 ],
 "metadata": {
  "kernelspec": {
   "display_name": "Python 3 (ipykernel)",
   "language": "python",
   "name": "python3"
  },
  "language_info": {
   "codemirror_mode": {
    "name": "ipython",
    "version": 3
   },
   "file_extension": ".py",
   "mimetype": "text/x-python",
   "name": "python",
   "nbconvert_exporter": "python",
   "pygments_lexer": "ipython3",
   "version": "3.12.1"
  }
 },
 "nbformat": 4,
 "nbformat_minor": 5
}
