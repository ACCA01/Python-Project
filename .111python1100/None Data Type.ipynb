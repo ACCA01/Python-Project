{
 "cells": [
  {
   "cell_type": "code",
   "execution_count": 3,
   "id": "efb5f24a-8708-4cdb-89d1-d0c3959f29d0",
   "metadata": {},
   "outputs": [
    {
     "name": "stdout",
     "output_type": "stream",
     "text": [
      "None\n"
     ]
    },
    {
     "data": {
      "text/plain": [
       "NoneType"
      ]
     },
     "execution_count": 3,
     "metadata": {},
     "output_type": "execute_result"
    }
   ],
   "source": [
    "a = None\n",
    "print(a)\n",
    "type(a)"
   ]
  },
  {
   "cell_type": "code",
   "execution_count": 4,
   "id": "5aecd443-abef-492a-aa97-01293076406c",
   "metadata": {},
   "outputs": [
    {
     "data": {
      "text/plain": [
       "False"
      ]
     },
     "execution_count": 4,
     "metadata": {},
     "output_type": "execute_result"
    }
   ],
   "source": [
    "a == False"
   ]
  },
  {
   "cell_type": "code",
   "execution_count": 5,
   "id": "beb89976-2167-4375-bf2f-0f0d3511c2c8",
   "metadata": {},
   "outputs": [
    {
     "data": {
      "text/plain": [
       "False"
      ]
     },
     "execution_count": 5,
     "metadata": {},
     "output_type": "execute_result"
    }
   ],
   "source": [
    "a == 0"
   ]
  },
  {
   "cell_type": "markdown",
   "id": "c85a6c17-d830-4d4d-8c91-32da851ae224",
   "metadata": {},
   "source": [
    "# only None can be None"
   ]
  },
  {
   "cell_type": "code",
   "execution_count": 6,
   "id": "23427a94-5bad-405a-b109-6634d32f79ba",
   "metadata": {},
   "outputs": [],
   "source": [
    "x = None"
   ]
  },
  {
   "cell_type": "code",
   "execution_count": 9,
   "id": "ec91d026-f204-4187-8d38-84af63d815b7",
   "metadata": {},
   "outputs": [
    {
     "data": {
      "text/plain": [
       "True"
      ]
     },
     "execution_count": 9,
     "metadata": {},
     "output_type": "execute_result"
    }
   ],
   "source": [
    "x== None # Bad practice"
   ]
  },
  {
   "cell_type": "markdown",
   "id": "2a22d0f1-dae9-47d0-bca5-01a3f84ee7a0",
   "metadata": {},
   "source": [
    "# is and is not are identity operator in python"
   ]
  },
  {
   "cell_type": "code",
   "execution_count": 10,
   "id": "3496756d-19e3-4833-b891-c2a0f5d59261",
   "metadata": {},
   "outputs": [
    {
     "data": {
      "text/plain": [
       "True"
      ]
     },
     "execution_count": 10,
     "metadata": {},
     "output_type": "execute_result"
    }
   ],
   "source": [
    "x is None # Preferred"
   ]
  },
  {
   "cell_type": "code",
   "execution_count": 11,
   "id": "c226174b-216c-4423-b51a-4d64578b245f",
   "metadata": {},
   "outputs": [
    {
     "name": "stdout",
     "output_type": "stream",
     "text": [
      "True\n",
      "False\n",
      "True\n"
     ]
    }
   ],
   "source": [
    "x = None\n",
    "print(x is None)\n",
    "print (x is not None)\n",
    "print (x is not float)"
   ]
  },
  {
   "cell_type": "code",
   "execution_count": 13,
   "id": "b938e741-2017-403c-9c31-b229455e13bd",
   "metadata": {},
   "outputs": [],
   "source": [
    "# Identity Operator are used to compare the objects, not if they are equal, but if they are actually the same object with the same memory location."
   ]
  },
  {
   "cell_type": "code",
   "execution_count": null,
   "id": "388faebe-9efe-46a3-b548-ae17da6ab31a",
   "metadata": {},
   "outputs": [],
   "source": []
  }
 ],
 "metadata": {
  "kernelspec": {
   "display_name": "Python 3 (ipykernel)",
   "language": "python",
   "name": "python3"
  },
  "language_info": {
   "codemirror_mode": {
    "name": "ipython",
    "version": 3
   },
   "file_extension": ".py",
   "mimetype": "text/x-python",
   "name": "python",
   "nbconvert_exporter": "python",
   "pygments_lexer": "ipython3",
   "version": "3.12.1"
  }
 },
 "nbformat": 4,
 "nbformat_minor": 5
}
