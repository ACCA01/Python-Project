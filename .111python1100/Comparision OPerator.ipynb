{
 "cells": [
  {
   "cell_type": "code",
   "execution_count": 3,
   "id": "74ad0e2a-8260-4f4b-8af2-e374b797d794",
   "metadata": {},
   "outputs": [],
   "source": [
    "num1 = 50\n",
    "num2 = 50"
   ]
  },
  {
   "cell_type": "code",
   "execution_count": 4,
   "id": "fa398528-2ac6-4163-817b-3ca35003c760",
   "metadata": {},
   "outputs": [
    {
     "data": {
      "text/plain": [
       "True"
      ]
     },
     "execution_count": 4,
     "metadata": {},
     "output_type": "execute_result"
    }
   ],
   "source": [
    "num1 == num2 # == means equals to ; = means assignment operator"
   ]
  },
  {
   "cell_type": "code",
   "execution_count": 5,
   "id": "c82e5d26-8214-4a16-bf3c-04b356e83a75",
   "metadata": {},
   "outputs": [
    {
     "data": {
      "text/plain": [
       "False"
      ]
     },
     "execution_count": 5,
     "metadata": {},
     "output_type": "execute_result"
    }
   ],
   "source": [
    "5 == 3"
   ]
  },
  {
   "cell_type": "code",
   "execution_count": 7,
   "id": "beee26a4-2cd4-4b70-aa27-9e43e2a3e092",
   "metadata": {},
   "outputs": [
    {
     "data": {
      "text/plain": [
       "True"
      ]
     },
     "execution_count": 7,
     "metadata": {},
     "output_type": "execute_result"
    }
   ],
   "source": [
    "5!= 3 # != means not equals to"
   ]
  },
  {
   "cell_type": "code",
   "execution_count": 8,
   "id": "07777407-9350-4d13-b8bf-b0088bb68aaa",
   "metadata": {},
   "outputs": [],
   "source": [
    "# five is not equals to 3"
   ]
  },
  {
   "cell_type": "code",
   "execution_count": 11,
   "id": "1ee9d3f4-9842-45e3-b81e-d8f19250d4a5",
   "metadata": {},
   "outputs": [
    {
     "data": {
      "text/plain": [
       "True"
      ]
     },
     "execution_count": 11,
     "metadata": {},
     "output_type": "execute_result"
    }
   ],
   "source": [
    "# 2 is greater than 1 ?\n",
    "2 > 1 "
   ]
  },
  {
   "cell_type": "code",
   "execution_count": 12,
   "id": "4b14779f-ca4d-4054-9591-76e0e5485a1a",
   "metadata": {},
   "outputs": [
    {
     "data": {
      "text/plain": [
       "True"
      ]
     },
     "execution_count": 12,
     "metadata": {},
     "output_type": "execute_result"
    }
   ],
   "source": [
    "# 2 is less than 9 ?\n",
    "2 < 9"
   ]
  },
  {
   "cell_type": "code",
   "execution_count": 14,
   "id": "870c39cb-dde2-46fb-9bad-470e14fd13c8",
   "metadata": {},
   "outputs": [
    {
     "data": {
      "text/plain": [
       "False"
      ]
     },
     "execution_count": 14,
     "metadata": {},
     "output_type": "execute_result"
    }
   ],
   "source": [
    "55 < 22 # is 55 less than 22 ?"
   ]
  },
  {
   "cell_type": "code",
   "execution_count": 16,
   "id": "881f1743-6b80-44b3-a1d1-786e435c2519",
   "metadata": {},
   "outputs": [
    {
     "data": {
      "text/plain": [
       "True"
      ]
     },
     "execution_count": 16,
     "metadata": {},
     "output_type": "execute_result"
    }
   ],
   "source": [
    "# is 2 is less than or equals to 2?\n",
    "2 <= 2"
   ]
  },
  {
   "cell_type": "code",
   "execution_count": 17,
   "id": "b2e4535d-ff17-46b3-ae27-688798de9590",
   "metadata": {},
   "outputs": [
    {
     "data": {
      "text/plain": [
       "True"
      ]
     },
     "execution_count": 17,
     "metadata": {},
     "output_type": "execute_result"
    }
   ],
   "source": [
    "# is 5 is greater or equals to 3 ?\n",
    "5 >= 3"
   ]
  },
  {
   "cell_type": "code",
   "execution_count": null,
   "id": "2481754e-af01-4419-97b6-85b1b290f24f",
   "metadata": {},
   "outputs": [],
   "source": []
  }
 ],
 "metadata": {
  "kernelspec": {
   "display_name": "Python 3 (ipykernel)",
   "language": "python",
   "name": "python3"
  },
  "language_info": {
   "codemirror_mode": {
    "name": "ipython",
    "version": 3
   },
   "file_extension": ".py",
   "mimetype": "text/x-python",
   "name": "python",
   "nbconvert_exporter": "python",
   "pygments_lexer": "ipython3",
   "version": "3.12.1"
  }
 },
 "nbformat": 4,
 "nbformat_minor": 5
}
