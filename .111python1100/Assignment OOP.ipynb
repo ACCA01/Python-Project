{
 "cells": [
  {
   "cell_type": "code",
   "execution_count": 9,
   "id": "575c3db1-4b40-44fb-afe2-7b3dcb305591",
   "metadata": {},
   "outputs": [],
   "source": [
    "import math\n",
    "class Circle:\n",
    "    def __init__(self, radius):\n",
    "        self.radius = radius\n",
    "\n",
    "    def area(self):\n",
    "        return math.pi * self.radius ** 2       "
   ]
  },
  {
   "cell_type": "code",
   "execution_count": 10,
   "id": "03319b5f-aee8-439e-9690-23a895a8b9be",
   "metadata": {},
   "outputs": [],
   "source": [
    "c1 = Circle (radius = 5)\n",
    "c2 = Circle (radius = 3)"
   ]
  },
  {
   "cell_type": "code",
   "execution_count": 11,
   "id": "1cea60a2-934a-4db0-82e3-b5295c26dd02",
   "metadata": {},
   "outputs": [
    {
     "data": {
      "text/plain": [
       "78.53981633974483"
      ]
     },
     "execution_count": 11,
     "metadata": {},
     "output_type": "execute_result"
    }
   ],
   "source": [
    "c1.area()"
   ]
  },
  {
   "cell_type": "code",
   "execution_count": 14,
   "id": "cdcf30a6-f3e7-4849-bfe2-0d97b1137707",
   "metadata": {},
   "outputs": [
    {
     "data": {
      "text/plain": [
       "28.27"
      ]
     },
     "execution_count": 14,
     "metadata": {},
     "output_type": "execute_result"
    }
   ],
   "source": [
    "round(c2.area(),2)"
   ]
  },
  {
   "cell_type": "code",
   "execution_count": 16,
   "id": "7a16d003-e201-4dac-910a-0037617102d5",
   "metadata": {},
   "outputs": [
    {
     "name": "stdin",
     "output_type": "stream",
     "text": [
      "enter a radius:  5\n"
     ]
    },
    {
     "data": {
      "text/plain": [
       "78.53981633974483"
      ]
     },
     "execution_count": 16,
     "metadata": {},
     "output_type": "execute_result"
    }
   ],
   "source": [
    "r = float(input(\"enter a radius: \"))\n",
    "c1 = Circle(radius = r)\n",
    "c1.area()"
   ]
  },
  {
   "cell_type": "code",
   "execution_count": null,
   "id": "12afed0d-fd39-4cf5-abdb-89ca6b14ccbc",
   "metadata": {},
   "outputs": [],
   "source": []
  }
 ],
 "metadata": {
  "kernelspec": {
   "display_name": "Python 3 (ipykernel)",
   "language": "python",
   "name": "python3"
  },
  "language_info": {
   "codemirror_mode": {
    "name": "ipython",
    "version": 3
   },
   "file_extension": ".py",
   "mimetype": "text/x-python",
   "name": "python",
   "nbconvert_exporter": "python",
   "pygments_lexer": "ipython3",
   "version": "3.12.1"
  }
 },
 "nbformat": 4,
 "nbformat_minor": 5
}
